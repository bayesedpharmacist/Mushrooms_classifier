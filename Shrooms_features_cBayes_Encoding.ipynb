{
 "cells": [
  {
   "cell_type": "markdown",
   "source": [
    "# Describes the categorical Bayes encoding of selected mushrooms features to feed in CNN"
   ],
   "metadata": {
    "collapsed": false,
    "pycharm": {
     "name": "#%% md\n"
    }
   }
  },
  {
   "cell_type": "code",
   "execution_count": 1,
   "outputs": [],
   "source": [
    "import os\n",
    "import numpy as np\n",
    "from numpy import asarray\n",
    "from sklearn.preprocessing import OneHotEncoder\n",
    "import pandas as pd\n",
    "import joblib"
   ],
   "metadata": {
    "collapsed": false,
    "pycharm": {
     "name": "#%%\n"
    }
   }
  },
  {
   "cell_type": "markdown",
   "source": [
    "Loading DataFrame with mushroom features"
   ],
   "metadata": {
    "collapsed": false,
    "pycharm": {
     "name": "#%% md\n"
    }
   }
  },
  {
   "cell_type": "code",
   "execution_count": 2,
   "id": "49560e41-8d2b-4bff-bf2c-b910325a62d9",
   "metadata": {
    "pycharm": {
     "name": "#%%\n"
    }
   },
   "outputs": [],
   "source": [
    "df_shrooms = pd.read_csv('Shrooms_species_corrected.csv')"
   ]
  },
  {
   "cell_type": "code",
   "execution_count": 3,
   "id": "16b25134-ca79-44d4-9636-42efe38dd42b",
   "metadata": {
    "pycharm": {
     "name": "#%%\n"
    }
   },
   "outputs": [
    {
     "data": {
      "text/plain": "                   species hymenium hymenium_color ring cap_color cap_scales\n0        agaricus_arvensis    gills     pink-brown  yes     white         no\n1        agaricus_augustus    gills     pink-brown  yes     brown        yes\n2       agaricus_bitorquis    gills     pink-brown  yes     white         no\n3      agaricus_campestris    gills     pink-brown  yes     white         no\n4       agaricus_impudicus    gills     pink-brown  yes     brown        yes\n5    agaricus_xanthodermus    gills     pink-brown  yes     white        yes\n6        agrocybe_pediades    gills          brown   no    yellow         no\n7         agrocybe_praecox    gills     pink-white   no    yellow         no\n8          amanita_excelsa    gills          white  yes     brown        yes\n9            amanita_fulva    gills          white   no     brown         no\n10        amanita_muscaria    gills          white  yes       red        yes\n11      amanita_pantherina    gills          white  yes     brown        yes\n12      amanita_phalloides    gills          white  yes  greenish         no\n13       amanita_rubescens    gills          white  yes     brown        yes\n14  amanita_strobiliformis    gills          white   no     white        yes\n15        amanita_vaginata    gills          white   no     white         no\n16          amanita_virosa    gills          white  yes     white         no",
      "text/html": "<div>\n<style scoped>\n    .dataframe tbody tr th:only-of-type {\n        vertical-align: middle;\n    }\n\n    .dataframe tbody tr th {\n        vertical-align: top;\n    }\n\n    .dataframe thead th {\n        text-align: right;\n    }\n</style>\n<table border=\"1\" class=\"dataframe\">\n  <thead>\n    <tr style=\"text-align: right;\">\n      <th></th>\n      <th>species</th>\n      <th>hymenium</th>\n      <th>hymenium_color</th>\n      <th>ring</th>\n      <th>cap_color</th>\n      <th>cap_scales</th>\n    </tr>\n  </thead>\n  <tbody>\n    <tr>\n      <th>0</th>\n      <td>agaricus_arvensis</td>\n      <td>gills</td>\n      <td>pink-brown</td>\n      <td>yes</td>\n      <td>white</td>\n      <td>no</td>\n    </tr>\n    <tr>\n      <th>1</th>\n      <td>agaricus_augustus</td>\n      <td>gills</td>\n      <td>pink-brown</td>\n      <td>yes</td>\n      <td>brown</td>\n      <td>yes</td>\n    </tr>\n    <tr>\n      <th>2</th>\n      <td>agaricus_bitorquis</td>\n      <td>gills</td>\n      <td>pink-brown</td>\n      <td>yes</td>\n      <td>white</td>\n      <td>no</td>\n    </tr>\n    <tr>\n      <th>3</th>\n      <td>agaricus_campestris</td>\n      <td>gills</td>\n      <td>pink-brown</td>\n      <td>yes</td>\n      <td>white</td>\n      <td>no</td>\n    </tr>\n    <tr>\n      <th>4</th>\n      <td>agaricus_impudicus</td>\n      <td>gills</td>\n      <td>pink-brown</td>\n      <td>yes</td>\n      <td>brown</td>\n      <td>yes</td>\n    </tr>\n    <tr>\n      <th>5</th>\n      <td>agaricus_xanthodermus</td>\n      <td>gills</td>\n      <td>pink-brown</td>\n      <td>yes</td>\n      <td>white</td>\n      <td>yes</td>\n    </tr>\n    <tr>\n      <th>6</th>\n      <td>agrocybe_pediades</td>\n      <td>gills</td>\n      <td>brown</td>\n      <td>no</td>\n      <td>yellow</td>\n      <td>no</td>\n    </tr>\n    <tr>\n      <th>7</th>\n      <td>agrocybe_praecox</td>\n      <td>gills</td>\n      <td>pink-white</td>\n      <td>no</td>\n      <td>yellow</td>\n      <td>no</td>\n    </tr>\n    <tr>\n      <th>8</th>\n      <td>amanita_excelsa</td>\n      <td>gills</td>\n      <td>white</td>\n      <td>yes</td>\n      <td>brown</td>\n      <td>yes</td>\n    </tr>\n    <tr>\n      <th>9</th>\n      <td>amanita_fulva</td>\n      <td>gills</td>\n      <td>white</td>\n      <td>no</td>\n      <td>brown</td>\n      <td>no</td>\n    </tr>\n    <tr>\n      <th>10</th>\n      <td>amanita_muscaria</td>\n      <td>gills</td>\n      <td>white</td>\n      <td>yes</td>\n      <td>red</td>\n      <td>yes</td>\n    </tr>\n    <tr>\n      <th>11</th>\n      <td>amanita_pantherina</td>\n      <td>gills</td>\n      <td>white</td>\n      <td>yes</td>\n      <td>brown</td>\n      <td>yes</td>\n    </tr>\n    <tr>\n      <th>12</th>\n      <td>amanita_phalloides</td>\n      <td>gills</td>\n      <td>white</td>\n      <td>yes</td>\n      <td>greenish</td>\n      <td>no</td>\n    </tr>\n    <tr>\n      <th>13</th>\n      <td>amanita_rubescens</td>\n      <td>gills</td>\n      <td>white</td>\n      <td>yes</td>\n      <td>brown</td>\n      <td>yes</td>\n    </tr>\n    <tr>\n      <th>14</th>\n      <td>amanita_strobiliformis</td>\n      <td>gills</td>\n      <td>white</td>\n      <td>no</td>\n      <td>white</td>\n      <td>yes</td>\n    </tr>\n    <tr>\n      <th>15</th>\n      <td>amanita_vaginata</td>\n      <td>gills</td>\n      <td>white</td>\n      <td>no</td>\n      <td>white</td>\n      <td>no</td>\n    </tr>\n    <tr>\n      <th>16</th>\n      <td>amanita_virosa</td>\n      <td>gills</td>\n      <td>white</td>\n      <td>yes</td>\n      <td>white</td>\n      <td>no</td>\n    </tr>\n  </tbody>\n</table>\n</div>"
     },
     "execution_count": 3,
     "metadata": {},
     "output_type": "execute_result"
    }
   ],
   "source": [
    "df_shrooms.head(17)"
   ]
  },
  {
   "cell_type": "code",
   "execution_count": 4,
   "id": "9f2d1f98-3386-4565-b6ad-12ed04b107de",
   "metadata": {
    "pycharm": {
     "name": "#%%\n"
    }
   },
   "outputs": [
    {
     "data": {
      "text/plain": "Index(['species', 'hymenium', 'hymenium_color', 'ring', 'cap_color',\n       'cap_scales'],\n      dtype='object')"
     },
     "execution_count": 4,
     "metadata": {},
     "output_type": "execute_result"
    }
   ],
   "source": [
    "df_shrooms.columns"
   ]
  },
  {
   "cell_type": "markdown",
   "source": [
    "Loading DataFrame with families to the corresponding species"
   ],
   "metadata": {
    "collapsed": false,
    "pycharm": {
     "name": "#%% md\n"
    }
   }
  },
  {
   "cell_type": "code",
   "execution_count": 5,
   "id": "4fee7467-8a46-4e08-82d0-b32f4c809b9d",
   "metadata": {
    "pycharm": {
     "name": "#%%\n"
    }
   },
   "outputs": [],
   "source": [
    "df_ylabel = pd.read_csv('Shrooms_families.csv')"
   ]
  },
  {
   "cell_type": "code",
   "execution_count": 6,
   "id": "efffabbd-55ac-42c6-acba-59d9f9de5503",
   "metadata": {
    "pycharm": {
     "name": "#%%\n"
    }
   },
   "outputs": [],
   "source": [
    "df_ylabel_series = df_ylabel[df_ylabel.columns[0]]"
   ]
  },
  {
   "cell_type": "code",
   "execution_count": 7,
   "id": "f12ea8d8-6e49-477c-a671-b0b12afe892c",
   "metadata": {
    "pycharm": {
     "name": "#%%\n"
    }
   },
   "outputs": [
    {
     "data": {
      "text/plain": "0           agaricaceae\n1           agaricaceae\n2           agaricaceae\n3           agaricaceae\n4           agaricaceae\n             ...       \n209          pluteaceae\n210    tricholomataceae\n211        polyporaceae\n212        polyporaceae\n213          boletaceae\nName: family, Length: 214, dtype: object"
     },
     "execution_count": 7,
     "metadata": {},
     "output_type": "execute_result"
    }
   ],
   "source": [
    "df_ylabel_series"
   ]
  },
  {
   "cell_type": "code",
   "execution_count": 8,
   "id": "6580f815-20f0-46f9-aed7-674846ea634b",
   "metadata": {
    "pycharm": {
     "name": "#%%\n"
    }
   },
   "outputs": [
    {
     "data": {
      "text/plain": "35"
     },
     "execution_count": 8,
     "metadata": {},
     "output_type": "execute_result"
    }
   ],
   "source": [
    "len(df_ylabel.family.unique())"
   ]
  },
  {
   "cell_type": "markdown",
   "source": [
    "OneHotEncoding the 35 families to which the 214 species belong"
   ],
   "metadata": {
    "collapsed": false,
    "pycharm": {
     "name": "#%% md\n"
    }
   }
  },
  {
   "cell_type": "code",
   "execution_count": 9,
   "id": "8b33de09-6e80-4e03-a149-f8e9c31be81a",
   "metadata": {
    "pycharm": {
     "name": "#%%\n"
    }
   },
   "outputs": [],
   "source": [
    "ohe = OneHotEncoder(sparse = False)"
   ]
  },
  {
   "cell_type": "code",
   "execution_count": 10,
   "id": "dd264e3e-4c6d-4c65-a335-23083b84f69a",
   "metadata": {
    "pycharm": {
     "name": "#%%\n"
    }
   },
   "outputs": [],
   "source": [
    "y_train = ohe.fit_transform(df_ylabel)"
   ]
  },
  {
   "cell_type": "code",
   "execution_count": 11,
   "id": "37617ee7-82c4-4bae-8230-2f878ac6d6fa",
   "metadata": {
    "pycharm": {
     "name": "#%%\n"
    }
   },
   "outputs": [
    {
     "data": {
      "text/plain": "(214, 35)"
     },
     "execution_count": 11,
     "metadata": {},
     "output_type": "execute_result"
    }
   ],
   "source": [
    "y_train.shape"
   ]
  },
  {
   "cell_type": "markdown",
   "id": "bc1d6141-6e06-4fb1-9d8d-ccc32a43d76c",
   "metadata": {
    "pycharm": {
     "name": "#%% md\n"
    }
   },
   "source": [
    "convert 2d array to series"
   ]
  },
  {
   "cell_type": "code",
   "execution_count": 12,
   "id": "8446fedc-9ff7-4843-bd4a-35f90f4928a1",
   "metadata": {
    "pycharm": {
     "name": "#%%\n"
    }
   },
   "outputs": [],
   "source": [
    "y_train_series = pd.Series(y_train.tolist())"
   ]
  },
  {
   "cell_type": "code",
   "execution_count": 13,
   "id": "9df0a93f-7c8d-4dad-88d4-0a65be3c13de",
   "metadata": {
    "pycharm": {
     "name": "#%%\n"
    }
   },
   "outputs": [
    {
     "data": {
      "text/plain": "0      [1.0, 0.0, 0.0, 0.0, 0.0, 0.0, 0.0, 0.0, 0.0, ...\n1      [1.0, 0.0, 0.0, 0.0, 0.0, 0.0, 0.0, 0.0, 0.0, ...\n2      [1.0, 0.0, 0.0, 0.0, 0.0, 0.0, 0.0, 0.0, 0.0, ...\n3      [1.0, 0.0, 0.0, 0.0, 0.0, 0.0, 0.0, 0.0, 0.0, ...\n4      [1.0, 0.0, 0.0, 0.0, 0.0, 0.0, 0.0, 0.0, 0.0, ...\n                             ...                        \n209    [0.0, 0.0, 0.0, 0.0, 0.0, 0.0, 0.0, 0.0, 0.0, ...\n210    [0.0, 0.0, 0.0, 0.0, 0.0, 0.0, 0.0, 0.0, 0.0, ...\n211    [0.0, 0.0, 0.0, 0.0, 0.0, 0.0, 0.0, 0.0, 0.0, ...\n212    [0.0, 0.0, 0.0, 0.0, 0.0, 0.0, 0.0, 0.0, 0.0, ...\n213    [0.0, 0.0, 0.0, 1.0, 0.0, 0.0, 0.0, 0.0, 0.0, ...\nLength: 214, dtype: object"
     },
     "execution_count": 13,
     "metadata": {},
     "output_type": "execute_result"
    }
   ],
   "source": [
    "y_train_series"
   ]
  },
  {
   "cell_type": "code",
   "execution_count": 14,
   "id": "58c1ea63-c72f-462d-89cb-0fb6ca97fad6",
   "metadata": {
    "pycharm": {
     "name": "#%%\n"
    }
   },
   "outputs": [],
   "source": [
    "directory = 'original_data/Sample_data/'"
   ]
  },
  {
   "cell_type": "markdown",
   "source": [
    "List the directory with test data"
   ],
   "metadata": {
    "collapsed": false,
    "pycharm": {
     "name": "#%% md\n"
    }
   }
  },
  {
   "cell_type": "code",
   "execution_count": 15,
   "id": "613bf91c-5a24-434d-ab87-2ec25f9a3797",
   "metadata": {
    "scrolled": true,
    "tags": [],
    "pycharm": {
     "name": "#%%\n"
    }
   },
   "outputs": [
    {
     "data": {
      "text/plain": "['67478_Lentinus_substrictus',\n '21151_Tricholoma_sulphureum',\n '14119_Galerina_marginata',\n '14881_Cuphophyllus_virgineus',\n '61351_Hygrocybe_coccinea',\n '67628_Sutorius_luridiformis',\n '15955_Lactifluus_volemus',\n '13099_Dermoloma_cuneifolium',\n '17296_Mycena_sanguinolenta',\n '14056_Flammulina_velutipes var. velutipes',\n '21155_Tricholoma_ustale',\n '14422_Gymnopilus_spectabilis',\n '20093_Russula_vesca',\n '61239_Coprinopsis_lagopus',\n '12587_Cortinarius_rubellus',\n '17238_Mycena_haematopus',\n '17924_Mucidula_mucida',\n '17289_Mycena_rosea',\n '12656_Cortinarius_torvus',\n '13739_Entoloma_rhodopolium',\n '10062_Agaricus_bitorquis',\n '10065_Agaricus_campestris',\n '11062_Butyriboletus_appendiculatus',\n '16117_Leccinum_versipelle',\n '14812_Hydropus_subalpinus',\n '11091_Caloboletus_radicans',\n '16660_Macrolepiota_procera',\n '16601_Lycoperdon_perlatum',\n '21143_Tricholoma_scalpturatum',\n '18911_Pluteus_phlebophorus',\n '14798_Hydnum_repandum',\n '14914_Hygrophorus_olivaceoalbus',\n '11068_Caloboletus_calopus',\n '18363_Phallus_impudicus',\n '17215_Mycena_crocata',\n '15481_Inocybe_sindonia',\n '12268_Cortinarius_alboviolaceus',\n '20024_Russula_ochroleuca',\n '16105_Leccinum_quercinum',\n '60778_Pholiotina_aporos',\n '14852_Hygrocybe_miniata var. miniata',\n '16620_Lyophyllum_fumosum',\n '19848_Rickenella_fibula',\n '11064_Imleria_badia',\n '10527_Armillaria_ostoyae',\n '14822_Hygrocybe_cantharellus',\n '14863_Hygrocybe_punicea',\n '21152_Tricholoma_terreum',\n '17156_Morchella_semilibera',\n '20682_Strobilurus_esculentus',\n '12494_Cortinarius_malicorius',\n '10266_Amanita_strobiliformis',\n '64530_Tricholoma_inocybeoides',\n '11081_Pseudoboletus_parasiticus',\n '20705_Protostropharia_semiglobata',\n '14855_Neohygrocybe_nitrata',\n '20225_Scleroderma_verrucosum',\n '12066_Coprinus_comatus',\n '19181_Psathyrella_spadiceogrisea',\n '10128_Agrocybe_praecox',\n '11095_Hortiboletus_rubellus',\n '16158_Leotia_lubrica',\n '12280_Cortinarius_anserinus',\n '17242_Mycena_inclinata',\n '10234_Amanita_fulva',\n '16165_Echinoderma_asperum',\n '15651_Laccaria_proxima',\n '13765_Entoloma_serrulatum',\n '17150_Morchella_conica',\n '10263_Amanita_rubescens',\n '21761_Hymenopellis_radicata',\n '16179_Lepiota_cristata',\n '61207_Coprinellus_micaceus',\n '16694_Mycetinis_alliaceus',\n '17325_Mycena_vitilis',\n '17178_Mycena_abramsii',\n '60902_Lepista_saeva',\n '11325_Cantharellus_pallens',\n '17307_Mycena_speirea',\n '11317_Cantharellus_cibarius',\n '19213_Pseudoclitocybe_cyathiformis',\n '12933_Cystoderma_amianthinum',\n '61228_Coprinellus_disseminatus',\n '15969_Laetiporus_sulphureus',\n '11767_Clitocybe_fragrans',\n '14824_Hygrocybe_chlorophana',\n '11086_Xerocomellus_pruinatus',\n '40392_Armillaria_lutea',\n '14607_Helvella_crispa',\n '11088_Cyanoboletus_pulverulentus',\n '16809_Melanoleuca_cognata',\n '16597_Lycoperdon_nigrescens',\n '20697_Stropharia_cyanea',\n '67297_Volvopluteus_gloiocephalus',\n '20090_Russula_velutipes',\n '63575_Chlorophyllum_olivieri',\n '19105_Psathyrella_candolleana',\n '14434_Gymnopus_confluens',\n '17272_Mycena_pelianthina',\n '63641_Hygrocybe_miniata',\n '14435_Gymnopus_dryophilus',\n '14190_Geastrum_michelianum',\n '10271_Amanita_vaginata var. vaginata',\n '16763_Megacollybia_platyphylla',\n '10127_Agrocybe_pediades',\n '45107_Morchella_vulgaris',\n '18866_Pleurotus_dryinus',\n '18486_Pholiota_gummosa',\n '11069_Boletus_edulis',\n '10116_Agaricus_xanthodermus',\n '16649_Macrolepiota_excoriata',\n '14838_Cuphophyllus_flavipes',\n '11067_Hortiboletus_bubalinus',\n '44084_Lacrymaria_lacrymabunda',\n '14823_Hygrocybe_ceracea',\n '61124_Lichenomphalia_umbellifera',\n '11093_Boletus_reticulatus',\n '20068_Russula_solaris',\n '40854_Xerocomus_ferrugineus',\n '17282_Mycena_pura',\n '67407_Paralepista_flaccida',\n '12426_Cortinarius_flexipes',\n '21162_Tricholomopsis_rutilans',\n '12606_Cortinarius_semisanguineus',\n '60711_Parasola_lactea',\n '16654_Macrolepiota_mastoidea',\n '16116_Leccinum_variicolor',\n '18007_Paxillus_involutus',\n '11237_Calocybe_gambosa',\n '16602_Lycoperdon_pyriforme',\n '16111_Leccinum_scabrum',\n '11825_Clitopilus_prunulus',\n '44368_Lepiota_magnispora',\n '13569_Entoloma_clypeatum',\n '43397_Lycoperdon_utriforme',\n '21358_Tylopilus_felleus',\n '16246_Lepista_sordida',\n '14428_Gymnopilus_penetrans',\n '18870_Pleurotus_ostreatus',\n '16717_Marasmius_oreades',\n '19009_Polyporus_tuberaster',\n '18508_Pholiota_squarrosa',\n '21125_Tricholoma_fulvum',\n '21234_Tubaria_furfuracea',\n '67477_Lentinus_brumalis',\n '14861_Gliophorus_psittacinus',\n '17154_Morchella_esculenta',\n '44017_Kuehneromyces_mutabilis',\n '65783_Rubroboletus_satanas',\n '19342_Psilocybe_semilanceata',\n '15639_Laccaria_laccata',\n '17221_Mycena_epipterygia',\n '15468_Inocybe_rimosa',\n '10258_Amanita_phalloides',\n '60864_Craterellus_undulatus',\n '65745_Suillellus_luridus',\n '17953_Panaeolus_papilionaceus',\n '14815_Hygrocybe_acutoconica',\n '12753_Craterellus_tubaeformis',\n '61235_Coprinopsis_atramentaria',\n '10933_Aureoboletus_gentilis',\n '18919_Pluteus_salicinus',\n '14547_Hebeloma_mesophaeum',\n '12315_Cortinarius_bolaris',\n '17250_Mycena_leptocephala',\n '15425_Inocybe_napipes',\n '17233_Mycena_galericulata',\n '15080_Hypholoma_marginatum',\n '10230_Amanita_excelsa',\n '60819_Chlorophyllum_rhacodes',\n '19113_Parasola_conopilus',\n '20020_Russula_nigricans',\n '15815_Lactarius_blennius',\n '12354_Cortinarius_cinnamomeus',\n '65785_Rubroboletus_legaliae',\n '41367_Chrysomphalina_grossula',\n '15908_Lactarius_quietus',\n '15078_Hypholoma_fasciculare',\n '20219_Scleroderma_citrinum',\n '12487_Cortinarius_elatior',\n '43396_Lycoperdon_excipuliforme',\n '14432_Gymnopus_aquosus',\n '10057_Agaricus_augustus',\n '15355_Inocybe_dulcamara',\n '11787_Clitocybe_metachroa',\n '11772_Infundibulicybe_gibba',\n '19937_Russula_cessans',\n '63367_Inocybe_lilacina',\n '20055_Russula_risigallina',\n '18890_Pluteus_cervinus',\n '14859_Cuphophyllus_pratensis',\n '60797_Leucoagaricus_nympharum',\n '61245_Coprinopsis_picacea',\n '17234_Mycena_galopus',\n '20731_Suillus_granulatus',\n '11206_Bulgaria_inquinans',\n '10252_Amanita_muscaria',\n '10273_Amanita_virosa',\n '15371_Inocybe_geophylla',\n '12479_Cortinarius_largus',\n '63639_Hygrocybe_conica',\n '20085_Russula_undulata',\n '15624_Laccaria_amethystina',\n '14849_Gliophorus_laetus',\n '11314_Cantharellus_amethysteus',\n '10257_Amanita_pantherina',\n '14923_Hygrophorus_pustulatus',\n '19951_Russula_cyanoxantha',\n '16240_Lepista_nuda',\n '17949_Panaeolus_foenisecii',\n '10079_Agaricus_impudicus',\n '15911_Lactarius_romagnesii',\n '10056_Agaricus_arvensis',\n '16723_Marasmius_rotula']"
     },
     "execution_count": 15,
     "metadata": {},
     "output_type": "execute_result"
    }
   ],
   "source": [
    "os.listdir(directory)"
   ]
  },
  {
   "cell_type": "code",
   "execution_count": 16,
   "id": "6b794fb1-0ed0-4681-a55e-602002e03fd4",
   "metadata": {
    "pycharm": {
     "name": "#%%\n"
    }
   },
   "outputs": [],
   "source": [
    "from sklearn.preprocessing import OrdinalEncoder"
   ]
  },
  {
   "cell_type": "markdown",
   "source": [
    "Before applying Bayesian encoding to the features, features are transformed with ordinal encoder"
   ],
   "metadata": {
    "collapsed": false,
    "pycharm": {
     "name": "#%% md\n"
    }
   }
  },
  {
   "cell_type": "code",
   "execution_count": 17,
   "id": "99bdb151-ced3-4b3d-a6ca-ec97bbeeb0cf",
   "metadata": {
    "pycharm": {
     "name": "#%%\n"
    }
   },
   "outputs": [],
   "source": [
    "oe = OrdinalEncoder()"
   ]
  },
  {
   "cell_type": "code",
   "execution_count": 18,
   "id": "5d43bd4a-9910-49fa-90a0-43bb613f3448",
   "metadata": {
    "pycharm": {
     "name": "#%%\n"
    }
   },
   "outputs": [],
   "source": [
    "df_shrooms_oe = oe.fit_transform(df_shrooms.drop(columns = 'species'))"
   ]
  },
  {
   "cell_type": "code",
   "execution_count": 19,
   "id": "ab7415dc-c2d3-470b-a499-1fb264c7fbe3",
   "metadata": {
    "pycharm": {
     "name": "#%%\n"
    }
   },
   "outputs": [
    {
     "data": {
      "text/plain": "(214, 5)"
     },
     "execution_count": 19,
     "metadata": {},
     "output_type": "execute_result"
    }
   ],
   "source": [
    "df_shrooms_oe.shape"
   ]
  },
  {
   "cell_type": "code",
   "execution_count": 20,
   "id": "baff9403-c9ec-4a11-bf65-963c8c0004c7",
   "metadata": {
    "pycharm": {
     "name": "#%%\n"
    }
   },
   "outputs": [
    {
     "data": {
      "text/plain": "array([[0., 4., 1., 8., 0.],\n       [0., 4., 1., 2., 1.],\n       [0., 4., 1., 8., 0.],\n       ...,\n       [1., 8., 0., 2., 0.],\n       [1., 8., 0., 2., 1.],\n       [1., 6., 0., 2., 0.]])"
     },
     "execution_count": 20,
     "metadata": {},
     "output_type": "execute_result"
    }
   ],
   "source": [
    "df_shrooms_oe"
   ]
  },
  {
   "cell_type": "markdown",
   "source": [
    "Saving the ordinal encoder as it will be necessary to transform the end user input when predicting a mushroom's class"
   ],
   "metadata": {
    "collapsed": false,
    "pycharm": {
     "name": "#%% md\n"
    }
   }
  },
  {
   "cell_type": "code",
   "execution_count": 21,
   "id": "57b25d05-add8-4a7a-bfdb-a546f5e6a46f",
   "metadata": {
    "pycharm": {
     "name": "#%%\n"
    }
   },
   "outputs": [
    {
     "data": {
      "text/plain": "['New_pickles/User_ordinal_encoder.pkl']"
     },
     "execution_count": 21,
     "metadata": {},
     "output_type": "execute_result"
    }
   ],
   "source": [
    "joblib.dump(oe,'New_pickles/' + \"User_ordinal_encoder.pkl\")"
   ]
  },
  {
   "cell_type": "markdown",
   "source": [
    "Testing the transformation"
   ],
   "metadata": {
    "collapsed": false,
    "pycharm": {
     "name": "#%% md\n"
    }
   }
  },
  {
   "cell_type": "raw",
   "source": [
    "user_values = ('gills', 'brown', 'yes', 'white', 'yes')"
   ],
   "metadata": {
    "collapsed": false,
    "pycharm": {
     "name": "#%% raw\n"
    }
   }
  },
  {
   "cell_type": "raw",
   "source": [
    "user_df = pd.DataFrame([user_values], columns = df_shrooms.drop(columns = 'species').columns) "
   ],
   "metadata": {
    "collapsed": false,
    "pycharm": {
     "name": "#%% raw\n"
    }
   }
  },
  {
   "cell_type": "raw",
   "source": [
    "user_df"
   ],
   "metadata": {
    "collapsed": false,
    "pycharm": {
     "name": "#%% raw\n"
    }
   }
  },
  {
   "cell_type": "raw",
   "source": [
    "user_df_oe = oe.transform(user_df)"
   ],
   "metadata": {
    "collapsed": false,
    "pycharm": {
     "name": "#%% raw\n"
    }
   }
  },
  {
   "cell_type": "raw",
   "source": [
    "user_df_oe"
   ],
   "metadata": {
    "collapsed": false,
    "pycharm": {
     "name": "#%% raw\n"
    }
   }
  },
  {
   "cell_type": "code",
   "execution_count": 22,
   "id": "d7b41061-a129-40f2-b5e2-08cb9006688f",
   "metadata": {
    "pycharm": {
     "name": "#%%\n"
    }
   },
   "outputs": [
    {
     "data": {
      "text/plain": "[array(['gills', 'pores', 'teeth'], dtype=object),\n array(['black', 'brown', 'gray', 'pink', 'pink-brown', 'pink-white',\n        'red', 'violet', 'white', 'yellow'], dtype=object),\n array(['no', 'yes'], dtype=object),\n array(['black', 'blue', 'brown', 'gray', 'greenish', 'pink', 'red',\n        'violet', 'white', 'yellow'], dtype=object),\n array(['no', 'yes'], dtype=object)]"
     },
     "execution_count": 22,
     "metadata": {},
     "output_type": "execute_result"
    }
   ],
   "source": [
    "oe.categories_"
   ]
  },
  {
   "cell_type": "markdown",
   "source": [
    "Renaming the categories for convenience when creating the final DataFrame"
   ],
   "metadata": {
    "collapsed": false,
    "pycharm": {
     "name": "#%% md\n"
    }
   }
  },
  {
   "cell_type": "code",
   "execution_count": 23,
   "id": "6e3ff02f-0461-4ee1-aca0-532d77dbe4fb",
   "metadata": {
    "pycharm": {
     "name": "#%%\n"
    }
   },
   "outputs": [],
   "source": [
    "cap_color = []\n",
    "for i in oe.categories_[3]:\n",
    "    cap_color.append('cap_'+i)"
   ]
  },
  {
   "cell_type": "raw",
   "source": [
    "cap_color"
   ],
   "metadata": {
    "collapsed": false,
    "pycharm": {
     "name": "#%% raw\n"
    }
   }
  },
  {
   "cell_type": "code",
   "execution_count": 24,
   "id": "b1510a53-499b-45dc-892a-df21a2ab5189",
   "metadata": {
    "pycharm": {
     "name": "#%%\n"
    }
   },
   "outputs": [],
   "source": [
    "hymenium_color = []\n",
    "for i in oe.categories_[1]:\n",
    "    hymenium_color.append('hymenium_'+i)"
   ]
  },
  {
   "cell_type": "raw",
   "source": [
    "hymenium_color"
   ],
   "metadata": {
    "collapsed": false,
    "pycharm": {
     "name": "#%% raw\n"
    }
   }
  },
  {
   "cell_type": "code",
   "execution_count": 25,
   "id": "688264c1-05db-43b0-a1f3-fec318d82cbd",
   "metadata": {
    "pycharm": {
     "name": "#%%\n"
    }
   },
   "outputs": [],
   "source": [
    "columns_names = ['gills', 'pores', 'teeth', \n",
    "                 'hymenium_black', 'hymenium_brown', 'hymenium_gray', 'hymenium_pink', 'hymenium_pink-brown', 'hymenium_pink-white', 'hymenium_red', 'hymenium_violet', 'hymenium_white', 'hymenium_yellow',\n",
    "                 'ring_no', 'ring_yes',\n",
    "                 'cap_black', 'cap_blue', 'cap_brown', 'cap_gray', 'cap_greenish', 'cap_pink', 'cap_red', 'cap_violet', 'cap_white', 'cap_yellow',\n",
    "                 'scales_no', 'scales_yes'\n",
    "                 ]"
   ]
  },
  {
   "cell_type": "code",
   "execution_count": 26,
   "id": "1e413653-04a8-4423-84e7-35306109b3f6",
   "metadata": {
    "pycharm": {
     "name": "#%%\n"
    }
   },
   "outputs": [
    {
     "data": {
      "text/plain": "array([0., 4., 1., 2., 1.])"
     },
     "execution_count": 26,
     "metadata": {},
     "output_type": "execute_result"
    }
   ],
   "source": [
    "df_shrooms_oe[1]"
   ]
  },
  {
   "cell_type": "markdown",
   "source": [
    "Encoding the features with categorical Naive Bayes"
   ],
   "metadata": {
    "collapsed": false,
    "pycharm": {
     "name": "#%% md\n"
    }
   }
  },
  {
   "cell_type": "code",
   "execution_count": 27,
   "id": "215733d6-afd0-4fae-a712-ac38c08ee296",
   "metadata": {
    "pycharm": {
     "name": "#%%\n"
    }
   },
   "outputs": [],
   "source": [
    "from sklearn.naive_bayes import CategoricalNB"
   ]
  },
  {
   "cell_type": "code",
   "execution_count": 28,
   "id": "aa207f57-b2e8-4248-bb9d-c9a99ca9b4e5",
   "metadata": {
    "pycharm": {
     "name": "#%%\n"
    }
   },
   "outputs": [],
   "source": [
    "cNB = CategoricalNB(alpha = 0.1)"
   ]
  },
  {
   "cell_type": "code",
   "execution_count": 29,
   "id": "21dbc231-892c-4e68-aedd-cf9b1f57c5d6",
   "metadata": {
    "pycharm": {
     "name": "#%%\n"
    }
   },
   "outputs": [
    {
     "data": {
      "text/plain": "CategoricalNB(alpha=0.1)",
      "text/html": "<style>#sk-container-id-1 {color: black;background-color: white;}#sk-container-id-1 pre{padding: 0;}#sk-container-id-1 div.sk-toggleable {background-color: white;}#sk-container-id-1 label.sk-toggleable__label {cursor: pointer;display: block;width: 100%;margin-bottom: 0;padding: 0.3em;box-sizing: border-box;text-align: center;}#sk-container-id-1 label.sk-toggleable__label-arrow:before {content: \"▸\";float: left;margin-right: 0.25em;color: #696969;}#sk-container-id-1 label.sk-toggleable__label-arrow:hover:before {color: black;}#sk-container-id-1 div.sk-estimator:hover label.sk-toggleable__label-arrow:before {color: black;}#sk-container-id-1 div.sk-toggleable__content {max-height: 0;max-width: 0;overflow: hidden;text-align: left;background-color: #f0f8ff;}#sk-container-id-1 div.sk-toggleable__content pre {margin: 0.2em;color: black;border-radius: 0.25em;background-color: #f0f8ff;}#sk-container-id-1 input.sk-toggleable__control:checked~div.sk-toggleable__content {max-height: 200px;max-width: 100%;overflow: auto;}#sk-container-id-1 input.sk-toggleable__control:checked~label.sk-toggleable__label-arrow:before {content: \"▾\";}#sk-container-id-1 div.sk-estimator input.sk-toggleable__control:checked~label.sk-toggleable__label {background-color: #d4ebff;}#sk-container-id-1 div.sk-label input.sk-toggleable__control:checked~label.sk-toggleable__label {background-color: #d4ebff;}#sk-container-id-1 input.sk-hidden--visually {border: 0;clip: rect(1px 1px 1px 1px);clip: rect(1px, 1px, 1px, 1px);height: 1px;margin: -1px;overflow: hidden;padding: 0;position: absolute;width: 1px;}#sk-container-id-1 div.sk-estimator {font-family: monospace;background-color: #f0f8ff;border: 1px dotted black;border-radius: 0.25em;box-sizing: border-box;margin-bottom: 0.5em;}#sk-container-id-1 div.sk-estimator:hover {background-color: #d4ebff;}#sk-container-id-1 div.sk-parallel-item::after {content: \"\";width: 100%;border-bottom: 1px solid gray;flex-grow: 1;}#sk-container-id-1 div.sk-label:hover label.sk-toggleable__label {background-color: #d4ebff;}#sk-container-id-1 div.sk-serial::before {content: \"\";position: absolute;border-left: 1px solid gray;box-sizing: border-box;top: 0;bottom: 0;left: 50%;z-index: 0;}#sk-container-id-1 div.sk-serial {display: flex;flex-direction: column;align-items: center;background-color: white;padding-right: 0.2em;padding-left: 0.2em;position: relative;}#sk-container-id-1 div.sk-item {position: relative;z-index: 1;}#sk-container-id-1 div.sk-parallel {display: flex;align-items: stretch;justify-content: center;background-color: white;position: relative;}#sk-container-id-1 div.sk-item::before, #sk-container-id-1 div.sk-parallel-item::before {content: \"\";position: absolute;border-left: 1px solid gray;box-sizing: border-box;top: 0;bottom: 0;left: 50%;z-index: -1;}#sk-container-id-1 div.sk-parallel-item {display: flex;flex-direction: column;z-index: 1;position: relative;background-color: white;}#sk-container-id-1 div.sk-parallel-item:first-child::after {align-self: flex-end;width: 50%;}#sk-container-id-1 div.sk-parallel-item:last-child::after {align-self: flex-start;width: 50%;}#sk-container-id-1 div.sk-parallel-item:only-child::after {width: 0;}#sk-container-id-1 div.sk-dashed-wrapped {border: 1px dashed gray;margin: 0 0.4em 0.5em 0.4em;box-sizing: border-box;padding-bottom: 0.4em;background-color: white;}#sk-container-id-1 div.sk-label label {font-family: monospace;font-weight: bold;display: inline-block;line-height: 1.2em;}#sk-container-id-1 div.sk-label-container {text-align: center;}#sk-container-id-1 div.sk-container {/* jupyter's `normalize.less` sets `[hidden] { display: none; }` but bootstrap.min.css set `[hidden] { display: none !important; }` so we also need the `!important` here to be able to override the default hidden behavior on the sphinx rendered scikit-learn.org. See: https://github.com/scikit-learn/scikit-learn/issues/21755 */display: inline-block !important;position: relative;}#sk-container-id-1 div.sk-text-repr-fallback {display: none;}</style><div id=\"sk-container-id-1\" class=\"sk-top-container\"><div class=\"sk-text-repr-fallback\"><pre>CategoricalNB(alpha=0.1)</pre><b>In a Jupyter environment, please rerun this cell to show the HTML representation or trust the notebook. <br />On GitHub, the HTML representation is unable to render, please try loading this page with nbviewer.org.</b></div><div class=\"sk-container\" hidden><div class=\"sk-item\"><div class=\"sk-estimator sk-toggleable\"><input class=\"sk-toggleable__control sk-hidden--visually\" id=\"sk-estimator-id-1\" type=\"checkbox\" checked><label for=\"sk-estimator-id-1\" class=\"sk-toggleable__label sk-toggleable__label-arrow\">CategoricalNB</label><div class=\"sk-toggleable__content\"><pre>CategoricalNB(alpha=0.1)</pre></div></div></div></div></div>"
     },
     "execution_count": 29,
     "metadata": {},
     "output_type": "execute_result"
    }
   ],
   "source": [
    "cNB.fit(df_shrooms_oe, df_ylabel_series)"
   ]
  },
  {
   "cell_type": "code",
   "execution_count": 30,
   "id": "571a2277-521b-42d7-a2b2-bf95eccc2bd6",
   "metadata": {
    "pycharm": {
     "name": "#%%\n"
    }
   },
   "outputs": [],
   "source": [
    "X_predict = cNB.predict_proba(df_shrooms_oe)"
   ]
  },
  {
   "cell_type": "code",
   "execution_count": 31,
   "id": "2dab3d6b-a47f-405b-98cb-3627718af41e",
   "metadata": {
    "pycharm": {
     "name": "#%%\n"
    }
   },
   "outputs": [
    {
     "data": {
      "text/plain": "(214, 35)"
     },
     "execution_count": 31,
     "metadata": {},
     "output_type": "execute_result"
    }
   ],
   "source": [
    "X_predict.shape"
   ]
  },
  {
   "cell_type": "code",
   "execution_count": 32,
   "id": "cb86679c-987d-4ba2-a960-1d74fd508e94",
   "metadata": {
    "pycharm": {
     "name": "#%%\n"
    }
   },
   "outputs": [
    {
     "data": {
      "text/plain": "['New_pickles/User_cNB.pkl']"
     },
     "execution_count": 32,
     "metadata": {},
     "output_type": "execute_result"
    }
   ],
   "source": [
    "joblib.dump(cNB, 'New_pickles/User_cNB.pkl')"
   ]
  },
  {
   "cell_type": "markdown",
   "source": [
    "Testing the categorical encoder"
   ],
   "metadata": {
    "collapsed": false,
    "pycharm": {
     "name": "#%% md\n"
    }
   }
  },
  {
   "cell_type": "raw",
   "source": [
    "user_cNB_pred = cNB.predict_proba(user_df_oe)"
   ],
   "metadata": {
    "collapsed": false,
    "pycharm": {
     "name": "#%% raw\n"
    }
   }
  },
  {
   "cell_type": "raw",
   "source": [
    "user_cNB_pred"
   ],
   "metadata": {
    "collapsed": false,
    "pycharm": {
     "name": "#%% raw\n"
    }
   }
  },
  {
   "cell_type": "markdown",
   "source": [
    "user_family = np.argmax(user_cNB_pred)"
   ],
   "metadata": {
    "collapsed": false,
    "pycharm": {
     "name": "#%% md\n"
    }
   }
  },
  {
   "cell_type": "raw",
   "source": [
    "user_family"
   ],
   "metadata": {
    "collapsed": false,
    "pycharm": {
     "name": "#%% raw\n"
    }
   }
  },
  {
   "cell_type": "raw",
   "source": [
    "user_class = cNB.classes_[np.argmax(cNB.predict_proba(user_df_oe))]"
   ],
   "metadata": {
    "collapsed": false,
    "pycharm": {
     "name": "#%% raw\n"
    }
   }
  },
  {
   "cell_type": "raw",
   "source": [
    "user_class"
   ],
   "metadata": {
    "collapsed": false,
    "pycharm": {
     "name": "#%% raw\n"
    }
   }
  },
  {
   "cell_type": "code",
   "execution_count": 33,
   "id": "3c8981aa-7add-4b02-85c1-6a4430a6fca6",
   "metadata": {
    "pycharm": {
     "name": "#%%\n"
    }
   },
   "outputs": [
    {
     "data": {
      "text/plain": "'agaricaceae'"
     },
     "execution_count": 33,
     "metadata": {},
     "output_type": "execute_result"
    }
   ],
   "source": [
    "cNB.classes_[0]"
   ]
  },
  {
   "cell_type": "code",
   "execution_count": 34,
   "id": "36062b50-948f-4c88-9c81-ade568158f5d",
   "metadata": {
    "scrolled": true,
    "tags": [],
    "pycharm": {
     "name": "#%%\n"
    }
   },
   "outputs": [
    {
     "data": {
      "text/plain": "[array([[17.,  0.,  5.],\n        [ 9.,  0.,  0.],\n        [ 1.,  0.,  0.],\n        [ 0., 22.,  0.],\n        [ 1.,  0.,  0.],\n        [ 5.,  0.,  0.],\n        [11.,  0.,  0.],\n        [ 4.,  0.,  0.],\n        [ 0.,  1.,  0.],\n        [ 1.,  0.,  0.],\n        [ 1.,  0.,  0.],\n        [ 3.,  0.,  0.],\n        [19.,  0.,  0.],\n        [ 3.,  0.,  0.],\n        [ 3.,  0.,  0.],\n        [ 6.,  0.,  0.],\n        [ 2.,  0.,  0.],\n        [ 4.,  0.,  0.],\n        [ 0.,  0.,  4.],\n        [14.,  0.,  0.],\n        [ 4.,  0.,  0.],\n        [ 1.,  0.,  0.],\n        [ 0.,  0.,  1.],\n        [ 6.,  0.,  0.],\n        [ 2.,  0.,  0.],\n        [ 4.,  0.,  0.],\n        [ 0.,  2.,  1.],\n        [10.,  0.,  0.],\n        [ 1.,  0.,  0.],\n        [14.,  0.,  0.],\n        [ 0.,  2.,  0.],\n        [11.,  0.,  0.],\n        [ 0.,  2.,  0.],\n        [16.,  0.,  0.],\n        [ 1.,  0.,  0.]]),\n array([[ 0.,  2.,  0.,  0.,  6.,  0.,  0.,  0., 14.,  0.],\n        [ 0.,  0.,  0.,  0.,  0.,  0.,  0.,  0.,  9.,  0.],\n        [ 0.,  1.,  0.,  0.,  0.,  0.,  0.,  0.,  0.,  0.],\n        [ 0.,  0.,  0.,  0.,  0.,  0.,  1.,  0.,  6., 15.],\n        [ 1.,  0.,  0.,  0.,  0.,  0.,  0.,  0.,  0.,  0.],\n        [ 0.,  0.,  0.,  0.,  0.,  0.,  0.,  0.,  2.,  3.],\n        [ 0.,  6.,  0.,  3.,  0.,  0.,  1.,  0.,  0.,  1.],\n        [ 0.,  0.,  1.,  0.,  0.,  0.,  0.,  0.,  3.,  0.],\n        [ 0.,  0.,  0.,  0.,  0.,  0.,  0.,  0.,  1.,  0.],\n        [ 0.,  0.,  0.,  0.,  0.,  0.,  0.,  0.,  1.,  0.],\n        [ 0.,  0.,  0.,  1.,  0.,  0.,  0.,  0.,  0.,  0.],\n        [ 0.,  0.,  0.,  1.,  0.,  0.,  1.,  1.,  0.,  0.],\n        [ 0.,  0.,  0.,  0.,  0.,  0.,  0.,  0.,  9., 10.],\n        [ 0.,  1.,  0.,  0.,  0.,  0.,  0.,  0.,  1.,  1.],\n        [ 0.,  1.,  1.,  0.,  0.,  0.,  0.,  0.,  1.,  0.],\n        [ 0.,  0.,  0.,  0.,  0.,  0.,  0.,  0.,  5.,  1.],\n        [ 0.,  0.,  0.,  0.,  0.,  0.,  0.,  0.,  2.,  0.],\n        [ 0.,  0.,  0.,  0.,  0.,  0.,  0.,  0.,  4.,  0.],\n        [ 0.,  4.,  0.,  0.,  0.,  0.,  0.,  0.,  0.,  0.],\n        [ 0.,  1.,  0.,  0.,  0.,  0.,  0.,  0., 13.,  0.],\n        [ 0.,  0.,  0.,  0.,  0.,  0.,  0.,  0.,  4.,  0.],\n        [ 0.,  0.,  0.,  0.,  0.,  0.,  0.,  0.,  0.,  1.],\n        [ 0.,  0.,  1.,  0.,  0.,  0.,  0.,  0.,  0.,  0.],\n        [ 0.,  0.,  0.,  1.,  0.,  0.,  0.,  0.,  4.,  1.],\n        [ 0.,  0.,  0.,  0.,  0.,  0.,  0.,  0.,  2.,  0.],\n        [ 0.,  0.,  0.,  0.,  0.,  0.,  0.,  0.,  4.,  0.],\n        [ 0.,  0.,  0.,  0.,  0.,  0.,  0.,  0.,  3.,  0.],\n        [ 0.,  4.,  3.,  1.,  0.,  0.,  0.,  0.,  2.,  0.],\n        [ 0.,  0.,  0.,  0.,  0.,  0.,  0.,  0.,  1.,  0.],\n        [ 0.,  0.,  0.,  0.,  0.,  0.,  0.,  0., 14.,  0.],\n        [ 0.,  2.,  0.,  0.,  0.,  0.,  0.,  0.,  0.,  0.],\n        [ 0.,  1.,  0.,  1.,  0.,  1.,  0.,  0.,  6.,  2.],\n        [ 0.,  0.,  0.,  0.,  0.,  0.,  0.,  0.,  0.,  2.],\n        [ 0.,  0.,  0.,  1.,  0.,  0.,  0.,  1., 11.,  3.],\n        [ 0.,  0.,  0.,  0.,  0.,  0.,  0.,  0.,  0.,  1.]]),\n array([[ 8., 14.],\n        [ 3.,  6.],\n        [ 0.,  1.],\n        [22.,  0.],\n        [ 1.,  0.],\n        [ 5.,  0.],\n        [10.,  1.],\n        [ 4.,  0.],\n        [ 1.,  0.],\n        [ 1.,  0.],\n        [ 1.,  0.],\n        [ 3.,  0.],\n        [19.,  0.],\n        [ 2.,  1.],\n        [ 3.,  0.],\n        [ 6.,  0.],\n        [ 2.,  0.],\n        [ 4.,  0.],\n        [ 4.,  0.],\n        [14.,  0.],\n        [ 4.,  0.],\n        [ 1.,  0.],\n        [ 1.,  0.],\n        [ 3.,  3.],\n        [ 2.,  0.],\n        [ 4.,  0.],\n        [ 3.,  0.],\n        [10.,  0.],\n        [ 1.,  0.],\n        [14.,  0.],\n        [ 2.,  0.],\n        [ 9.,  2.],\n        [ 2.,  0.],\n        [16.,  0.],\n        [ 1.,  0.]]),\n array([[ 0.,  0., 11.,  1.,  0.,  0.,  0.,  0.,  9.,  1.],\n        [ 0.,  0.,  4.,  0.,  1.,  0.,  1.,  0.,  3.,  0.],\n        [ 0.,  0.,  1.,  0.,  0.,  0.,  0.,  0.,  0.,  0.],\n        [ 0.,  0., 13.,  3.,  0.,  0.,  4.,  0.,  0.,  2.],\n        [ 1.,  0.,  0.,  0.,  0.,  0.,  0.,  0.,  0.,  0.],\n        [ 0.,  0.,  2.,  0.,  0.,  0.,  0.,  0.,  1.,  2.],\n        [ 0.,  0.,  6.,  0.,  0.,  0.,  1.,  0.,  1.,  3.],\n        [ 0.,  0.,  1.,  2.,  0.,  0.,  0.,  0.,  1.,  0.],\n        [ 0.,  0.,  0.,  0.,  0.,  0.,  0.,  0.,  1.,  0.],\n        [ 0.,  0.,  0.,  0.,  0.,  0.,  0.,  0.,  1.,  0.],\n        [ 0.,  0.,  0.,  0.,  0.,  0.,  0.,  0.,  0.,  1.],\n        [ 0.,  0.,  1.,  0.,  0.,  0.,  1.,  1.,  0.,  0.],\n        [ 0.,  0.,  6.,  1.,  0.,  0.,  6.,  0.,  3.,  3.],\n        [ 0.,  0.,  3.,  0.,  0.,  0.,  0.,  0.,  0.,  0.],\n        [ 0.,  0.,  2.,  1.,  0.,  0.,  0.,  0.,  0.,  0.],\n        [ 0.,  0.,  3.,  0.,  0.,  0.,  0.,  1.,  2.,  0.],\n        [ 0.,  0.,  1.,  0.,  0.,  0.,  0.,  0.,  1.,  0.],\n        [ 0.,  0.,  3.,  0.,  0.,  0.,  0.,  0.,  1.,  0.],\n        [ 0.,  0.,  4.,  0.,  0.,  0.,  0.,  0.,  0.,  0.],\n        [ 0.,  0.,  5.,  2.,  0.,  2.,  0.,  0.,  5.,  0.],\n        [ 0.,  0.,  1.,  0.,  0.,  0.,  0.,  0.,  3.,  0.],\n        [ 0.,  0.,  1.,  0.,  0.,  0.,  0.,  0.,  0.,  0.],\n        [ 0.,  0.,  0.,  1.,  0.,  0.,  0.,  0.,  0.,  0.],\n        [ 0.,  0.,  3.,  1.,  0.,  0.,  0.,  0.,  1.,  1.],\n        [ 0.,  0.,  2.,  0.,  0.,  0.,  0.,  0.,  0.,  0.],\n        [ 0.,  0.,  2.,  1.,  0.,  0.,  0.,  0.,  1.,  0.],\n        [ 0.,  0.,  3.,  0.,  0.,  0.,  0.,  0.,  0.,  0.],\n        [ 0.,  0.,  5.,  1.,  0.,  0.,  0.,  0.,  4.,  0.],\n        [ 0.,  0.,  0.,  0.,  0.,  0.,  0.,  0.,  0.,  1.],\n        [ 0.,  0.,  3.,  3.,  0.,  0.,  5.,  0.,  0.,  3.],\n        [ 0.,  0.,  2.,  0.,  0.,  0.,  0.,  0.,  0.,  0.],\n        [ 0.,  1.,  5.,  0.,  0.,  0.,  0.,  0.,  1.,  4.],\n        [ 0.,  0.,  1.,  0.,  0.,  0.,  0.,  0.,  0.,  1.],\n        [ 0.,  0., 12.,  1.,  0.,  0.,  0.,  0.,  2.,  1.],\n        [ 0.,  0.,  1.,  0.,  0.,  0.,  0.,  0.,  0.,  0.]]),\n array([[ 8., 14.],\n        [ 4.,  5.],\n        [ 1.,  0.],\n        [19.,  3.],\n        [ 1.,  0.],\n        [ 5.,  0.],\n        [ 9.,  2.],\n        [ 4.,  0.],\n        [ 1.,  0.],\n        [ 1.,  0.],\n        [ 1.,  0.],\n        [ 3.,  0.],\n        [19.,  0.],\n        [ 3.,  0.],\n        [ 3.,  0.],\n        [ 6.,  0.],\n        [ 2.,  0.],\n        [ 4.,  0.],\n        [ 4.,  0.],\n        [14.,  0.],\n        [ 4.,  0.],\n        [ 1.,  0.],\n        [ 1.,  0.],\n        [ 4.,  2.],\n        [ 2.,  0.],\n        [ 4.,  0.],\n        [ 1.,  2.],\n        [ 6.,  4.],\n        [ 1.,  0.],\n        [14.,  0.],\n        [ 0.,  2.],\n        [10.,  1.],\n        [ 2.,  0.],\n        [14.,  2.],\n        [ 1.,  0.]])]"
     },
     "execution_count": 34,
     "metadata": {},
     "output_type": "execute_result"
    }
   ],
   "source": [
    "cNB.category_count_"
   ]
  },
  {
   "cell_type": "code",
   "execution_count": 35,
   "id": "752b41fd-b17b-4105-8945-c6b776f0469e",
   "metadata": {
    "pycharm": {
     "name": "#%%\n"
    }
   },
   "outputs": [
    {
     "data": {
      "text/plain": "array(['agaricaceae', 'amanita', 'bolbitiaceae', 'boletaceae',\n       'bulgariaceae', 'cantharellaceae', 'cortinariaceae',\n       'entolomataceae', 'geastraceae', 'helvellaceae', 'hydnaceae',\n       'hydnangiaceae', 'hygrophoraceae', 'hymenogastraceae', 'incertae',\n       'inocybaceae', 'lyophyllaceae', 'marasmiaceae', 'morchellaceae',\n       'mycenaceae', 'omphalotaceae', 'paxillaceae', 'phallaceae',\n       'physalacriaceae', 'pleurotaceae', 'pluteaceae', 'polyporaceae',\n       'psathyrelaceae', 'repetobasidiaceae', 'russulaceae',\n       'sclerodermataceae', 'strophariaceae', 'suillaceae',\n       'tricholomataceae', 'tubariaceae'], dtype='<U17')"
     },
     "execution_count": 35,
     "metadata": {},
     "output_type": "execute_result"
    }
   ],
   "source": [
    "cNB.classes_"
   ]
  },
  {
   "cell_type": "code",
   "execution_count": 36,
   "id": "840c8cd8-5688-41eb-97b1-2f2a1412365c",
   "metadata": {
    "scrolled": true,
    "tags": [],
    "pycharm": {
     "name": "#%%\n"
    }
   },
   "outputs": [
    {
     "data": {
      "text/plain": "[array([[-0.26550821, -5.40717177, -1.47534614],\n        [-0.02173999, -4.53259949, -4.53259949],\n        [-0.16705408, -2.56494936, -2.56494936],\n        [-5.40717177, -0.00900907, -5.40717177],\n        [-0.16705408, -2.56494936, -2.56494936],\n        [-0.03846628, -3.97029191, -3.97029191],\n        [-0.01785762, -4.72738782, -4.72738782],\n        [-0.04762805, -3.76120012, -3.76120012],\n        [-2.56494936, -0.16705408, -2.56494936],\n        [-0.16705408, -2.56494936, -2.56494936],\n        [-0.16705408, -2.56494936, -2.56494936],\n        [-0.06252036, -3.49650756, -3.49650756],\n        [-0.01041676, -5.26269019, -5.26269019],\n        [-0.06252036, -3.49650756, -3.49650756],\n        [-0.06252036, -3.49650756, -3.49650756],\n        [-0.03226086, -4.14313473, -4.14313473],\n        [-0.09097178, -3.13549422, -3.13549422],\n        [-0.04762805, -3.76120012, -3.76120012],\n        [-3.76120012, -3.76120012, -0.04762805],\n        [-0.01408474, -4.96284463, -4.96284463],\n        [-0.04762805, -3.76120012, -3.76120012],\n        [-0.16705408, -2.56494936, -2.56494936],\n        [-2.56494936, -2.56494936, -0.16705408],\n        [-0.03226086, -4.14313473, -4.14313473],\n        [-0.09097178, -3.13549422, -3.13549422],\n        [-0.04762805, -3.76120012, -3.76120012],\n        [-3.49650756, -0.45198512, -1.09861229],\n        [-0.01960847, -4.63472899, -4.63472899],\n        [-0.16705408, -2.56494936, -2.56494936],\n        [-0.01408474, -4.96284463, -4.96284463],\n        [-3.13549422, -0.09097178, -3.13549422],\n        [-0.01785762, -4.72738782, -4.72738782],\n        [-3.13549422, -0.09097178, -3.13549422],\n        [-0.01234584, -5.0937502 , -5.0937502 ],\n        [-0.16705408, -2.56494936, -2.56494936]]),\n array([[-5.43807931, -2.39355687, -5.43807931, -5.43807931, -1.32720544,\n         -5.43807931, -5.43807931, -5.43807931, -0.48931942, -5.43807931],\n        [-4.60517019, -4.60517019, -4.60517019, -4.60517019, -4.60517019,\n         -4.60517019, -4.60517019, -4.60517019, -0.09431068, -4.60517019],\n        [-2.99573227, -0.597837  , -2.99573227, -2.99573227, -2.99573227,\n         -2.99573227, -2.99573227, -2.99573227, -2.99573227, -2.99573227],\n        [-5.43807931, -5.43807931, -5.43807931, -5.43807931, -5.43807931,\n         -5.43807931, -3.04018404, -5.43807931, -1.32720544, -0.42079947],\n        [-0.597837  , -2.99573227, -2.99573227, -2.99573227, -2.99573227,\n         -2.99573227, -2.99573227, -2.99573227, -2.99573227, -2.99573227],\n        [-4.09434456, -4.09434456, -4.09434456, -4.09434456, -4.09434456,\n         -4.09434456, -4.09434456, -4.09434456, -1.04982212, -0.66035736],\n        [-4.78749174, -0.67661788, -4.78749174, -1.35350454, -4.78749174,\n         -4.78749174, -2.38959647, -4.78749174, -4.78749174, -2.38959647],\n        [-3.91202301, -3.91202301, -1.51412773, -3.91202301, -3.91202301,\n         -3.91202301, -3.91202301, -3.91202301, -0.4780358 , -3.91202301],\n        [-2.99573227, -2.99573227, -2.99573227, -2.99573227, -2.99573227,\n         -2.99573227, -2.99573227, -2.99573227, -0.597837  , -2.99573227],\n        [-2.99573227, -2.99573227, -2.99573227, -2.99573227, -2.99573227,\n         -2.99573227, -2.99573227, -2.99573227, -0.597837  , -2.99573227],\n        [-2.99573227, -2.99573227, -2.99573227, -0.597837  , -2.99573227,\n         -2.99573227, -2.99573227, -2.99573227, -2.99573227, -2.99573227],\n        [-3.68887945, -3.68887945, -3.68887945, -1.29098418, -3.68887945,\n         -3.68887945, -1.29098418, -1.29098418, -3.68887945, -3.68887945],\n        [-5.29831737, -5.29831737, -5.29831737, -5.29831737, -5.29831737,\n         -5.29831737, -5.29831737, -5.29831737, -0.78745786, -0.68319685],\n        [-3.68887945, -1.29098418, -3.68887945, -3.68887945, -3.68887945,\n         -3.68887945, -3.68887945, -3.68887945, -1.29098418, -1.29098418],\n        [-3.68887945, -1.29098418, -1.29098418, -3.68887945, -3.68887945,\n         -3.68887945, -3.68887945, -3.68887945, -1.29098418, -3.68887945],\n        [-4.24849524, -4.24849524, -4.24849524, -4.24849524, -4.24849524,\n         -4.24849524, -4.24849524, -4.24849524, -0.31666961, -1.85059997],\n        [-3.40119738, -3.40119738, -3.40119738, -3.40119738, -3.40119738,\n         -3.40119738, -3.40119738, -3.40119738, -0.35667494, -3.40119738],\n        [-3.91202301, -3.91202301, -3.91202301, -3.91202301, -3.91202301,\n         -3.91202301, -3.91202301, -3.91202301, -0.19845094, -3.91202301],\n        [-3.91202301, -0.19845094, -3.91202301, -3.91202301, -3.91202301,\n         -3.91202301, -3.91202301, -3.91202301, -3.91202301, -3.91202301],\n        [-5.01063529, -2.61274002, -5.01063529, -5.01063529, -5.01063529,\n         -5.01063529, -5.01063529, -5.01063529, -0.13543797, -5.01063529],\n        [-3.91202301, -3.91202301, -3.91202301, -3.91202301, -3.91202301,\n         -3.91202301, -3.91202301, -3.91202301, -0.19845094, -3.91202301],\n        [-2.99573227, -2.99573227, -2.99573227, -2.99573227, -2.99573227,\n         -2.99573227, -2.99573227, -2.99573227, -2.99573227, -0.597837  ],\n        [-2.99573227, -2.99573227, -0.597837  , -2.99573227, -2.99573227,\n         -2.99573227, -2.99573227, -2.99573227, -2.99573227, -2.99573227],\n        [-4.24849524, -4.24849524, -4.24849524, -1.85059997, -4.24849524,\n         -4.24849524, -4.24849524, -4.24849524, -0.53492318, -1.85059997],\n        [-3.40119738, -3.40119738, -3.40119738, -3.40119738, -3.40119738,\n         -3.40119738, -3.40119738, -3.40119738, -0.35667494, -3.40119738],\n        [-3.91202301, -3.91202301, -3.91202301, -3.91202301, -3.91202301,\n         -3.91202301, -3.91202301, -3.91202301, -0.19845094, -3.91202301],\n        [-3.68887945, -3.68887945, -3.68887945, -3.68887945, -3.68887945,\n         -3.68887945, -3.68887945, -3.68887945, -0.25489225, -3.68887945],\n        [-4.70048037, -0.9869083 , -1.26649316, -2.30258509, -4.70048037,\n         -4.70048037, -4.70048037, -4.70048037, -1.65595793, -4.70048037],\n        [-2.99573227, -2.99573227, -2.99573227, -2.99573227, -2.99573227,\n         -2.99573227, -2.99573227, -2.99573227, -0.597837  , -2.99573227],\n        [-5.01063529, -5.01063529, -5.01063529, -5.01063529, -5.01063529,\n         -5.01063529, -5.01063529, -5.01063529, -0.0618754 , -5.01063529],\n        [-3.40119738, -0.35667494, -3.40119738, -3.40119738, -3.40119738,\n         -3.40119738, -3.40119738, -3.40119738, -3.40119738, -3.40119738],\n        [-4.78749174, -2.38959647, -4.78749174, -2.38959647, -4.78749174,\n         -2.38959647, -4.78749174, -4.78749174, -0.67661788, -1.74296931],\n        [-3.40119738, -3.40119738, -3.40119738, -3.40119738, -3.40119738,\n         -3.40119738, -3.40119738, -3.40119738, -3.40119738, -0.35667494],\n        [-5.13579844, -5.13579844, -5.13579844, -2.73790316, -5.13579844,\n         -5.13579844, -5.13579844, -2.73790316, -0.42626824, -1.70181123],\n        [-2.99573227, -2.99573227, -2.99573227, -2.99573227, -2.99573227,\n         -2.99573227, -2.99573227, -2.99573227, -2.99573227, -0.597837  ]]),\n array([[-1.00822823e+00, -4.53917491e-01],\n        [-1.08780137e+00, -4.10914713e-01],\n        [-2.48490665e+00, -8.70113770e-02],\n        [-4.51468035e-03, -5.40267738e+00],\n        [-8.70113770e-02, -2.48490665e+00],\n        [-1.94180859e-02, -3.95124372e+00],\n        [-1.03378354e-01, -2.32060360e+00],\n        [-2.40975516e-02, -3.73766962e+00],\n        [-8.70113770e-02, -2.48490665e+00],\n        [-8.70113770e-02, -2.48490665e+00],\n        [-8.70113770e-02, -2.48490665e+00],\n        [-3.17486983e-02, -3.46573590e+00],\n        [-5.22194398e-03, -5.25749537e+00],\n        [-4.21213465e-01, -1.06784063e+00],\n        [-3.17486983e-02, -3.46573590e+00],\n        [-1.62605209e-02, -4.12713439e+00],\n        [-4.65200156e-02, -3.09104245e+00],\n        [-2.40975516e-02, -3.73766962e+00],\n        [-2.40975516e-02, -3.73766962e+00],\n        [-7.06716722e-03, -4.95582706e+00],\n        [-2.40975516e-02, -3.73766962e+00],\n        [-8.70113770e-02, -2.48490665e+00],\n        [-8.70113770e-02, -2.48490665e+00],\n        [-6.93147181e-01, -6.93147181e-01],\n        [-4.65200156e-02, -3.09104245e+00],\n        [-2.40975516e-02, -3.73766962e+00],\n        [-3.17486983e-02, -3.46573590e+00],\n        [-9.85229644e-03, -4.62497281e+00],\n        [-8.70113770e-02, -2.48490665e+00],\n        [-7.06716722e-03, -4.95582706e+00],\n        [-4.65200156e-02, -3.09104245e+00],\n        [-2.07639365e-01, -1.67397643e+00],\n        [-4.65200156e-02, -3.09104245e+00],\n        [-6.19197025e-03, -5.08759634e+00],\n        [-8.70113770e-02, -2.48490665e+00]]),\n array([[-5.43807931, -5.43807931, -0.72854911, -3.04018404, -5.43807931,\n         -5.43807931, -5.43807931, -5.43807931, -0.9272198 , -3.04018404],\n        [-4.60517019, -4.60517019, -0.89159812, -4.60517019, -2.20727491,\n         -4.60517019, -2.20727491, -4.60517019, -1.17118298, -4.60517019],\n        [-2.99573227, -2.99573227, -0.597837  , -2.99573227, -2.99573227,\n         -2.99573227, -2.99573227, -2.99573227, -2.99573227, -2.99573227],\n        [-5.43807931, -5.43807931, -0.56288199, -2.0040921 , -5.43807931,\n         -5.43807931, -1.72450724, -5.43807931, -5.43807931, -2.39355687],\n        [-0.597837  , -2.99573227, -2.99573227, -2.99573227, -2.99573227,\n         -2.99573227, -2.99573227, -2.99573227, -2.99573227, -2.99573227],\n        [-4.09434456, -4.09434456, -1.04982212, -4.09434456, -4.09434456,\n         -4.09434456, -4.09434456, -4.09434456, -1.69644929, -1.04982212],\n        [-4.78749174, -4.78749174, -0.67661788, -4.78749174, -4.78749174,\n         -4.78749174, -2.38959647, -4.78749174, -2.38959647, -1.35350454],\n        [-3.91202301, -3.91202301, -1.51412773, -0.86750057, -3.91202301,\n         -3.91202301, -3.91202301, -3.91202301, -1.51412773, -3.91202301],\n        [-2.99573227, -2.99573227, -2.99573227, -2.99573227, -2.99573227,\n         -2.99573227, -2.99573227, -2.99573227, -0.597837  , -2.99573227],\n        [-2.99573227, -2.99573227, -2.99573227, -2.99573227, -2.99573227,\n         -2.99573227, -2.99573227, -2.99573227, -0.597837  , -2.99573227],\n        [-2.99573227, -2.99573227, -2.99573227, -2.99573227, -2.99573227,\n         -2.99573227, -2.99573227, -2.99573227, -2.99573227, -0.597837  ],\n        [-3.68887945, -3.68887945, -1.29098418, -3.68887945, -3.68887945,\n         -3.68887945, -1.29098418, -1.29098418, -3.68887945, -3.68887945],\n        [-5.29831737, -5.29831737, -1.1874435 , -2.90042209, -5.29831737,\n         -5.29831737, -1.1874435 , -5.29831737, -1.86433016, -1.86433016],\n        [-3.68887945, -3.68887945, -0.25489225, -3.68887945, -3.68887945,\n         -3.68887945, -3.68887945, -3.68887945, -3.68887945, -3.68887945],\n        [-3.68887945, -3.68887945, -0.64435702, -1.29098418, -3.68887945,\n         -3.68887945, -3.68887945, -3.68887945, -3.68887945, -3.68887945],\n        [-4.24849524, -4.24849524, -0.81450804, -4.24849524, -4.24849524,\n         -4.24849524, -4.24849524, -1.85059997, -1.2039728 , -4.24849524],\n        [-3.40119738, -3.40119738, -1.00330211, -3.40119738, -3.40119738,\n         -3.40119738, -3.40119738, -3.40119738, -1.00330211, -3.40119738],\n        [-3.91202301, -3.91202301, -0.4780358 , -3.91202301, -3.91202301,\n         -3.91202301, -3.91202301, -3.91202301, -1.51412773, -3.91202301],\n        [-3.91202301, -3.91202301, -0.19845094, -3.91202301, -3.91202301,\n         -3.91202301, -3.91202301, -3.91202301, -3.91202301, -3.91202301],\n        [-5.01063529, -5.01063529, -1.07880966, -1.96611286, -5.01063529,\n         -1.96611286, -5.01063529, -5.01063529, -1.07880966, -5.01063529],\n        [-3.91202301, -3.91202301, -1.51412773, -3.91202301, -3.91202301,\n         -3.91202301, -3.91202301, -3.91202301, -0.4780358 , -3.91202301],\n        [-2.99573227, -2.99573227, -0.597837  , -2.99573227, -2.99573227,\n         -2.99573227, -2.99573227, -2.99573227, -2.99573227, -2.99573227],\n        [-2.99573227, -2.99573227, -2.99573227, -0.597837  , -2.99573227,\n         -2.99573227, -2.99573227, -2.99573227, -2.99573227, -2.99573227],\n        [-4.24849524, -4.24849524, -0.81450804, -1.85059997, -4.24849524,\n         -4.24849524, -4.24849524, -4.24849524, -1.85059997, -1.85059997],\n        [-3.40119738, -3.40119738, -0.35667494, -3.40119738, -3.40119738,\n         -3.40119738, -3.40119738, -3.40119738, -3.40119738, -3.40119738],\n        [-3.91202301, -3.91202301, -0.86750057, -1.51412773, -3.91202301,\n         -3.91202301, -3.91202301, -3.91202301, -1.51412773, -3.91202301],\n        [-3.68887945, -3.68887945, -0.25489225, -3.68887945, -3.68887945,\n         -3.68887945, -3.68887945, -3.68887945, -3.68887945, -3.68887945],\n        [-4.70048037, -4.70048037, -0.76865473, -2.30258509, -4.70048037,\n         -4.70048037, -4.70048037, -4.70048037, -0.9869083 , -4.70048037],\n        [-2.99573227, -2.99573227, -2.99573227, -2.99573227, -2.99573227,\n         -2.99573227, -2.99573227, -2.99573227, -2.99573227, -0.597837  ],\n        [-5.01063529, -5.01063529, -1.57664809, -1.57664809, -5.01063529,\n         -5.01063529, -1.07880966, -5.01063529, -5.01063529, -1.57664809],\n        [-3.40119738, -3.40119738, -0.35667494, -3.40119738, -3.40119738,\n         -3.40119738, -3.40119738, -3.40119738, -3.40119738, -3.40119738],\n        [-4.78749174, -2.38959647, -0.85566611, -4.78749174, -4.78749174,\n         -4.78749174, -4.78749174, -4.78749174, -2.38959647, -1.07391968],\n        [-3.40119738, -3.40119738, -1.00330211, -3.40119738, -3.40119738,\n         -3.40119738, -3.40119738, -3.40119738, -3.40119738, -1.00330211],\n        [-5.13579844, -5.13579844, -0.34000789, -2.73790316, -5.13579844,\n         -5.13579844, -5.13579844, -5.13579844, -2.091276  , -2.73790316],\n        [-2.99573227, -2.99573227, -0.597837  , -2.99573227, -2.99573227,\n         -2.99573227, -2.99573227, -2.99573227, -2.99573227, -2.99573227]]),\n array([[-1.00822823e+00, -4.53917491e-01],\n        [-8.08216510e-01, -5.89962944e-01],\n        [-8.70113770e-02, -2.48490665e+00],\n        [-1.50403954e-01, -1.96869018e+00],\n        [-8.70113770e-02, -2.48490665e+00],\n        [-1.94180859e-02, -3.95124372e+00],\n        [-2.07639365e-01, -1.67397643e+00],\n        [-2.40975516e-02, -3.73766962e+00],\n        [-8.70113770e-02, -2.48490665e+00],\n        [-8.70113770e-02, -2.48490665e+00],\n        [-8.70113770e-02, -2.48490665e+00],\n        [-3.17486983e-02, -3.46573590e+00],\n        [-5.22194398e-03, -5.25749537e+00],\n        [-3.17486983e-02, -3.46573590e+00],\n        [-3.17486983e-02, -3.46573590e+00],\n        [-1.62605209e-02, -4.12713439e+00],\n        [-4.65200156e-02, -3.09104245e+00],\n        [-2.40975516e-02, -3.73766962e+00],\n        [-2.40975516e-02, -3.73766962e+00],\n        [-7.06716722e-03, -4.95582706e+00],\n        [-2.40975516e-02, -3.73766962e+00],\n        [-8.70113770e-02, -2.48490665e+00],\n        [-8.70113770e-02, -2.48490665e+00],\n        [-4.13562318e-01, -1.08261195e+00],\n        [-4.65200156e-02, -3.09104245e+00],\n        [-2.40975516e-02, -3.73766962e+00],\n        [-1.06784063e+00, -4.21213465e-01],\n        [-5.14098949e-01, -9.11400747e-01],\n        [-8.70113770e-02, -2.48490665e+00],\n        [-7.06716722e-03, -4.95582706e+00],\n        [-3.09104245e+00, -4.65200156e-02],\n        [-1.03378354e-01, -2.32060360e+00],\n        [-4.65200156e-02, -3.09104245e+00],\n        [-1.38836445e-01, -2.04307390e+00],\n        [-8.70113770e-02, -2.48490665e+00]])]"
     },
     "execution_count": 36,
     "metadata": {},
     "output_type": "execute_result"
    }
   ],
   "source": [
    "cNB.feature_log_prob_"
   ]
  },
  {
   "cell_type": "markdown",
   "source": [
    "Creating a DataFrame with the features log probability"
   ],
   "metadata": {
    "collapsed": false,
    "pycharm": {
     "name": "#%% md\n"
    }
   }
  },
  {
   "cell_type": "code",
   "execution_count": 37,
   "id": "5ba8026e-32ee-409d-8ad0-b91d201e8294",
   "metadata": {
    "pycharm": {
     "name": "#%%\n"
    }
   },
   "outputs": [],
   "source": [
    "df_feature_prob = pd.DataFrame(cNB.feature_log_prob_[0], columns = range(0,3))"
   ]
  },
  {
   "cell_type": "code",
   "execution_count": 38,
   "id": "c1b6998e-e1e4-488e-a95b-1b80c17b8870",
   "metadata": {
    "pycharm": {
     "name": "#%%\n"
    }
   },
   "outputs": [],
   "source": [
    "df = pd.DataFrame(np.hstack(cNB.feature_log_prob_))"
   ]
  },
  {
   "cell_type": "code",
   "execution_count": 39,
   "id": "9f491f73-6438-43b9-b407-25c33d4907c1",
   "metadata": {
    "scrolled": true,
    "tags": [],
    "pycharm": {
     "name": "#%%\n"
    }
   },
   "outputs": [
    {
     "data": {
      "text/plain": "          0         1         2         3         4         5         6   \\\n0  -0.265508 -5.407172 -1.475346 -5.438079 -2.393557 -5.438079 -5.438079   \n1  -0.021740 -4.532599 -4.532599 -4.605170 -4.605170 -4.605170 -4.605170   \n2  -0.167054 -2.564949 -2.564949 -2.995732 -0.597837 -2.995732 -2.995732   \n3  -5.407172 -0.009009 -5.407172 -5.438079 -5.438079 -5.438079 -5.438079   \n4  -0.167054 -2.564949 -2.564949 -0.597837 -2.995732 -2.995732 -2.995732   \n5  -0.038466 -3.970292 -3.970292 -4.094345 -4.094345 -4.094345 -4.094345   \n6  -0.017858 -4.727388 -4.727388 -4.787492 -0.676618 -4.787492 -1.353505   \n7  -0.047628 -3.761200 -3.761200 -3.912023 -3.912023 -1.514128 -3.912023   \n8  -2.564949 -0.167054 -2.564949 -2.995732 -2.995732 -2.995732 -2.995732   \n9  -0.167054 -2.564949 -2.564949 -2.995732 -2.995732 -2.995732 -2.995732   \n10 -0.167054 -2.564949 -2.564949 -2.995732 -2.995732 -2.995732 -0.597837   \n11 -0.062520 -3.496508 -3.496508 -3.688879 -3.688879 -3.688879 -1.290984   \n12 -0.010417 -5.262690 -5.262690 -5.298317 -5.298317 -5.298317 -5.298317   \n13 -0.062520 -3.496508 -3.496508 -3.688879 -1.290984 -3.688879 -3.688879   \n14 -0.062520 -3.496508 -3.496508 -3.688879 -1.290984 -1.290984 -3.688879   \n15 -0.032261 -4.143135 -4.143135 -4.248495 -4.248495 -4.248495 -4.248495   \n16 -0.090972 -3.135494 -3.135494 -3.401197 -3.401197 -3.401197 -3.401197   \n17 -0.047628 -3.761200 -3.761200 -3.912023 -3.912023 -3.912023 -3.912023   \n18 -3.761200 -3.761200 -0.047628 -3.912023 -0.198451 -3.912023 -3.912023   \n19 -0.014085 -4.962845 -4.962845 -5.010635 -2.612740 -5.010635 -5.010635   \n20 -0.047628 -3.761200 -3.761200 -3.912023 -3.912023 -3.912023 -3.912023   \n21 -0.167054 -2.564949 -2.564949 -2.995732 -2.995732 -2.995732 -2.995732   \n22 -2.564949 -2.564949 -0.167054 -2.995732 -2.995732 -0.597837 -2.995732   \n23 -0.032261 -4.143135 -4.143135 -4.248495 -4.248495 -4.248495 -1.850600   \n24 -0.090972 -3.135494 -3.135494 -3.401197 -3.401197 -3.401197 -3.401197   \n25 -0.047628 -3.761200 -3.761200 -3.912023 -3.912023 -3.912023 -3.912023   \n26 -3.496508 -0.451985 -1.098612 -3.688879 -3.688879 -3.688879 -3.688879   \n27 -0.019608 -4.634729 -4.634729 -4.700480 -0.986908 -1.266493 -2.302585   \n28 -0.167054 -2.564949 -2.564949 -2.995732 -2.995732 -2.995732 -2.995732   \n29 -0.014085 -4.962845 -4.962845 -5.010635 -5.010635 -5.010635 -5.010635   \n30 -3.135494 -0.090972 -3.135494 -3.401197 -0.356675 -3.401197 -3.401197   \n31 -0.017858 -4.727388 -4.727388 -4.787492 -2.389596 -4.787492 -2.389596   \n32 -3.135494 -0.090972 -3.135494 -3.401197 -3.401197 -3.401197 -3.401197   \n33 -0.012346 -5.093750 -5.093750 -5.135798 -5.135798 -5.135798 -2.737903   \n34 -0.167054 -2.564949 -2.564949 -2.995732 -2.995732 -2.995732 -2.995732   \n\n          7         8         9   ...        17        18        19        20  \\\n0  -1.327205 -5.438079 -5.438079  ... -0.728549 -3.040184 -5.438079 -5.438079   \n1  -4.605170 -4.605170 -4.605170  ... -0.891598 -4.605170 -2.207275 -4.605170   \n2  -2.995732 -2.995732 -2.995732  ... -0.597837 -2.995732 -2.995732 -2.995732   \n3  -5.438079 -5.438079 -3.040184  ... -0.562882 -2.004092 -5.438079 -5.438079   \n4  -2.995732 -2.995732 -2.995732  ... -2.995732 -2.995732 -2.995732 -2.995732   \n5  -4.094345 -4.094345 -4.094345  ... -1.049822 -4.094345 -4.094345 -4.094345   \n6  -4.787492 -4.787492 -2.389596  ... -0.676618 -4.787492 -4.787492 -4.787492   \n7  -3.912023 -3.912023 -3.912023  ... -1.514128 -0.867501 -3.912023 -3.912023   \n8  -2.995732 -2.995732 -2.995732  ... -2.995732 -2.995732 -2.995732 -2.995732   \n9  -2.995732 -2.995732 -2.995732  ... -2.995732 -2.995732 -2.995732 -2.995732   \n10 -2.995732 -2.995732 -2.995732  ... -2.995732 -2.995732 -2.995732 -2.995732   \n11 -3.688879 -3.688879 -1.290984  ... -1.290984 -3.688879 -3.688879 -3.688879   \n12 -5.298317 -5.298317 -5.298317  ... -1.187444 -2.900422 -5.298317 -5.298317   \n13 -3.688879 -3.688879 -3.688879  ... -0.254892 -3.688879 -3.688879 -3.688879   \n14 -3.688879 -3.688879 -3.688879  ... -0.644357 -1.290984 -3.688879 -3.688879   \n15 -4.248495 -4.248495 -4.248495  ... -0.814508 -4.248495 -4.248495 -4.248495   \n16 -3.401197 -3.401197 -3.401197  ... -1.003302 -3.401197 -3.401197 -3.401197   \n17 -3.912023 -3.912023 -3.912023  ... -0.478036 -3.912023 -3.912023 -3.912023   \n18 -3.912023 -3.912023 -3.912023  ... -0.198451 -3.912023 -3.912023 -3.912023   \n19 -5.010635 -5.010635 -5.010635  ... -1.078810 -1.966113 -5.010635 -1.966113   \n20 -3.912023 -3.912023 -3.912023  ... -1.514128 -3.912023 -3.912023 -3.912023   \n21 -2.995732 -2.995732 -2.995732  ... -0.597837 -2.995732 -2.995732 -2.995732   \n22 -2.995732 -2.995732 -2.995732  ... -2.995732 -0.597837 -2.995732 -2.995732   \n23 -4.248495 -4.248495 -4.248495  ... -0.814508 -1.850600 -4.248495 -4.248495   \n24 -3.401197 -3.401197 -3.401197  ... -0.356675 -3.401197 -3.401197 -3.401197   \n25 -3.912023 -3.912023 -3.912023  ... -0.867501 -1.514128 -3.912023 -3.912023   \n26 -3.688879 -3.688879 -3.688879  ... -0.254892 -3.688879 -3.688879 -3.688879   \n27 -4.700480 -4.700480 -4.700480  ... -0.768655 -2.302585 -4.700480 -4.700480   \n28 -2.995732 -2.995732 -2.995732  ... -2.995732 -2.995732 -2.995732 -2.995732   \n29 -5.010635 -5.010635 -5.010635  ... -1.576648 -1.576648 -5.010635 -5.010635   \n30 -3.401197 -3.401197 -3.401197  ... -0.356675 -3.401197 -3.401197 -3.401197   \n31 -4.787492 -2.389596 -4.787492  ... -0.855666 -4.787492 -4.787492 -4.787492   \n32 -3.401197 -3.401197 -3.401197  ... -1.003302 -3.401197 -3.401197 -3.401197   \n33 -5.135798 -5.135798 -5.135798  ... -0.340008 -2.737903 -5.135798 -5.135798   \n34 -2.995732 -2.995732 -2.995732  ... -0.597837 -2.995732 -2.995732 -2.995732   \n\n          21        22        23        24        25        26  \n0  -5.438079 -5.438079 -0.927220 -3.040184 -1.008228 -0.453917  \n1  -2.207275 -4.605170 -1.171183 -4.605170 -0.808217 -0.589963  \n2  -2.995732 -2.995732 -2.995732 -2.995732 -0.087011 -2.484907  \n3  -1.724507 -5.438079 -5.438079 -2.393557 -0.150404 -1.968690  \n4  -2.995732 -2.995732 -2.995732 -2.995732 -0.087011 -2.484907  \n5  -4.094345 -4.094345 -1.696449 -1.049822 -0.019418 -3.951244  \n6  -2.389596 -4.787492 -2.389596 -1.353505 -0.207639 -1.673976  \n7  -3.912023 -3.912023 -1.514128 -3.912023 -0.024098 -3.737670  \n8  -2.995732 -2.995732 -0.597837 -2.995732 -0.087011 -2.484907  \n9  -2.995732 -2.995732 -0.597837 -2.995732 -0.087011 -2.484907  \n10 -2.995732 -2.995732 -2.995732 -0.597837 -0.087011 -2.484907  \n11 -1.290984 -1.290984 -3.688879 -3.688879 -0.031749 -3.465736  \n12 -1.187444 -5.298317 -1.864330 -1.864330 -0.005222 -5.257495  \n13 -3.688879 -3.688879 -3.688879 -3.688879 -0.031749 -3.465736  \n14 -3.688879 -3.688879 -3.688879 -3.688879 -0.031749 -3.465736  \n15 -4.248495 -1.850600 -1.203973 -4.248495 -0.016261 -4.127134  \n16 -3.401197 -3.401197 -1.003302 -3.401197 -0.046520 -3.091042  \n17 -3.912023 -3.912023 -1.514128 -3.912023 -0.024098 -3.737670  \n18 -3.912023 -3.912023 -3.912023 -3.912023 -0.024098 -3.737670  \n19 -5.010635 -5.010635 -1.078810 -5.010635 -0.007067 -4.955827  \n20 -3.912023 -3.912023 -0.478036 -3.912023 -0.024098 -3.737670  \n21 -2.995732 -2.995732 -2.995732 -2.995732 -0.087011 -2.484907  \n22 -2.995732 -2.995732 -2.995732 -2.995732 -0.087011 -2.484907  \n23 -4.248495 -4.248495 -1.850600 -1.850600 -0.413562 -1.082612  \n24 -3.401197 -3.401197 -3.401197 -3.401197 -0.046520 -3.091042  \n25 -3.912023 -3.912023 -1.514128 -3.912023 -0.024098 -3.737670  \n26 -3.688879 -3.688879 -3.688879 -3.688879 -1.067841 -0.421213  \n27 -4.700480 -4.700480 -0.986908 -4.700480 -0.514099 -0.911401  \n28 -2.995732 -2.995732 -2.995732 -0.597837 -0.087011 -2.484907  \n29 -1.078810 -5.010635 -5.010635 -1.576648 -0.007067 -4.955827  \n30 -3.401197 -3.401197 -3.401197 -3.401197 -3.091042 -0.046520  \n31 -4.787492 -4.787492 -2.389596 -1.073920 -0.103378 -2.320604  \n32 -3.401197 -3.401197 -3.401197 -1.003302 -0.046520 -3.091042  \n33 -5.135798 -5.135798 -2.091276 -2.737903 -0.138836 -2.043074  \n34 -2.995732 -2.995732 -2.995732 -2.995732 -0.087011 -2.484907  \n\n[35 rows x 27 columns]",
      "text/html": "<div>\n<style scoped>\n    .dataframe tbody tr th:only-of-type {\n        vertical-align: middle;\n    }\n\n    .dataframe tbody tr th {\n        vertical-align: top;\n    }\n\n    .dataframe thead th {\n        text-align: right;\n    }\n</style>\n<table border=\"1\" class=\"dataframe\">\n  <thead>\n    <tr style=\"text-align: right;\">\n      <th></th>\n      <th>0</th>\n      <th>1</th>\n      <th>2</th>\n      <th>3</th>\n      <th>4</th>\n      <th>5</th>\n      <th>6</th>\n      <th>7</th>\n      <th>8</th>\n      <th>9</th>\n      <th>...</th>\n      <th>17</th>\n      <th>18</th>\n      <th>19</th>\n      <th>20</th>\n      <th>21</th>\n      <th>22</th>\n      <th>23</th>\n      <th>24</th>\n      <th>25</th>\n      <th>26</th>\n    </tr>\n  </thead>\n  <tbody>\n    <tr>\n      <th>0</th>\n      <td>-0.265508</td>\n      <td>-5.407172</td>\n      <td>-1.475346</td>\n      <td>-5.438079</td>\n      <td>-2.393557</td>\n      <td>-5.438079</td>\n      <td>-5.438079</td>\n      <td>-1.327205</td>\n      <td>-5.438079</td>\n      <td>-5.438079</td>\n      <td>...</td>\n      <td>-0.728549</td>\n      <td>-3.040184</td>\n      <td>-5.438079</td>\n      <td>-5.438079</td>\n      <td>-5.438079</td>\n      <td>-5.438079</td>\n      <td>-0.927220</td>\n      <td>-3.040184</td>\n      <td>-1.008228</td>\n      <td>-0.453917</td>\n    </tr>\n    <tr>\n      <th>1</th>\n      <td>-0.021740</td>\n      <td>-4.532599</td>\n      <td>-4.532599</td>\n      <td>-4.605170</td>\n      <td>-4.605170</td>\n      <td>-4.605170</td>\n      <td>-4.605170</td>\n      <td>-4.605170</td>\n      <td>-4.605170</td>\n      <td>-4.605170</td>\n      <td>...</td>\n      <td>-0.891598</td>\n      <td>-4.605170</td>\n      <td>-2.207275</td>\n      <td>-4.605170</td>\n      <td>-2.207275</td>\n      <td>-4.605170</td>\n      <td>-1.171183</td>\n      <td>-4.605170</td>\n      <td>-0.808217</td>\n      <td>-0.589963</td>\n    </tr>\n    <tr>\n      <th>2</th>\n      <td>-0.167054</td>\n      <td>-2.564949</td>\n      <td>-2.564949</td>\n      <td>-2.995732</td>\n      <td>-0.597837</td>\n      <td>-2.995732</td>\n      <td>-2.995732</td>\n      <td>-2.995732</td>\n      <td>-2.995732</td>\n      <td>-2.995732</td>\n      <td>...</td>\n      <td>-0.597837</td>\n      <td>-2.995732</td>\n      <td>-2.995732</td>\n      <td>-2.995732</td>\n      <td>-2.995732</td>\n      <td>-2.995732</td>\n      <td>-2.995732</td>\n      <td>-2.995732</td>\n      <td>-0.087011</td>\n      <td>-2.484907</td>\n    </tr>\n    <tr>\n      <th>3</th>\n      <td>-5.407172</td>\n      <td>-0.009009</td>\n      <td>-5.407172</td>\n      <td>-5.438079</td>\n      <td>-5.438079</td>\n      <td>-5.438079</td>\n      <td>-5.438079</td>\n      <td>-5.438079</td>\n      <td>-5.438079</td>\n      <td>-3.040184</td>\n      <td>...</td>\n      <td>-0.562882</td>\n      <td>-2.004092</td>\n      <td>-5.438079</td>\n      <td>-5.438079</td>\n      <td>-1.724507</td>\n      <td>-5.438079</td>\n      <td>-5.438079</td>\n      <td>-2.393557</td>\n      <td>-0.150404</td>\n      <td>-1.968690</td>\n    </tr>\n    <tr>\n      <th>4</th>\n      <td>-0.167054</td>\n      <td>-2.564949</td>\n      <td>-2.564949</td>\n      <td>-0.597837</td>\n      <td>-2.995732</td>\n      <td>-2.995732</td>\n      <td>-2.995732</td>\n      <td>-2.995732</td>\n      <td>-2.995732</td>\n      <td>-2.995732</td>\n      <td>...</td>\n      <td>-2.995732</td>\n      <td>-2.995732</td>\n      <td>-2.995732</td>\n      <td>-2.995732</td>\n      <td>-2.995732</td>\n      <td>-2.995732</td>\n      <td>-2.995732</td>\n      <td>-2.995732</td>\n      <td>-0.087011</td>\n      <td>-2.484907</td>\n    </tr>\n    <tr>\n      <th>5</th>\n      <td>-0.038466</td>\n      <td>-3.970292</td>\n      <td>-3.970292</td>\n      <td>-4.094345</td>\n      <td>-4.094345</td>\n      <td>-4.094345</td>\n      <td>-4.094345</td>\n      <td>-4.094345</td>\n      <td>-4.094345</td>\n      <td>-4.094345</td>\n      <td>...</td>\n      <td>-1.049822</td>\n      <td>-4.094345</td>\n      <td>-4.094345</td>\n      <td>-4.094345</td>\n      <td>-4.094345</td>\n      <td>-4.094345</td>\n      <td>-1.696449</td>\n      <td>-1.049822</td>\n      <td>-0.019418</td>\n      <td>-3.951244</td>\n    </tr>\n    <tr>\n      <th>6</th>\n      <td>-0.017858</td>\n      <td>-4.727388</td>\n      <td>-4.727388</td>\n      <td>-4.787492</td>\n      <td>-0.676618</td>\n      <td>-4.787492</td>\n      <td>-1.353505</td>\n      <td>-4.787492</td>\n      <td>-4.787492</td>\n      <td>-2.389596</td>\n      <td>...</td>\n      <td>-0.676618</td>\n      <td>-4.787492</td>\n      <td>-4.787492</td>\n      <td>-4.787492</td>\n      <td>-2.389596</td>\n      <td>-4.787492</td>\n      <td>-2.389596</td>\n      <td>-1.353505</td>\n      <td>-0.207639</td>\n      <td>-1.673976</td>\n    </tr>\n    <tr>\n      <th>7</th>\n      <td>-0.047628</td>\n      <td>-3.761200</td>\n      <td>-3.761200</td>\n      <td>-3.912023</td>\n      <td>-3.912023</td>\n      <td>-1.514128</td>\n      <td>-3.912023</td>\n      <td>-3.912023</td>\n      <td>-3.912023</td>\n      <td>-3.912023</td>\n      <td>...</td>\n      <td>-1.514128</td>\n      <td>-0.867501</td>\n      <td>-3.912023</td>\n      <td>-3.912023</td>\n      <td>-3.912023</td>\n      <td>-3.912023</td>\n      <td>-1.514128</td>\n      <td>-3.912023</td>\n      <td>-0.024098</td>\n      <td>-3.737670</td>\n    </tr>\n    <tr>\n      <th>8</th>\n      <td>-2.564949</td>\n      <td>-0.167054</td>\n      <td>-2.564949</td>\n      <td>-2.995732</td>\n      <td>-2.995732</td>\n      <td>-2.995732</td>\n      <td>-2.995732</td>\n      <td>-2.995732</td>\n      <td>-2.995732</td>\n      <td>-2.995732</td>\n      <td>...</td>\n      <td>-2.995732</td>\n      <td>-2.995732</td>\n      <td>-2.995732</td>\n      <td>-2.995732</td>\n      <td>-2.995732</td>\n      <td>-2.995732</td>\n      <td>-0.597837</td>\n      <td>-2.995732</td>\n      <td>-0.087011</td>\n      <td>-2.484907</td>\n    </tr>\n    <tr>\n      <th>9</th>\n      <td>-0.167054</td>\n      <td>-2.564949</td>\n      <td>-2.564949</td>\n      <td>-2.995732</td>\n      <td>-2.995732</td>\n      <td>-2.995732</td>\n      <td>-2.995732</td>\n      <td>-2.995732</td>\n      <td>-2.995732</td>\n      <td>-2.995732</td>\n      <td>...</td>\n      <td>-2.995732</td>\n      <td>-2.995732</td>\n      <td>-2.995732</td>\n      <td>-2.995732</td>\n      <td>-2.995732</td>\n      <td>-2.995732</td>\n      <td>-0.597837</td>\n      <td>-2.995732</td>\n      <td>-0.087011</td>\n      <td>-2.484907</td>\n    </tr>\n    <tr>\n      <th>10</th>\n      <td>-0.167054</td>\n      <td>-2.564949</td>\n      <td>-2.564949</td>\n      <td>-2.995732</td>\n      <td>-2.995732</td>\n      <td>-2.995732</td>\n      <td>-0.597837</td>\n      <td>-2.995732</td>\n      <td>-2.995732</td>\n      <td>-2.995732</td>\n      <td>...</td>\n      <td>-2.995732</td>\n      <td>-2.995732</td>\n      <td>-2.995732</td>\n      <td>-2.995732</td>\n      <td>-2.995732</td>\n      <td>-2.995732</td>\n      <td>-2.995732</td>\n      <td>-0.597837</td>\n      <td>-0.087011</td>\n      <td>-2.484907</td>\n    </tr>\n    <tr>\n      <th>11</th>\n      <td>-0.062520</td>\n      <td>-3.496508</td>\n      <td>-3.496508</td>\n      <td>-3.688879</td>\n      <td>-3.688879</td>\n      <td>-3.688879</td>\n      <td>-1.290984</td>\n      <td>-3.688879</td>\n      <td>-3.688879</td>\n      <td>-1.290984</td>\n      <td>...</td>\n      <td>-1.290984</td>\n      <td>-3.688879</td>\n      <td>-3.688879</td>\n      <td>-3.688879</td>\n      <td>-1.290984</td>\n      <td>-1.290984</td>\n      <td>-3.688879</td>\n      <td>-3.688879</td>\n      <td>-0.031749</td>\n      <td>-3.465736</td>\n    </tr>\n    <tr>\n      <th>12</th>\n      <td>-0.010417</td>\n      <td>-5.262690</td>\n      <td>-5.262690</td>\n      <td>-5.298317</td>\n      <td>-5.298317</td>\n      <td>-5.298317</td>\n      <td>-5.298317</td>\n      <td>-5.298317</td>\n      <td>-5.298317</td>\n      <td>-5.298317</td>\n      <td>...</td>\n      <td>-1.187444</td>\n      <td>-2.900422</td>\n      <td>-5.298317</td>\n      <td>-5.298317</td>\n      <td>-1.187444</td>\n      <td>-5.298317</td>\n      <td>-1.864330</td>\n      <td>-1.864330</td>\n      <td>-0.005222</td>\n      <td>-5.257495</td>\n    </tr>\n    <tr>\n      <th>13</th>\n      <td>-0.062520</td>\n      <td>-3.496508</td>\n      <td>-3.496508</td>\n      <td>-3.688879</td>\n      <td>-1.290984</td>\n      <td>-3.688879</td>\n      <td>-3.688879</td>\n      <td>-3.688879</td>\n      <td>-3.688879</td>\n      <td>-3.688879</td>\n      <td>...</td>\n      <td>-0.254892</td>\n      <td>-3.688879</td>\n      <td>-3.688879</td>\n      <td>-3.688879</td>\n      <td>-3.688879</td>\n      <td>-3.688879</td>\n      <td>-3.688879</td>\n      <td>-3.688879</td>\n      <td>-0.031749</td>\n      <td>-3.465736</td>\n    </tr>\n    <tr>\n      <th>14</th>\n      <td>-0.062520</td>\n      <td>-3.496508</td>\n      <td>-3.496508</td>\n      <td>-3.688879</td>\n      <td>-1.290984</td>\n      <td>-1.290984</td>\n      <td>-3.688879</td>\n      <td>-3.688879</td>\n      <td>-3.688879</td>\n      <td>-3.688879</td>\n      <td>...</td>\n      <td>-0.644357</td>\n      <td>-1.290984</td>\n      <td>-3.688879</td>\n      <td>-3.688879</td>\n      <td>-3.688879</td>\n      <td>-3.688879</td>\n      <td>-3.688879</td>\n      <td>-3.688879</td>\n      <td>-0.031749</td>\n      <td>-3.465736</td>\n    </tr>\n    <tr>\n      <th>15</th>\n      <td>-0.032261</td>\n      <td>-4.143135</td>\n      <td>-4.143135</td>\n      <td>-4.248495</td>\n      <td>-4.248495</td>\n      <td>-4.248495</td>\n      <td>-4.248495</td>\n      <td>-4.248495</td>\n      <td>-4.248495</td>\n      <td>-4.248495</td>\n      <td>...</td>\n      <td>-0.814508</td>\n      <td>-4.248495</td>\n      <td>-4.248495</td>\n      <td>-4.248495</td>\n      <td>-4.248495</td>\n      <td>-1.850600</td>\n      <td>-1.203973</td>\n      <td>-4.248495</td>\n      <td>-0.016261</td>\n      <td>-4.127134</td>\n    </tr>\n    <tr>\n      <th>16</th>\n      <td>-0.090972</td>\n      <td>-3.135494</td>\n      <td>-3.135494</td>\n      <td>-3.401197</td>\n      <td>-3.401197</td>\n      <td>-3.401197</td>\n      <td>-3.401197</td>\n      <td>-3.401197</td>\n      <td>-3.401197</td>\n      <td>-3.401197</td>\n      <td>...</td>\n      <td>-1.003302</td>\n      <td>-3.401197</td>\n      <td>-3.401197</td>\n      <td>-3.401197</td>\n      <td>-3.401197</td>\n      <td>-3.401197</td>\n      <td>-1.003302</td>\n      <td>-3.401197</td>\n      <td>-0.046520</td>\n      <td>-3.091042</td>\n    </tr>\n    <tr>\n      <th>17</th>\n      <td>-0.047628</td>\n      <td>-3.761200</td>\n      <td>-3.761200</td>\n      <td>-3.912023</td>\n      <td>-3.912023</td>\n      <td>-3.912023</td>\n      <td>-3.912023</td>\n      <td>-3.912023</td>\n      <td>-3.912023</td>\n      <td>-3.912023</td>\n      <td>...</td>\n      <td>-0.478036</td>\n      <td>-3.912023</td>\n      <td>-3.912023</td>\n      <td>-3.912023</td>\n      <td>-3.912023</td>\n      <td>-3.912023</td>\n      <td>-1.514128</td>\n      <td>-3.912023</td>\n      <td>-0.024098</td>\n      <td>-3.737670</td>\n    </tr>\n    <tr>\n      <th>18</th>\n      <td>-3.761200</td>\n      <td>-3.761200</td>\n      <td>-0.047628</td>\n      <td>-3.912023</td>\n      <td>-0.198451</td>\n      <td>-3.912023</td>\n      <td>-3.912023</td>\n      <td>-3.912023</td>\n      <td>-3.912023</td>\n      <td>-3.912023</td>\n      <td>...</td>\n      <td>-0.198451</td>\n      <td>-3.912023</td>\n      <td>-3.912023</td>\n      <td>-3.912023</td>\n      <td>-3.912023</td>\n      <td>-3.912023</td>\n      <td>-3.912023</td>\n      <td>-3.912023</td>\n      <td>-0.024098</td>\n      <td>-3.737670</td>\n    </tr>\n    <tr>\n      <th>19</th>\n      <td>-0.014085</td>\n      <td>-4.962845</td>\n      <td>-4.962845</td>\n      <td>-5.010635</td>\n      <td>-2.612740</td>\n      <td>-5.010635</td>\n      <td>-5.010635</td>\n      <td>-5.010635</td>\n      <td>-5.010635</td>\n      <td>-5.010635</td>\n      <td>...</td>\n      <td>-1.078810</td>\n      <td>-1.966113</td>\n      <td>-5.010635</td>\n      <td>-1.966113</td>\n      <td>-5.010635</td>\n      <td>-5.010635</td>\n      <td>-1.078810</td>\n      <td>-5.010635</td>\n      <td>-0.007067</td>\n      <td>-4.955827</td>\n    </tr>\n    <tr>\n      <th>20</th>\n      <td>-0.047628</td>\n      <td>-3.761200</td>\n      <td>-3.761200</td>\n      <td>-3.912023</td>\n      <td>-3.912023</td>\n      <td>-3.912023</td>\n      <td>-3.912023</td>\n      <td>-3.912023</td>\n      <td>-3.912023</td>\n      <td>-3.912023</td>\n      <td>...</td>\n      <td>-1.514128</td>\n      <td>-3.912023</td>\n      <td>-3.912023</td>\n      <td>-3.912023</td>\n      <td>-3.912023</td>\n      <td>-3.912023</td>\n      <td>-0.478036</td>\n      <td>-3.912023</td>\n      <td>-0.024098</td>\n      <td>-3.737670</td>\n    </tr>\n    <tr>\n      <th>21</th>\n      <td>-0.167054</td>\n      <td>-2.564949</td>\n      <td>-2.564949</td>\n      <td>-2.995732</td>\n      <td>-2.995732</td>\n      <td>-2.995732</td>\n      <td>-2.995732</td>\n      <td>-2.995732</td>\n      <td>-2.995732</td>\n      <td>-2.995732</td>\n      <td>...</td>\n      <td>-0.597837</td>\n      <td>-2.995732</td>\n      <td>-2.995732</td>\n      <td>-2.995732</td>\n      <td>-2.995732</td>\n      <td>-2.995732</td>\n      <td>-2.995732</td>\n      <td>-2.995732</td>\n      <td>-0.087011</td>\n      <td>-2.484907</td>\n    </tr>\n    <tr>\n      <th>22</th>\n      <td>-2.564949</td>\n      <td>-2.564949</td>\n      <td>-0.167054</td>\n      <td>-2.995732</td>\n      <td>-2.995732</td>\n      <td>-0.597837</td>\n      <td>-2.995732</td>\n      <td>-2.995732</td>\n      <td>-2.995732</td>\n      <td>-2.995732</td>\n      <td>...</td>\n      <td>-2.995732</td>\n      <td>-0.597837</td>\n      <td>-2.995732</td>\n      <td>-2.995732</td>\n      <td>-2.995732</td>\n      <td>-2.995732</td>\n      <td>-2.995732</td>\n      <td>-2.995732</td>\n      <td>-0.087011</td>\n      <td>-2.484907</td>\n    </tr>\n    <tr>\n      <th>23</th>\n      <td>-0.032261</td>\n      <td>-4.143135</td>\n      <td>-4.143135</td>\n      <td>-4.248495</td>\n      <td>-4.248495</td>\n      <td>-4.248495</td>\n      <td>-1.850600</td>\n      <td>-4.248495</td>\n      <td>-4.248495</td>\n      <td>-4.248495</td>\n      <td>...</td>\n      <td>-0.814508</td>\n      <td>-1.850600</td>\n      <td>-4.248495</td>\n      <td>-4.248495</td>\n      <td>-4.248495</td>\n      <td>-4.248495</td>\n      <td>-1.850600</td>\n      <td>-1.850600</td>\n      <td>-0.413562</td>\n      <td>-1.082612</td>\n    </tr>\n    <tr>\n      <th>24</th>\n      <td>-0.090972</td>\n      <td>-3.135494</td>\n      <td>-3.135494</td>\n      <td>-3.401197</td>\n      <td>-3.401197</td>\n      <td>-3.401197</td>\n      <td>-3.401197</td>\n      <td>-3.401197</td>\n      <td>-3.401197</td>\n      <td>-3.401197</td>\n      <td>...</td>\n      <td>-0.356675</td>\n      <td>-3.401197</td>\n      <td>-3.401197</td>\n      <td>-3.401197</td>\n      <td>-3.401197</td>\n      <td>-3.401197</td>\n      <td>-3.401197</td>\n      <td>-3.401197</td>\n      <td>-0.046520</td>\n      <td>-3.091042</td>\n    </tr>\n    <tr>\n      <th>25</th>\n      <td>-0.047628</td>\n      <td>-3.761200</td>\n      <td>-3.761200</td>\n      <td>-3.912023</td>\n      <td>-3.912023</td>\n      <td>-3.912023</td>\n      <td>-3.912023</td>\n      <td>-3.912023</td>\n      <td>-3.912023</td>\n      <td>-3.912023</td>\n      <td>...</td>\n      <td>-0.867501</td>\n      <td>-1.514128</td>\n      <td>-3.912023</td>\n      <td>-3.912023</td>\n      <td>-3.912023</td>\n      <td>-3.912023</td>\n      <td>-1.514128</td>\n      <td>-3.912023</td>\n      <td>-0.024098</td>\n      <td>-3.737670</td>\n    </tr>\n    <tr>\n      <th>26</th>\n      <td>-3.496508</td>\n      <td>-0.451985</td>\n      <td>-1.098612</td>\n      <td>-3.688879</td>\n      <td>-3.688879</td>\n      <td>-3.688879</td>\n      <td>-3.688879</td>\n      <td>-3.688879</td>\n      <td>-3.688879</td>\n      <td>-3.688879</td>\n      <td>...</td>\n      <td>-0.254892</td>\n      <td>-3.688879</td>\n      <td>-3.688879</td>\n      <td>-3.688879</td>\n      <td>-3.688879</td>\n      <td>-3.688879</td>\n      <td>-3.688879</td>\n      <td>-3.688879</td>\n      <td>-1.067841</td>\n      <td>-0.421213</td>\n    </tr>\n    <tr>\n      <th>27</th>\n      <td>-0.019608</td>\n      <td>-4.634729</td>\n      <td>-4.634729</td>\n      <td>-4.700480</td>\n      <td>-0.986908</td>\n      <td>-1.266493</td>\n      <td>-2.302585</td>\n      <td>-4.700480</td>\n      <td>-4.700480</td>\n      <td>-4.700480</td>\n      <td>...</td>\n      <td>-0.768655</td>\n      <td>-2.302585</td>\n      <td>-4.700480</td>\n      <td>-4.700480</td>\n      <td>-4.700480</td>\n      <td>-4.700480</td>\n      <td>-0.986908</td>\n      <td>-4.700480</td>\n      <td>-0.514099</td>\n      <td>-0.911401</td>\n    </tr>\n    <tr>\n      <th>28</th>\n      <td>-0.167054</td>\n      <td>-2.564949</td>\n      <td>-2.564949</td>\n      <td>-2.995732</td>\n      <td>-2.995732</td>\n      <td>-2.995732</td>\n      <td>-2.995732</td>\n      <td>-2.995732</td>\n      <td>-2.995732</td>\n      <td>-2.995732</td>\n      <td>...</td>\n      <td>-2.995732</td>\n      <td>-2.995732</td>\n      <td>-2.995732</td>\n      <td>-2.995732</td>\n      <td>-2.995732</td>\n      <td>-2.995732</td>\n      <td>-2.995732</td>\n      <td>-0.597837</td>\n      <td>-0.087011</td>\n      <td>-2.484907</td>\n    </tr>\n    <tr>\n      <th>29</th>\n      <td>-0.014085</td>\n      <td>-4.962845</td>\n      <td>-4.962845</td>\n      <td>-5.010635</td>\n      <td>-5.010635</td>\n      <td>-5.010635</td>\n      <td>-5.010635</td>\n      <td>-5.010635</td>\n      <td>-5.010635</td>\n      <td>-5.010635</td>\n      <td>...</td>\n      <td>-1.576648</td>\n      <td>-1.576648</td>\n      <td>-5.010635</td>\n      <td>-5.010635</td>\n      <td>-1.078810</td>\n      <td>-5.010635</td>\n      <td>-5.010635</td>\n      <td>-1.576648</td>\n      <td>-0.007067</td>\n      <td>-4.955827</td>\n    </tr>\n    <tr>\n      <th>30</th>\n      <td>-3.135494</td>\n      <td>-0.090972</td>\n      <td>-3.135494</td>\n      <td>-3.401197</td>\n      <td>-0.356675</td>\n      <td>-3.401197</td>\n      <td>-3.401197</td>\n      <td>-3.401197</td>\n      <td>-3.401197</td>\n      <td>-3.401197</td>\n      <td>...</td>\n      <td>-0.356675</td>\n      <td>-3.401197</td>\n      <td>-3.401197</td>\n      <td>-3.401197</td>\n      <td>-3.401197</td>\n      <td>-3.401197</td>\n      <td>-3.401197</td>\n      <td>-3.401197</td>\n      <td>-3.091042</td>\n      <td>-0.046520</td>\n    </tr>\n    <tr>\n      <th>31</th>\n      <td>-0.017858</td>\n      <td>-4.727388</td>\n      <td>-4.727388</td>\n      <td>-4.787492</td>\n      <td>-2.389596</td>\n      <td>-4.787492</td>\n      <td>-2.389596</td>\n      <td>-4.787492</td>\n      <td>-2.389596</td>\n      <td>-4.787492</td>\n      <td>...</td>\n      <td>-0.855666</td>\n      <td>-4.787492</td>\n      <td>-4.787492</td>\n      <td>-4.787492</td>\n      <td>-4.787492</td>\n      <td>-4.787492</td>\n      <td>-2.389596</td>\n      <td>-1.073920</td>\n      <td>-0.103378</td>\n      <td>-2.320604</td>\n    </tr>\n    <tr>\n      <th>32</th>\n      <td>-3.135494</td>\n      <td>-0.090972</td>\n      <td>-3.135494</td>\n      <td>-3.401197</td>\n      <td>-3.401197</td>\n      <td>-3.401197</td>\n      <td>-3.401197</td>\n      <td>-3.401197</td>\n      <td>-3.401197</td>\n      <td>-3.401197</td>\n      <td>...</td>\n      <td>-1.003302</td>\n      <td>-3.401197</td>\n      <td>-3.401197</td>\n      <td>-3.401197</td>\n      <td>-3.401197</td>\n      <td>-3.401197</td>\n      <td>-3.401197</td>\n      <td>-1.003302</td>\n      <td>-0.046520</td>\n      <td>-3.091042</td>\n    </tr>\n    <tr>\n      <th>33</th>\n      <td>-0.012346</td>\n      <td>-5.093750</td>\n      <td>-5.093750</td>\n      <td>-5.135798</td>\n      <td>-5.135798</td>\n      <td>-5.135798</td>\n      <td>-2.737903</td>\n      <td>-5.135798</td>\n      <td>-5.135798</td>\n      <td>-5.135798</td>\n      <td>...</td>\n      <td>-0.340008</td>\n      <td>-2.737903</td>\n      <td>-5.135798</td>\n      <td>-5.135798</td>\n      <td>-5.135798</td>\n      <td>-5.135798</td>\n      <td>-2.091276</td>\n      <td>-2.737903</td>\n      <td>-0.138836</td>\n      <td>-2.043074</td>\n    </tr>\n    <tr>\n      <th>34</th>\n      <td>-0.167054</td>\n      <td>-2.564949</td>\n      <td>-2.564949</td>\n      <td>-2.995732</td>\n      <td>-2.995732</td>\n      <td>-2.995732</td>\n      <td>-2.995732</td>\n      <td>-2.995732</td>\n      <td>-2.995732</td>\n      <td>-2.995732</td>\n      <td>...</td>\n      <td>-0.597837</td>\n      <td>-2.995732</td>\n      <td>-2.995732</td>\n      <td>-2.995732</td>\n      <td>-2.995732</td>\n      <td>-2.995732</td>\n      <td>-2.995732</td>\n      <td>-2.995732</td>\n      <td>-0.087011</td>\n      <td>-2.484907</td>\n    </tr>\n  </tbody>\n</table>\n<p>35 rows × 27 columns</p>\n</div>"
     },
     "execution_count": 39,
     "metadata": {},
     "output_type": "execute_result"
    }
   ],
   "source": [
    "df"
   ]
  },
  {
   "cell_type": "code",
   "execution_count": 40,
   "id": "9b6806de-4389-49d8-8b79-6ada04afa265",
   "metadata": {
    "pycharm": {
     "name": "#%%\n"
    }
   },
   "outputs": [],
   "source": [
    "df.columns = columns_names"
   ]
  },
  {
   "cell_type": "code",
   "execution_count": 41,
   "id": "d96afdee-5224-4559-92e4-a9ed7e4227c6",
   "metadata": {
    "pycharm": {
     "name": "#%%\n"
    }
   },
   "outputs": [],
   "source": [
    "df['family'] = cNB.classes_"
   ]
  },
  {
   "cell_type": "code",
   "execution_count": 42,
   "id": "fd307015-4ae0-47c9-9c42-9a9f385d4785",
   "metadata": {
    "pycharm": {
     "name": "#%%\n"
    }
   },
   "outputs": [
    {
     "data": {
      "text/plain": "       gills     pores     teeth  hymenium_black  hymenium_brown  \\\n0  -0.265508 -5.407172 -1.475346       -5.438079       -2.393557   \n15 -0.032261 -4.143135 -4.143135       -4.248495       -4.248495   \n\n    hymenium_gray  hymenium_pink  hymenium_pink-brown  hymenium_pink-white  \\\n0       -5.438079      -5.438079            -1.327205            -5.438079   \n15      -4.248495      -4.248495            -4.248495            -4.248495   \n\n    hymenium_red  ...  cap_gray  cap_greenish  cap_pink   cap_red  cap_violet  \\\n0      -5.438079  ... -3.040184     -5.438079 -5.438079 -5.438079   -5.438079   \n15     -4.248495  ... -4.248495     -4.248495 -4.248495 -4.248495   -1.850600   \n\n    cap_white  cap_yellow  scales_no  scales_yes       family  \n0   -0.927220   -3.040184  -1.008228   -0.453917  agaricaceae  \n15  -1.203973   -4.248495  -0.016261   -4.127134  inocybaceae  \n\n[2 rows x 28 columns]",
      "text/html": "<div>\n<style scoped>\n    .dataframe tbody tr th:only-of-type {\n        vertical-align: middle;\n    }\n\n    .dataframe tbody tr th {\n        vertical-align: top;\n    }\n\n    .dataframe thead th {\n        text-align: right;\n    }\n</style>\n<table border=\"1\" class=\"dataframe\">\n  <thead>\n    <tr style=\"text-align: right;\">\n      <th></th>\n      <th>gills</th>\n      <th>pores</th>\n      <th>teeth</th>\n      <th>hymenium_black</th>\n      <th>hymenium_brown</th>\n      <th>hymenium_gray</th>\n      <th>hymenium_pink</th>\n      <th>hymenium_pink-brown</th>\n      <th>hymenium_pink-white</th>\n      <th>hymenium_red</th>\n      <th>...</th>\n      <th>cap_gray</th>\n      <th>cap_greenish</th>\n      <th>cap_pink</th>\n      <th>cap_red</th>\n      <th>cap_violet</th>\n      <th>cap_white</th>\n      <th>cap_yellow</th>\n      <th>scales_no</th>\n      <th>scales_yes</th>\n      <th>family</th>\n    </tr>\n  </thead>\n  <tbody>\n    <tr>\n      <th>0</th>\n      <td>-0.265508</td>\n      <td>-5.407172</td>\n      <td>-1.475346</td>\n      <td>-5.438079</td>\n      <td>-2.393557</td>\n      <td>-5.438079</td>\n      <td>-5.438079</td>\n      <td>-1.327205</td>\n      <td>-5.438079</td>\n      <td>-5.438079</td>\n      <td>...</td>\n      <td>-3.040184</td>\n      <td>-5.438079</td>\n      <td>-5.438079</td>\n      <td>-5.438079</td>\n      <td>-5.438079</td>\n      <td>-0.927220</td>\n      <td>-3.040184</td>\n      <td>-1.008228</td>\n      <td>-0.453917</td>\n      <td>agaricaceae</td>\n    </tr>\n    <tr>\n      <th>15</th>\n      <td>-0.032261</td>\n      <td>-4.143135</td>\n      <td>-4.143135</td>\n      <td>-4.248495</td>\n      <td>-4.248495</td>\n      <td>-4.248495</td>\n      <td>-4.248495</td>\n      <td>-4.248495</td>\n      <td>-4.248495</td>\n      <td>-4.248495</td>\n      <td>...</td>\n      <td>-4.248495</td>\n      <td>-4.248495</td>\n      <td>-4.248495</td>\n      <td>-4.248495</td>\n      <td>-1.850600</td>\n      <td>-1.203973</td>\n      <td>-4.248495</td>\n      <td>-0.016261</td>\n      <td>-4.127134</td>\n      <td>inocybaceae</td>\n    </tr>\n  </tbody>\n</table>\n<p>2 rows × 28 columns</p>\n</div>"
     },
     "execution_count": 42,
     "metadata": {},
     "output_type": "execute_result"
    }
   ],
   "source": [
    "df.loc[[0,15]]"
   ]
  },
  {
   "cell_type": "code",
   "execution_count": 43,
   "id": "4a53caaf-df18-4736-8a40-af6ba93192a8",
   "metadata": {
    "scrolled": true,
    "tags": [],
    "pycharm": {
     "name": "#%%\n"
    }
   },
   "outputs": [
    {
     "data": {
      "text/plain": "       gills     pores     teeth  hymenium_black  hymenium_brown  \\\n0  -0.265508 -5.407172 -1.475346       -5.438079       -2.393557   \n1  -0.021740 -4.532599 -4.532599       -4.605170       -4.605170   \n2  -0.167054 -2.564949 -2.564949       -2.995732       -0.597837   \n3  -5.407172 -0.009009 -5.407172       -5.438079       -5.438079   \n4  -0.167054 -2.564949 -2.564949       -0.597837       -2.995732   \n5  -0.038466 -3.970292 -3.970292       -4.094345       -4.094345   \n6  -0.017858 -4.727388 -4.727388       -4.787492       -0.676618   \n7  -0.047628 -3.761200 -3.761200       -3.912023       -3.912023   \n8  -2.564949 -0.167054 -2.564949       -2.995732       -2.995732   \n9  -0.167054 -2.564949 -2.564949       -2.995732       -2.995732   \n10 -0.167054 -2.564949 -2.564949       -2.995732       -2.995732   \n11 -0.062520 -3.496508 -3.496508       -3.688879       -3.688879   \n12 -0.010417 -5.262690 -5.262690       -5.298317       -5.298317   \n13 -0.062520 -3.496508 -3.496508       -3.688879       -1.290984   \n14 -0.062520 -3.496508 -3.496508       -3.688879       -1.290984   \n15 -0.032261 -4.143135 -4.143135       -4.248495       -4.248495   \n16 -0.090972 -3.135494 -3.135494       -3.401197       -3.401197   \n17 -0.047628 -3.761200 -3.761200       -3.912023       -3.912023   \n18 -3.761200 -3.761200 -0.047628       -3.912023       -0.198451   \n19 -0.014085 -4.962845 -4.962845       -5.010635       -2.612740   \n20 -0.047628 -3.761200 -3.761200       -3.912023       -3.912023   \n21 -0.167054 -2.564949 -2.564949       -2.995732       -2.995732   \n22 -2.564949 -2.564949 -0.167054       -2.995732       -2.995732   \n23 -0.032261 -4.143135 -4.143135       -4.248495       -4.248495   \n24 -0.090972 -3.135494 -3.135494       -3.401197       -3.401197   \n25 -0.047628 -3.761200 -3.761200       -3.912023       -3.912023   \n26 -3.496508 -0.451985 -1.098612       -3.688879       -3.688879   \n27 -0.019608 -4.634729 -4.634729       -4.700480       -0.986908   \n28 -0.167054 -2.564949 -2.564949       -2.995732       -2.995732   \n29 -0.014085 -4.962845 -4.962845       -5.010635       -5.010635   \n30 -3.135494 -0.090972 -3.135494       -3.401197       -0.356675   \n31 -0.017858 -4.727388 -4.727388       -4.787492       -2.389596   \n32 -3.135494 -0.090972 -3.135494       -3.401197       -3.401197   \n33 -0.012346 -5.093750 -5.093750       -5.135798       -5.135798   \n34 -0.167054 -2.564949 -2.564949       -2.995732       -2.995732   \n\n    hymenium_gray  hymenium_pink  hymenium_pink-brown  hymenium_pink-white  \\\n0       -5.438079      -5.438079            -1.327205            -5.438079   \n1       -4.605170      -4.605170            -4.605170            -4.605170   \n2       -2.995732      -2.995732            -2.995732            -2.995732   \n3       -5.438079      -5.438079            -5.438079            -5.438079   \n4       -2.995732      -2.995732            -2.995732            -2.995732   \n5       -4.094345      -4.094345            -4.094345            -4.094345   \n6       -4.787492      -1.353505            -4.787492            -4.787492   \n7       -1.514128      -3.912023            -3.912023            -3.912023   \n8       -2.995732      -2.995732            -2.995732            -2.995732   \n9       -2.995732      -2.995732            -2.995732            -2.995732   \n10      -2.995732      -0.597837            -2.995732            -2.995732   \n11      -3.688879      -1.290984            -3.688879            -3.688879   \n12      -5.298317      -5.298317            -5.298317            -5.298317   \n13      -3.688879      -3.688879            -3.688879            -3.688879   \n14      -1.290984      -3.688879            -3.688879            -3.688879   \n15      -4.248495      -4.248495            -4.248495            -4.248495   \n16      -3.401197      -3.401197            -3.401197            -3.401197   \n17      -3.912023      -3.912023            -3.912023            -3.912023   \n18      -3.912023      -3.912023            -3.912023            -3.912023   \n19      -5.010635      -5.010635            -5.010635            -5.010635   \n20      -3.912023      -3.912023            -3.912023            -3.912023   \n21      -2.995732      -2.995732            -2.995732            -2.995732   \n22      -0.597837      -2.995732            -2.995732            -2.995732   \n23      -4.248495      -1.850600            -4.248495            -4.248495   \n24      -3.401197      -3.401197            -3.401197            -3.401197   \n25      -3.912023      -3.912023            -3.912023            -3.912023   \n26      -3.688879      -3.688879            -3.688879            -3.688879   \n27      -1.266493      -2.302585            -4.700480            -4.700480   \n28      -2.995732      -2.995732            -2.995732            -2.995732   \n29      -5.010635      -5.010635            -5.010635            -5.010635   \n30      -3.401197      -3.401197            -3.401197            -3.401197   \n31      -4.787492      -2.389596            -4.787492            -2.389596   \n32      -3.401197      -3.401197            -3.401197            -3.401197   \n33      -5.135798      -2.737903            -5.135798            -5.135798   \n34      -2.995732      -2.995732            -2.995732            -2.995732   \n\n    hymenium_red  ...  cap_brown  cap_gray  cap_greenish  cap_pink   cap_red  \\\n0      -5.438079  ...  -0.728549 -3.040184     -5.438079 -5.438079 -5.438079   \n1      -4.605170  ...  -0.891598 -4.605170     -2.207275 -4.605170 -2.207275   \n2      -2.995732  ...  -0.597837 -2.995732     -2.995732 -2.995732 -2.995732   \n3      -3.040184  ...  -0.562882 -2.004092     -5.438079 -5.438079 -1.724507   \n4      -2.995732  ...  -2.995732 -2.995732     -2.995732 -2.995732 -2.995732   \n5      -4.094345  ...  -1.049822 -4.094345     -4.094345 -4.094345 -4.094345   \n6      -2.389596  ...  -0.676618 -4.787492     -4.787492 -4.787492 -2.389596   \n7      -3.912023  ...  -1.514128 -0.867501     -3.912023 -3.912023 -3.912023   \n8      -2.995732  ...  -2.995732 -2.995732     -2.995732 -2.995732 -2.995732   \n9      -2.995732  ...  -2.995732 -2.995732     -2.995732 -2.995732 -2.995732   \n10     -2.995732  ...  -2.995732 -2.995732     -2.995732 -2.995732 -2.995732   \n11     -1.290984  ...  -1.290984 -3.688879     -3.688879 -3.688879 -1.290984   \n12     -5.298317  ...  -1.187444 -2.900422     -5.298317 -5.298317 -1.187444   \n13     -3.688879  ...  -0.254892 -3.688879     -3.688879 -3.688879 -3.688879   \n14     -3.688879  ...  -0.644357 -1.290984     -3.688879 -3.688879 -3.688879   \n15     -4.248495  ...  -0.814508 -4.248495     -4.248495 -4.248495 -4.248495   \n16     -3.401197  ...  -1.003302 -3.401197     -3.401197 -3.401197 -3.401197   \n17     -3.912023  ...  -0.478036 -3.912023     -3.912023 -3.912023 -3.912023   \n18     -3.912023  ...  -0.198451 -3.912023     -3.912023 -3.912023 -3.912023   \n19     -5.010635  ...  -1.078810 -1.966113     -5.010635 -1.966113 -5.010635   \n20     -3.912023  ...  -1.514128 -3.912023     -3.912023 -3.912023 -3.912023   \n21     -2.995732  ...  -0.597837 -2.995732     -2.995732 -2.995732 -2.995732   \n22     -2.995732  ...  -2.995732 -0.597837     -2.995732 -2.995732 -2.995732   \n23     -4.248495  ...  -0.814508 -1.850600     -4.248495 -4.248495 -4.248495   \n24     -3.401197  ...  -0.356675 -3.401197     -3.401197 -3.401197 -3.401197   \n25     -3.912023  ...  -0.867501 -1.514128     -3.912023 -3.912023 -3.912023   \n26     -3.688879  ...  -0.254892 -3.688879     -3.688879 -3.688879 -3.688879   \n27     -4.700480  ...  -0.768655 -2.302585     -4.700480 -4.700480 -4.700480   \n28     -2.995732  ...  -2.995732 -2.995732     -2.995732 -2.995732 -2.995732   \n29     -5.010635  ...  -1.576648 -1.576648     -5.010635 -5.010635 -1.078810   \n30     -3.401197  ...  -0.356675 -3.401197     -3.401197 -3.401197 -3.401197   \n31     -4.787492  ...  -0.855666 -4.787492     -4.787492 -4.787492 -4.787492   \n32     -3.401197  ...  -1.003302 -3.401197     -3.401197 -3.401197 -3.401197   \n33     -5.135798  ...  -0.340008 -2.737903     -5.135798 -5.135798 -5.135798   \n34     -2.995732  ...  -0.597837 -2.995732     -2.995732 -2.995732 -2.995732   \n\n    cap_violet  cap_white  cap_yellow  scales_no  scales_yes  \n0    -5.438079  -0.927220   -3.040184  -1.008228   -0.453917  \n1    -4.605170  -1.171183   -4.605170  -0.808217   -0.589963  \n2    -2.995732  -2.995732   -2.995732  -0.087011   -2.484907  \n3    -5.438079  -5.438079   -2.393557  -0.150404   -1.968690  \n4    -2.995732  -2.995732   -2.995732  -0.087011   -2.484907  \n5    -4.094345  -1.696449   -1.049822  -0.019418   -3.951244  \n6    -4.787492  -2.389596   -1.353505  -0.207639   -1.673976  \n7    -3.912023  -1.514128   -3.912023  -0.024098   -3.737670  \n8    -2.995732  -0.597837   -2.995732  -0.087011   -2.484907  \n9    -2.995732  -0.597837   -2.995732  -0.087011   -2.484907  \n10   -2.995732  -2.995732   -0.597837  -0.087011   -2.484907  \n11   -1.290984  -3.688879   -3.688879  -0.031749   -3.465736  \n12   -5.298317  -1.864330   -1.864330  -0.005222   -5.257495  \n13   -3.688879  -3.688879   -3.688879  -0.031749   -3.465736  \n14   -3.688879  -3.688879   -3.688879  -0.031749   -3.465736  \n15   -1.850600  -1.203973   -4.248495  -0.016261   -4.127134  \n16   -3.401197  -1.003302   -3.401197  -0.046520   -3.091042  \n17   -3.912023  -1.514128   -3.912023  -0.024098   -3.737670  \n18   -3.912023  -3.912023   -3.912023  -0.024098   -3.737670  \n19   -5.010635  -1.078810   -5.010635  -0.007067   -4.955827  \n20   -3.912023  -0.478036   -3.912023  -0.024098   -3.737670  \n21   -2.995732  -2.995732   -2.995732  -0.087011   -2.484907  \n22   -2.995732  -2.995732   -2.995732  -0.087011   -2.484907  \n23   -4.248495  -1.850600   -1.850600  -0.413562   -1.082612  \n24   -3.401197  -3.401197   -3.401197  -0.046520   -3.091042  \n25   -3.912023  -1.514128   -3.912023  -0.024098   -3.737670  \n26   -3.688879  -3.688879   -3.688879  -1.067841   -0.421213  \n27   -4.700480  -0.986908   -4.700480  -0.514099   -0.911401  \n28   -2.995732  -2.995732   -0.597837  -0.087011   -2.484907  \n29   -5.010635  -5.010635   -1.576648  -0.007067   -4.955827  \n30   -3.401197  -3.401197   -3.401197  -3.091042   -0.046520  \n31   -4.787492  -2.389596   -1.073920  -0.103378   -2.320604  \n32   -3.401197  -3.401197   -1.003302  -0.046520   -3.091042  \n33   -5.135798  -2.091276   -2.737903  -0.138836   -2.043074  \n34   -2.995732  -2.995732   -2.995732  -0.087011   -2.484907  \n\n[35 rows x 27 columns]",
      "text/html": "<div>\n<style scoped>\n    .dataframe tbody tr th:only-of-type {\n        vertical-align: middle;\n    }\n\n    .dataframe tbody tr th {\n        vertical-align: top;\n    }\n\n    .dataframe thead th {\n        text-align: right;\n    }\n</style>\n<table border=\"1\" class=\"dataframe\">\n  <thead>\n    <tr style=\"text-align: right;\">\n      <th></th>\n      <th>gills</th>\n      <th>pores</th>\n      <th>teeth</th>\n      <th>hymenium_black</th>\n      <th>hymenium_brown</th>\n      <th>hymenium_gray</th>\n      <th>hymenium_pink</th>\n      <th>hymenium_pink-brown</th>\n      <th>hymenium_pink-white</th>\n      <th>hymenium_red</th>\n      <th>...</th>\n      <th>cap_brown</th>\n      <th>cap_gray</th>\n      <th>cap_greenish</th>\n      <th>cap_pink</th>\n      <th>cap_red</th>\n      <th>cap_violet</th>\n      <th>cap_white</th>\n      <th>cap_yellow</th>\n      <th>scales_no</th>\n      <th>scales_yes</th>\n    </tr>\n  </thead>\n  <tbody>\n    <tr>\n      <th>0</th>\n      <td>-0.265508</td>\n      <td>-5.407172</td>\n      <td>-1.475346</td>\n      <td>-5.438079</td>\n      <td>-2.393557</td>\n      <td>-5.438079</td>\n      <td>-5.438079</td>\n      <td>-1.327205</td>\n      <td>-5.438079</td>\n      <td>-5.438079</td>\n      <td>...</td>\n      <td>-0.728549</td>\n      <td>-3.040184</td>\n      <td>-5.438079</td>\n      <td>-5.438079</td>\n      <td>-5.438079</td>\n      <td>-5.438079</td>\n      <td>-0.927220</td>\n      <td>-3.040184</td>\n      <td>-1.008228</td>\n      <td>-0.453917</td>\n    </tr>\n    <tr>\n      <th>1</th>\n      <td>-0.021740</td>\n      <td>-4.532599</td>\n      <td>-4.532599</td>\n      <td>-4.605170</td>\n      <td>-4.605170</td>\n      <td>-4.605170</td>\n      <td>-4.605170</td>\n      <td>-4.605170</td>\n      <td>-4.605170</td>\n      <td>-4.605170</td>\n      <td>...</td>\n      <td>-0.891598</td>\n      <td>-4.605170</td>\n      <td>-2.207275</td>\n      <td>-4.605170</td>\n      <td>-2.207275</td>\n      <td>-4.605170</td>\n      <td>-1.171183</td>\n      <td>-4.605170</td>\n      <td>-0.808217</td>\n      <td>-0.589963</td>\n    </tr>\n    <tr>\n      <th>2</th>\n      <td>-0.167054</td>\n      <td>-2.564949</td>\n      <td>-2.564949</td>\n      <td>-2.995732</td>\n      <td>-0.597837</td>\n      <td>-2.995732</td>\n      <td>-2.995732</td>\n      <td>-2.995732</td>\n      <td>-2.995732</td>\n      <td>-2.995732</td>\n      <td>...</td>\n      <td>-0.597837</td>\n      <td>-2.995732</td>\n      <td>-2.995732</td>\n      <td>-2.995732</td>\n      <td>-2.995732</td>\n      <td>-2.995732</td>\n      <td>-2.995732</td>\n      <td>-2.995732</td>\n      <td>-0.087011</td>\n      <td>-2.484907</td>\n    </tr>\n    <tr>\n      <th>3</th>\n      <td>-5.407172</td>\n      <td>-0.009009</td>\n      <td>-5.407172</td>\n      <td>-5.438079</td>\n      <td>-5.438079</td>\n      <td>-5.438079</td>\n      <td>-5.438079</td>\n      <td>-5.438079</td>\n      <td>-5.438079</td>\n      <td>-3.040184</td>\n      <td>...</td>\n      <td>-0.562882</td>\n      <td>-2.004092</td>\n      <td>-5.438079</td>\n      <td>-5.438079</td>\n      <td>-1.724507</td>\n      <td>-5.438079</td>\n      <td>-5.438079</td>\n      <td>-2.393557</td>\n      <td>-0.150404</td>\n      <td>-1.968690</td>\n    </tr>\n    <tr>\n      <th>4</th>\n      <td>-0.167054</td>\n      <td>-2.564949</td>\n      <td>-2.564949</td>\n      <td>-0.597837</td>\n      <td>-2.995732</td>\n      <td>-2.995732</td>\n      <td>-2.995732</td>\n      <td>-2.995732</td>\n      <td>-2.995732</td>\n      <td>-2.995732</td>\n      <td>...</td>\n      <td>-2.995732</td>\n      <td>-2.995732</td>\n      <td>-2.995732</td>\n      <td>-2.995732</td>\n      <td>-2.995732</td>\n      <td>-2.995732</td>\n      <td>-2.995732</td>\n      <td>-2.995732</td>\n      <td>-0.087011</td>\n      <td>-2.484907</td>\n    </tr>\n    <tr>\n      <th>5</th>\n      <td>-0.038466</td>\n      <td>-3.970292</td>\n      <td>-3.970292</td>\n      <td>-4.094345</td>\n      <td>-4.094345</td>\n      <td>-4.094345</td>\n      <td>-4.094345</td>\n      <td>-4.094345</td>\n      <td>-4.094345</td>\n      <td>-4.094345</td>\n      <td>...</td>\n      <td>-1.049822</td>\n      <td>-4.094345</td>\n      <td>-4.094345</td>\n      <td>-4.094345</td>\n      <td>-4.094345</td>\n      <td>-4.094345</td>\n      <td>-1.696449</td>\n      <td>-1.049822</td>\n      <td>-0.019418</td>\n      <td>-3.951244</td>\n    </tr>\n    <tr>\n      <th>6</th>\n      <td>-0.017858</td>\n      <td>-4.727388</td>\n      <td>-4.727388</td>\n      <td>-4.787492</td>\n      <td>-0.676618</td>\n      <td>-4.787492</td>\n      <td>-1.353505</td>\n      <td>-4.787492</td>\n      <td>-4.787492</td>\n      <td>-2.389596</td>\n      <td>...</td>\n      <td>-0.676618</td>\n      <td>-4.787492</td>\n      <td>-4.787492</td>\n      <td>-4.787492</td>\n      <td>-2.389596</td>\n      <td>-4.787492</td>\n      <td>-2.389596</td>\n      <td>-1.353505</td>\n      <td>-0.207639</td>\n      <td>-1.673976</td>\n    </tr>\n    <tr>\n      <th>7</th>\n      <td>-0.047628</td>\n      <td>-3.761200</td>\n      <td>-3.761200</td>\n      <td>-3.912023</td>\n      <td>-3.912023</td>\n      <td>-1.514128</td>\n      <td>-3.912023</td>\n      <td>-3.912023</td>\n      <td>-3.912023</td>\n      <td>-3.912023</td>\n      <td>...</td>\n      <td>-1.514128</td>\n      <td>-0.867501</td>\n      <td>-3.912023</td>\n      <td>-3.912023</td>\n      <td>-3.912023</td>\n      <td>-3.912023</td>\n      <td>-1.514128</td>\n      <td>-3.912023</td>\n      <td>-0.024098</td>\n      <td>-3.737670</td>\n    </tr>\n    <tr>\n      <th>8</th>\n      <td>-2.564949</td>\n      <td>-0.167054</td>\n      <td>-2.564949</td>\n      <td>-2.995732</td>\n      <td>-2.995732</td>\n      <td>-2.995732</td>\n      <td>-2.995732</td>\n      <td>-2.995732</td>\n      <td>-2.995732</td>\n      <td>-2.995732</td>\n      <td>...</td>\n      <td>-2.995732</td>\n      <td>-2.995732</td>\n      <td>-2.995732</td>\n      <td>-2.995732</td>\n      <td>-2.995732</td>\n      <td>-2.995732</td>\n      <td>-0.597837</td>\n      <td>-2.995732</td>\n      <td>-0.087011</td>\n      <td>-2.484907</td>\n    </tr>\n    <tr>\n      <th>9</th>\n      <td>-0.167054</td>\n      <td>-2.564949</td>\n      <td>-2.564949</td>\n      <td>-2.995732</td>\n      <td>-2.995732</td>\n      <td>-2.995732</td>\n      <td>-2.995732</td>\n      <td>-2.995732</td>\n      <td>-2.995732</td>\n      <td>-2.995732</td>\n      <td>...</td>\n      <td>-2.995732</td>\n      <td>-2.995732</td>\n      <td>-2.995732</td>\n      <td>-2.995732</td>\n      <td>-2.995732</td>\n      <td>-2.995732</td>\n      <td>-0.597837</td>\n      <td>-2.995732</td>\n      <td>-0.087011</td>\n      <td>-2.484907</td>\n    </tr>\n    <tr>\n      <th>10</th>\n      <td>-0.167054</td>\n      <td>-2.564949</td>\n      <td>-2.564949</td>\n      <td>-2.995732</td>\n      <td>-2.995732</td>\n      <td>-2.995732</td>\n      <td>-0.597837</td>\n      <td>-2.995732</td>\n      <td>-2.995732</td>\n      <td>-2.995732</td>\n      <td>...</td>\n      <td>-2.995732</td>\n      <td>-2.995732</td>\n      <td>-2.995732</td>\n      <td>-2.995732</td>\n      <td>-2.995732</td>\n      <td>-2.995732</td>\n      <td>-2.995732</td>\n      <td>-0.597837</td>\n      <td>-0.087011</td>\n      <td>-2.484907</td>\n    </tr>\n    <tr>\n      <th>11</th>\n      <td>-0.062520</td>\n      <td>-3.496508</td>\n      <td>-3.496508</td>\n      <td>-3.688879</td>\n      <td>-3.688879</td>\n      <td>-3.688879</td>\n      <td>-1.290984</td>\n      <td>-3.688879</td>\n      <td>-3.688879</td>\n      <td>-1.290984</td>\n      <td>...</td>\n      <td>-1.290984</td>\n      <td>-3.688879</td>\n      <td>-3.688879</td>\n      <td>-3.688879</td>\n      <td>-1.290984</td>\n      <td>-1.290984</td>\n      <td>-3.688879</td>\n      <td>-3.688879</td>\n      <td>-0.031749</td>\n      <td>-3.465736</td>\n    </tr>\n    <tr>\n      <th>12</th>\n      <td>-0.010417</td>\n      <td>-5.262690</td>\n      <td>-5.262690</td>\n      <td>-5.298317</td>\n      <td>-5.298317</td>\n      <td>-5.298317</td>\n      <td>-5.298317</td>\n      <td>-5.298317</td>\n      <td>-5.298317</td>\n      <td>-5.298317</td>\n      <td>...</td>\n      <td>-1.187444</td>\n      <td>-2.900422</td>\n      <td>-5.298317</td>\n      <td>-5.298317</td>\n      <td>-1.187444</td>\n      <td>-5.298317</td>\n      <td>-1.864330</td>\n      <td>-1.864330</td>\n      <td>-0.005222</td>\n      <td>-5.257495</td>\n    </tr>\n    <tr>\n      <th>13</th>\n      <td>-0.062520</td>\n      <td>-3.496508</td>\n      <td>-3.496508</td>\n      <td>-3.688879</td>\n      <td>-1.290984</td>\n      <td>-3.688879</td>\n      <td>-3.688879</td>\n      <td>-3.688879</td>\n      <td>-3.688879</td>\n      <td>-3.688879</td>\n      <td>...</td>\n      <td>-0.254892</td>\n      <td>-3.688879</td>\n      <td>-3.688879</td>\n      <td>-3.688879</td>\n      <td>-3.688879</td>\n      <td>-3.688879</td>\n      <td>-3.688879</td>\n      <td>-3.688879</td>\n      <td>-0.031749</td>\n      <td>-3.465736</td>\n    </tr>\n    <tr>\n      <th>14</th>\n      <td>-0.062520</td>\n      <td>-3.496508</td>\n      <td>-3.496508</td>\n      <td>-3.688879</td>\n      <td>-1.290984</td>\n      <td>-1.290984</td>\n      <td>-3.688879</td>\n      <td>-3.688879</td>\n      <td>-3.688879</td>\n      <td>-3.688879</td>\n      <td>...</td>\n      <td>-0.644357</td>\n      <td>-1.290984</td>\n      <td>-3.688879</td>\n      <td>-3.688879</td>\n      <td>-3.688879</td>\n      <td>-3.688879</td>\n      <td>-3.688879</td>\n      <td>-3.688879</td>\n      <td>-0.031749</td>\n      <td>-3.465736</td>\n    </tr>\n    <tr>\n      <th>15</th>\n      <td>-0.032261</td>\n      <td>-4.143135</td>\n      <td>-4.143135</td>\n      <td>-4.248495</td>\n      <td>-4.248495</td>\n      <td>-4.248495</td>\n      <td>-4.248495</td>\n      <td>-4.248495</td>\n      <td>-4.248495</td>\n      <td>-4.248495</td>\n      <td>...</td>\n      <td>-0.814508</td>\n      <td>-4.248495</td>\n      <td>-4.248495</td>\n      <td>-4.248495</td>\n      <td>-4.248495</td>\n      <td>-1.850600</td>\n      <td>-1.203973</td>\n      <td>-4.248495</td>\n      <td>-0.016261</td>\n      <td>-4.127134</td>\n    </tr>\n    <tr>\n      <th>16</th>\n      <td>-0.090972</td>\n      <td>-3.135494</td>\n      <td>-3.135494</td>\n      <td>-3.401197</td>\n      <td>-3.401197</td>\n      <td>-3.401197</td>\n      <td>-3.401197</td>\n      <td>-3.401197</td>\n      <td>-3.401197</td>\n      <td>-3.401197</td>\n      <td>...</td>\n      <td>-1.003302</td>\n      <td>-3.401197</td>\n      <td>-3.401197</td>\n      <td>-3.401197</td>\n      <td>-3.401197</td>\n      <td>-3.401197</td>\n      <td>-1.003302</td>\n      <td>-3.401197</td>\n      <td>-0.046520</td>\n      <td>-3.091042</td>\n    </tr>\n    <tr>\n      <th>17</th>\n      <td>-0.047628</td>\n      <td>-3.761200</td>\n      <td>-3.761200</td>\n      <td>-3.912023</td>\n      <td>-3.912023</td>\n      <td>-3.912023</td>\n      <td>-3.912023</td>\n      <td>-3.912023</td>\n      <td>-3.912023</td>\n      <td>-3.912023</td>\n      <td>...</td>\n      <td>-0.478036</td>\n      <td>-3.912023</td>\n      <td>-3.912023</td>\n      <td>-3.912023</td>\n      <td>-3.912023</td>\n      <td>-3.912023</td>\n      <td>-1.514128</td>\n      <td>-3.912023</td>\n      <td>-0.024098</td>\n      <td>-3.737670</td>\n    </tr>\n    <tr>\n      <th>18</th>\n      <td>-3.761200</td>\n      <td>-3.761200</td>\n      <td>-0.047628</td>\n      <td>-3.912023</td>\n      <td>-0.198451</td>\n      <td>-3.912023</td>\n      <td>-3.912023</td>\n      <td>-3.912023</td>\n      <td>-3.912023</td>\n      <td>-3.912023</td>\n      <td>...</td>\n      <td>-0.198451</td>\n      <td>-3.912023</td>\n      <td>-3.912023</td>\n      <td>-3.912023</td>\n      <td>-3.912023</td>\n      <td>-3.912023</td>\n      <td>-3.912023</td>\n      <td>-3.912023</td>\n      <td>-0.024098</td>\n      <td>-3.737670</td>\n    </tr>\n    <tr>\n      <th>19</th>\n      <td>-0.014085</td>\n      <td>-4.962845</td>\n      <td>-4.962845</td>\n      <td>-5.010635</td>\n      <td>-2.612740</td>\n      <td>-5.010635</td>\n      <td>-5.010635</td>\n      <td>-5.010635</td>\n      <td>-5.010635</td>\n      <td>-5.010635</td>\n      <td>...</td>\n      <td>-1.078810</td>\n      <td>-1.966113</td>\n      <td>-5.010635</td>\n      <td>-1.966113</td>\n      <td>-5.010635</td>\n      <td>-5.010635</td>\n      <td>-1.078810</td>\n      <td>-5.010635</td>\n      <td>-0.007067</td>\n      <td>-4.955827</td>\n    </tr>\n    <tr>\n      <th>20</th>\n      <td>-0.047628</td>\n      <td>-3.761200</td>\n      <td>-3.761200</td>\n      <td>-3.912023</td>\n      <td>-3.912023</td>\n      <td>-3.912023</td>\n      <td>-3.912023</td>\n      <td>-3.912023</td>\n      <td>-3.912023</td>\n      <td>-3.912023</td>\n      <td>...</td>\n      <td>-1.514128</td>\n      <td>-3.912023</td>\n      <td>-3.912023</td>\n      <td>-3.912023</td>\n      <td>-3.912023</td>\n      <td>-3.912023</td>\n      <td>-0.478036</td>\n      <td>-3.912023</td>\n      <td>-0.024098</td>\n      <td>-3.737670</td>\n    </tr>\n    <tr>\n      <th>21</th>\n      <td>-0.167054</td>\n      <td>-2.564949</td>\n      <td>-2.564949</td>\n      <td>-2.995732</td>\n      <td>-2.995732</td>\n      <td>-2.995732</td>\n      <td>-2.995732</td>\n      <td>-2.995732</td>\n      <td>-2.995732</td>\n      <td>-2.995732</td>\n      <td>...</td>\n      <td>-0.597837</td>\n      <td>-2.995732</td>\n      <td>-2.995732</td>\n      <td>-2.995732</td>\n      <td>-2.995732</td>\n      <td>-2.995732</td>\n      <td>-2.995732</td>\n      <td>-2.995732</td>\n      <td>-0.087011</td>\n      <td>-2.484907</td>\n    </tr>\n    <tr>\n      <th>22</th>\n      <td>-2.564949</td>\n      <td>-2.564949</td>\n      <td>-0.167054</td>\n      <td>-2.995732</td>\n      <td>-2.995732</td>\n      <td>-0.597837</td>\n      <td>-2.995732</td>\n      <td>-2.995732</td>\n      <td>-2.995732</td>\n      <td>-2.995732</td>\n      <td>...</td>\n      <td>-2.995732</td>\n      <td>-0.597837</td>\n      <td>-2.995732</td>\n      <td>-2.995732</td>\n      <td>-2.995732</td>\n      <td>-2.995732</td>\n      <td>-2.995732</td>\n      <td>-2.995732</td>\n      <td>-0.087011</td>\n      <td>-2.484907</td>\n    </tr>\n    <tr>\n      <th>23</th>\n      <td>-0.032261</td>\n      <td>-4.143135</td>\n      <td>-4.143135</td>\n      <td>-4.248495</td>\n      <td>-4.248495</td>\n      <td>-4.248495</td>\n      <td>-1.850600</td>\n      <td>-4.248495</td>\n      <td>-4.248495</td>\n      <td>-4.248495</td>\n      <td>...</td>\n      <td>-0.814508</td>\n      <td>-1.850600</td>\n      <td>-4.248495</td>\n      <td>-4.248495</td>\n      <td>-4.248495</td>\n      <td>-4.248495</td>\n      <td>-1.850600</td>\n      <td>-1.850600</td>\n      <td>-0.413562</td>\n      <td>-1.082612</td>\n    </tr>\n    <tr>\n      <th>24</th>\n      <td>-0.090972</td>\n      <td>-3.135494</td>\n      <td>-3.135494</td>\n      <td>-3.401197</td>\n      <td>-3.401197</td>\n      <td>-3.401197</td>\n      <td>-3.401197</td>\n      <td>-3.401197</td>\n      <td>-3.401197</td>\n      <td>-3.401197</td>\n      <td>...</td>\n      <td>-0.356675</td>\n      <td>-3.401197</td>\n      <td>-3.401197</td>\n      <td>-3.401197</td>\n      <td>-3.401197</td>\n      <td>-3.401197</td>\n      <td>-3.401197</td>\n      <td>-3.401197</td>\n      <td>-0.046520</td>\n      <td>-3.091042</td>\n    </tr>\n    <tr>\n      <th>25</th>\n      <td>-0.047628</td>\n      <td>-3.761200</td>\n      <td>-3.761200</td>\n      <td>-3.912023</td>\n      <td>-3.912023</td>\n      <td>-3.912023</td>\n      <td>-3.912023</td>\n      <td>-3.912023</td>\n      <td>-3.912023</td>\n      <td>-3.912023</td>\n      <td>...</td>\n      <td>-0.867501</td>\n      <td>-1.514128</td>\n      <td>-3.912023</td>\n      <td>-3.912023</td>\n      <td>-3.912023</td>\n      <td>-3.912023</td>\n      <td>-1.514128</td>\n      <td>-3.912023</td>\n      <td>-0.024098</td>\n      <td>-3.737670</td>\n    </tr>\n    <tr>\n      <th>26</th>\n      <td>-3.496508</td>\n      <td>-0.451985</td>\n      <td>-1.098612</td>\n      <td>-3.688879</td>\n      <td>-3.688879</td>\n      <td>-3.688879</td>\n      <td>-3.688879</td>\n      <td>-3.688879</td>\n      <td>-3.688879</td>\n      <td>-3.688879</td>\n      <td>...</td>\n      <td>-0.254892</td>\n      <td>-3.688879</td>\n      <td>-3.688879</td>\n      <td>-3.688879</td>\n      <td>-3.688879</td>\n      <td>-3.688879</td>\n      <td>-3.688879</td>\n      <td>-3.688879</td>\n      <td>-1.067841</td>\n      <td>-0.421213</td>\n    </tr>\n    <tr>\n      <th>27</th>\n      <td>-0.019608</td>\n      <td>-4.634729</td>\n      <td>-4.634729</td>\n      <td>-4.700480</td>\n      <td>-0.986908</td>\n      <td>-1.266493</td>\n      <td>-2.302585</td>\n      <td>-4.700480</td>\n      <td>-4.700480</td>\n      <td>-4.700480</td>\n      <td>...</td>\n      <td>-0.768655</td>\n      <td>-2.302585</td>\n      <td>-4.700480</td>\n      <td>-4.700480</td>\n      <td>-4.700480</td>\n      <td>-4.700480</td>\n      <td>-0.986908</td>\n      <td>-4.700480</td>\n      <td>-0.514099</td>\n      <td>-0.911401</td>\n    </tr>\n    <tr>\n      <th>28</th>\n      <td>-0.167054</td>\n      <td>-2.564949</td>\n      <td>-2.564949</td>\n      <td>-2.995732</td>\n      <td>-2.995732</td>\n      <td>-2.995732</td>\n      <td>-2.995732</td>\n      <td>-2.995732</td>\n      <td>-2.995732</td>\n      <td>-2.995732</td>\n      <td>...</td>\n      <td>-2.995732</td>\n      <td>-2.995732</td>\n      <td>-2.995732</td>\n      <td>-2.995732</td>\n      <td>-2.995732</td>\n      <td>-2.995732</td>\n      <td>-2.995732</td>\n      <td>-0.597837</td>\n      <td>-0.087011</td>\n      <td>-2.484907</td>\n    </tr>\n    <tr>\n      <th>29</th>\n      <td>-0.014085</td>\n      <td>-4.962845</td>\n      <td>-4.962845</td>\n      <td>-5.010635</td>\n      <td>-5.010635</td>\n      <td>-5.010635</td>\n      <td>-5.010635</td>\n      <td>-5.010635</td>\n      <td>-5.010635</td>\n      <td>-5.010635</td>\n      <td>...</td>\n      <td>-1.576648</td>\n      <td>-1.576648</td>\n      <td>-5.010635</td>\n      <td>-5.010635</td>\n      <td>-1.078810</td>\n      <td>-5.010635</td>\n      <td>-5.010635</td>\n      <td>-1.576648</td>\n      <td>-0.007067</td>\n      <td>-4.955827</td>\n    </tr>\n    <tr>\n      <th>30</th>\n      <td>-3.135494</td>\n      <td>-0.090972</td>\n      <td>-3.135494</td>\n      <td>-3.401197</td>\n      <td>-0.356675</td>\n      <td>-3.401197</td>\n      <td>-3.401197</td>\n      <td>-3.401197</td>\n      <td>-3.401197</td>\n      <td>-3.401197</td>\n      <td>...</td>\n      <td>-0.356675</td>\n      <td>-3.401197</td>\n      <td>-3.401197</td>\n      <td>-3.401197</td>\n      <td>-3.401197</td>\n      <td>-3.401197</td>\n      <td>-3.401197</td>\n      <td>-3.401197</td>\n      <td>-3.091042</td>\n      <td>-0.046520</td>\n    </tr>\n    <tr>\n      <th>31</th>\n      <td>-0.017858</td>\n      <td>-4.727388</td>\n      <td>-4.727388</td>\n      <td>-4.787492</td>\n      <td>-2.389596</td>\n      <td>-4.787492</td>\n      <td>-2.389596</td>\n      <td>-4.787492</td>\n      <td>-2.389596</td>\n      <td>-4.787492</td>\n      <td>...</td>\n      <td>-0.855666</td>\n      <td>-4.787492</td>\n      <td>-4.787492</td>\n      <td>-4.787492</td>\n      <td>-4.787492</td>\n      <td>-4.787492</td>\n      <td>-2.389596</td>\n      <td>-1.073920</td>\n      <td>-0.103378</td>\n      <td>-2.320604</td>\n    </tr>\n    <tr>\n      <th>32</th>\n      <td>-3.135494</td>\n      <td>-0.090972</td>\n      <td>-3.135494</td>\n      <td>-3.401197</td>\n      <td>-3.401197</td>\n      <td>-3.401197</td>\n      <td>-3.401197</td>\n      <td>-3.401197</td>\n      <td>-3.401197</td>\n      <td>-3.401197</td>\n      <td>...</td>\n      <td>-1.003302</td>\n      <td>-3.401197</td>\n      <td>-3.401197</td>\n      <td>-3.401197</td>\n      <td>-3.401197</td>\n      <td>-3.401197</td>\n      <td>-3.401197</td>\n      <td>-1.003302</td>\n      <td>-0.046520</td>\n      <td>-3.091042</td>\n    </tr>\n    <tr>\n      <th>33</th>\n      <td>-0.012346</td>\n      <td>-5.093750</td>\n      <td>-5.093750</td>\n      <td>-5.135798</td>\n      <td>-5.135798</td>\n      <td>-5.135798</td>\n      <td>-2.737903</td>\n      <td>-5.135798</td>\n      <td>-5.135798</td>\n      <td>-5.135798</td>\n      <td>...</td>\n      <td>-0.340008</td>\n      <td>-2.737903</td>\n      <td>-5.135798</td>\n      <td>-5.135798</td>\n      <td>-5.135798</td>\n      <td>-5.135798</td>\n      <td>-2.091276</td>\n      <td>-2.737903</td>\n      <td>-0.138836</td>\n      <td>-2.043074</td>\n    </tr>\n    <tr>\n      <th>34</th>\n      <td>-0.167054</td>\n      <td>-2.564949</td>\n      <td>-2.564949</td>\n      <td>-2.995732</td>\n      <td>-2.995732</td>\n      <td>-2.995732</td>\n      <td>-2.995732</td>\n      <td>-2.995732</td>\n      <td>-2.995732</td>\n      <td>-2.995732</td>\n      <td>...</td>\n      <td>-0.597837</td>\n      <td>-2.995732</td>\n      <td>-2.995732</td>\n      <td>-2.995732</td>\n      <td>-2.995732</td>\n      <td>-2.995732</td>\n      <td>-2.995732</td>\n      <td>-2.995732</td>\n      <td>-0.087011</td>\n      <td>-2.484907</td>\n    </tr>\n  </tbody>\n</table>\n<p>35 rows × 27 columns</p>\n</div>"
     },
     "execution_count": 43,
     "metadata": {},
     "output_type": "execute_result"
    }
   ],
   "source": [
    "df[df.columns[0:27]]"
   ]
  },
  {
   "cell_type": "markdown",
   "source": [
    "Transforming the log probabilities"
   ],
   "metadata": {
    "collapsed": false,
    "pycharm": {
     "name": "#%% md\n"
    }
   }
  },
  {
   "cell_type": "code",
   "execution_count": 44,
   "id": "101d1456-e07b-4fca-a1fa-d1ef556e9add",
   "metadata": {
    "pycharm": {
     "name": "#%%\n"
    }
   },
   "outputs": [],
   "source": [
    "norm = lambda x: 10 ** x"
   ]
  },
  {
   "cell_type": "code",
   "execution_count": 45,
   "id": "e2c80dfc-1da7-4831-a53f-7a6effe5865d",
   "metadata": {
    "pycharm": {
     "name": "#%%\n"
    }
   },
   "outputs": [],
   "source": [
    "df1 = df[df.columns[0:27]].apply(norm)"
   ]
  },
  {
   "cell_type": "code",
   "execution_count": 46,
   "id": "bcfb68ce-6d62-47fb-9f41-4be2dd4a1414",
   "metadata": {
    "pycharm": {
     "name": "#%%\n"
    }
   },
   "outputs": [
    {
     "data": {
      "text/plain": "      gills     pores     teeth  hymenium_black  hymenium_brown  \\\n0  0.542615  0.000004  0.033470        0.000004        0.004041   \n1  0.951174  0.000029  0.000029        0.000025        0.000025   \n2  0.680685  0.002723  0.002723        0.001010        0.252443   \n3  0.000004  0.979470  0.000004        0.000004        0.000004   \n4  0.680685  0.002723  0.002723        0.252443        0.001010   \n\n   hymenium_gray  hymenium_pink  hymenium_pink-brown  hymenium_pink-white  \\\n0       0.000004       0.000004             0.047075             0.000004   \n1       0.000025       0.000025             0.000025             0.000025   \n2       0.001010       0.001010             0.001010             0.001010   \n3       0.000004       0.000004             0.000004             0.000004   \n4       0.001010       0.001010             0.001010             0.001010   \n\n   hymenium_red  ...  cap_brown  cap_gray  cap_greenish  cap_pink   cap_red  \\\n0      0.000004  ...   0.186832  0.000912      0.000004  0.000004  0.000004   \n1      0.000025  ...   0.128352  0.000025      0.006205  0.000025  0.006205   \n2      0.001010  ...   0.252443  0.001010      0.001010  0.001010  0.001010   \n3      0.000912  ...   0.273601  0.009906      0.000004  0.000004  0.018858   \n4      0.001010  ...   0.001010  0.001010      0.001010  0.001010  0.001010   \n\n   cap_violet  cap_white  cap_yellow  scales_no  scales_yes  \n0    0.000004   0.118244    0.000912   0.098123    0.351627  \n1    0.000025   0.067424    0.000025   0.155519    0.257062  \n2    0.001010   0.001010    0.001010   0.818443    0.003274  \n3    0.000004   0.000004    0.004041   0.707288    0.010748  \n4    0.001010   0.001010    0.001010   0.818443    0.003274  \n\n[5 rows x 27 columns]",
      "text/html": "<div>\n<style scoped>\n    .dataframe tbody tr th:only-of-type {\n        vertical-align: middle;\n    }\n\n    .dataframe tbody tr th {\n        vertical-align: top;\n    }\n\n    .dataframe thead th {\n        text-align: right;\n    }\n</style>\n<table border=\"1\" class=\"dataframe\">\n  <thead>\n    <tr style=\"text-align: right;\">\n      <th></th>\n      <th>gills</th>\n      <th>pores</th>\n      <th>teeth</th>\n      <th>hymenium_black</th>\n      <th>hymenium_brown</th>\n      <th>hymenium_gray</th>\n      <th>hymenium_pink</th>\n      <th>hymenium_pink-brown</th>\n      <th>hymenium_pink-white</th>\n      <th>hymenium_red</th>\n      <th>...</th>\n      <th>cap_brown</th>\n      <th>cap_gray</th>\n      <th>cap_greenish</th>\n      <th>cap_pink</th>\n      <th>cap_red</th>\n      <th>cap_violet</th>\n      <th>cap_white</th>\n      <th>cap_yellow</th>\n      <th>scales_no</th>\n      <th>scales_yes</th>\n    </tr>\n  </thead>\n  <tbody>\n    <tr>\n      <th>0</th>\n      <td>0.542615</td>\n      <td>0.000004</td>\n      <td>0.033470</td>\n      <td>0.000004</td>\n      <td>0.004041</td>\n      <td>0.000004</td>\n      <td>0.000004</td>\n      <td>0.047075</td>\n      <td>0.000004</td>\n      <td>0.000004</td>\n      <td>...</td>\n      <td>0.186832</td>\n      <td>0.000912</td>\n      <td>0.000004</td>\n      <td>0.000004</td>\n      <td>0.000004</td>\n      <td>0.000004</td>\n      <td>0.118244</td>\n      <td>0.000912</td>\n      <td>0.098123</td>\n      <td>0.351627</td>\n    </tr>\n    <tr>\n      <th>1</th>\n      <td>0.951174</td>\n      <td>0.000029</td>\n      <td>0.000029</td>\n      <td>0.000025</td>\n      <td>0.000025</td>\n      <td>0.000025</td>\n      <td>0.000025</td>\n      <td>0.000025</td>\n      <td>0.000025</td>\n      <td>0.000025</td>\n      <td>...</td>\n      <td>0.128352</td>\n      <td>0.000025</td>\n      <td>0.006205</td>\n      <td>0.000025</td>\n      <td>0.006205</td>\n      <td>0.000025</td>\n      <td>0.067424</td>\n      <td>0.000025</td>\n      <td>0.155519</td>\n      <td>0.257062</td>\n    </tr>\n    <tr>\n      <th>2</th>\n      <td>0.680685</td>\n      <td>0.002723</td>\n      <td>0.002723</td>\n      <td>0.001010</td>\n      <td>0.252443</td>\n      <td>0.001010</td>\n      <td>0.001010</td>\n      <td>0.001010</td>\n      <td>0.001010</td>\n      <td>0.001010</td>\n      <td>...</td>\n      <td>0.252443</td>\n      <td>0.001010</td>\n      <td>0.001010</td>\n      <td>0.001010</td>\n      <td>0.001010</td>\n      <td>0.001010</td>\n      <td>0.001010</td>\n      <td>0.001010</td>\n      <td>0.818443</td>\n      <td>0.003274</td>\n    </tr>\n    <tr>\n      <th>3</th>\n      <td>0.000004</td>\n      <td>0.979470</td>\n      <td>0.000004</td>\n      <td>0.000004</td>\n      <td>0.000004</td>\n      <td>0.000004</td>\n      <td>0.000004</td>\n      <td>0.000004</td>\n      <td>0.000004</td>\n      <td>0.000912</td>\n      <td>...</td>\n      <td>0.273601</td>\n      <td>0.009906</td>\n      <td>0.000004</td>\n      <td>0.000004</td>\n      <td>0.018858</td>\n      <td>0.000004</td>\n      <td>0.000004</td>\n      <td>0.004041</td>\n      <td>0.707288</td>\n      <td>0.010748</td>\n    </tr>\n    <tr>\n      <th>4</th>\n      <td>0.680685</td>\n      <td>0.002723</td>\n      <td>0.002723</td>\n      <td>0.252443</td>\n      <td>0.001010</td>\n      <td>0.001010</td>\n      <td>0.001010</td>\n      <td>0.001010</td>\n      <td>0.001010</td>\n      <td>0.001010</td>\n      <td>...</td>\n      <td>0.001010</td>\n      <td>0.001010</td>\n      <td>0.001010</td>\n      <td>0.001010</td>\n      <td>0.001010</td>\n      <td>0.001010</td>\n      <td>0.001010</td>\n      <td>0.001010</td>\n      <td>0.818443</td>\n      <td>0.003274</td>\n    </tr>\n  </tbody>\n</table>\n<p>5 rows × 27 columns</p>\n</div>"
     },
     "execution_count": 46,
     "metadata": {},
     "output_type": "execute_result"
    }
   ],
   "source": [
    "df1.head()"
   ]
  },
  {
   "cell_type": "raw",
   "source": [
    "df1.to_csv('Features_prob.csv', index = False)"
   ],
   "metadata": {
    "collapsed": false,
    "pycharm": {
     "name": "#%% raw\n"
    }
   }
  },
  {
   "cell_type": "code",
   "execution_count": 47,
   "id": "49a2fb3e-070a-4306-a1d6-878c2f5c536b",
   "metadata": {
    "pycharm": {
     "name": "#%%\n"
    }
   },
   "outputs": [],
   "source": [
    "df1['family'] = cNB.classes_"
   ]
  },
  {
   "cell_type": "code",
   "execution_count": 48,
   "id": "1f974fd4-5519-45e3-a9f7-da163b974c6f",
   "metadata": {
    "scrolled": true,
    "tags": [],
    "pycharm": {
     "name": "#%%\n"
    }
   },
   "outputs": [
    {
     "data": {
      "text/plain": "       gills     pores     teeth  hymenium_black  hymenium_brown  \\\n0   0.542615  0.000004  0.033470        0.000004        0.004041   \n1   0.951174  0.000029  0.000029        0.000025        0.000025   \n2   0.680685  0.002723  0.002723        0.001010        0.252443   \n3   0.000004  0.979470  0.000004        0.000004        0.000004   \n4   0.680685  0.002723  0.002723        0.252443        0.001010   \n5   0.915237  0.000107  0.000107        0.000080        0.000080   \n6   0.959715  0.000019  0.000019        0.000016        0.210563   \n7   0.896132  0.000173  0.000173        0.000122        0.000122   \n8   0.002723  0.680685  0.002723        0.001010        0.001010   \n9   0.680685  0.002723  0.002723        0.001010        0.001010   \n10  0.680685  0.002723  0.002723        0.001010        0.001010   \n11  0.865924  0.000319  0.000319        0.000205        0.000205   \n12  0.976300  0.000005  0.000005        0.000005        0.000005   \n13  0.865924  0.000319  0.000319        0.000205        0.051170   \n14  0.865924  0.000319  0.000319        0.000205        0.051170   \n15  0.928409  0.000072  0.000072        0.000056        0.000056   \n16  0.811014  0.000732  0.000732        0.000397        0.000397   \n17  0.896132  0.000173  0.000173        0.000122        0.000122   \n18  0.000173  0.000173  0.896132        0.000122        0.633212   \n19  0.968089  0.000011  0.000011        0.000010        0.002439   \n20  0.896132  0.000173  0.000173        0.000122        0.000122   \n21  0.680685  0.002723  0.002723        0.001010        0.001010   \n22  0.002723  0.002723  0.680685        0.001010        0.001010   \n23  0.928409  0.000072  0.000072        0.000056        0.000056   \n24  0.811014  0.000732  0.000732        0.000397        0.000397   \n25  0.896132  0.000173  0.000173        0.000122        0.000122   \n26  0.000319  0.353195  0.079687        0.000205        0.000205   \n27  0.955854  0.000023  0.000023        0.000020        0.103060   \n28  0.680685  0.002723  0.002723        0.001010        0.001010   \n29  0.968089  0.000011  0.000011        0.000010        0.000010   \n30  0.000732  0.811014  0.000732        0.000397        0.439871   \n31  0.959715  0.000019  0.000019        0.000016        0.004078   \n32  0.000732  0.811014  0.000732        0.000397        0.000397   \n33  0.971973  0.000008  0.000008        0.000007        0.000007   \n34  0.680685  0.002723  0.002723        0.001010        0.001010   \n\n    hymenium_gray  hymenium_pink  hymenium_pink-brown  hymenium_pink-white  \\\n0        0.000004       0.000004             0.047075             0.000004   \n1        0.000025       0.000025             0.000025             0.000025   \n2        0.001010       0.001010             0.001010             0.001010   \n3        0.000004       0.000004             0.000004             0.000004   \n4        0.001010       0.001010             0.001010             0.001010   \n5        0.000080       0.000080             0.000080             0.000080   \n6        0.000016       0.044309             0.000016             0.000016   \n7        0.030611       0.000122             0.000122             0.000122   \n8        0.001010       0.001010             0.001010             0.001010   \n9        0.001010       0.001010             0.001010             0.001010   \n10       0.001010       0.252443             0.001010             0.001010   \n11       0.000205       0.051170             0.000205             0.000205   \n12       0.000005       0.000005             0.000005             0.000005   \n13       0.000205       0.000205             0.000205             0.000205   \n14       0.051170       0.000205             0.000205             0.000205   \n15       0.000056       0.000056             0.000056             0.000056   \n16       0.000397       0.000397             0.000397             0.000397   \n17       0.000122       0.000122             0.000122             0.000122   \n18       0.000122       0.000122             0.000122             0.000122   \n19       0.000010       0.000010             0.000010             0.000010   \n20       0.000122       0.000122             0.000122             0.000122   \n21       0.001010       0.001010             0.001010             0.001010   \n22       0.252443       0.001010             0.001010             0.001010   \n23       0.000056       0.014106             0.000056             0.000056   \n24       0.000397       0.000397             0.000397             0.000397   \n25       0.000122       0.000122             0.000122             0.000122   \n26       0.000205       0.000205             0.000205             0.000205   \n27       0.054139       0.004982             0.000020             0.000020   \n28       0.001010       0.001010             0.001010             0.001010   \n29       0.000010       0.000010             0.000010             0.000010   \n30       0.000397       0.000397             0.000397             0.000397   \n31       0.000016       0.004078             0.000016             0.004078   \n32       0.000397       0.000397             0.000397             0.000397   \n33       0.000007       0.001829             0.000007             0.000007   \n34       0.001010       0.001010             0.001010             0.001010   \n\n    hymenium_red  ...  cap_gray  cap_greenish  cap_pink   cap_red  cap_violet  \\\n0       0.000004  ...  0.000912      0.000004  0.000004  0.000004    0.000004   \n1       0.000025  ...  0.000025      0.006205  0.000025  0.006205    0.000025   \n2       0.001010  ...  0.001010      0.001010  0.001010  0.001010    0.001010   \n3       0.000912  ...  0.009906      0.000004  0.000004  0.018858    0.000004   \n4       0.001010  ...  0.001010      0.001010  0.001010  0.001010    0.001010   \n5       0.000080  ...  0.000080      0.000080  0.000080  0.000080    0.000080   \n6       0.004078  ...  0.000016      0.000016  0.000016  0.004078    0.000016   \n7       0.000122  ...  0.135675      0.000122  0.000122  0.000122    0.000122   \n8       0.001010  ...  0.001010      0.001010  0.001010  0.001010    0.001010   \n9       0.001010  ...  0.001010      0.001010  0.001010  0.001010    0.001010   \n10      0.001010  ...  0.001010      0.001010  0.001010  0.001010    0.001010   \n11      0.051170  ...  0.000205      0.000205  0.000205  0.051170    0.051170   \n12      0.000005  ...  0.001258      0.000005  0.000005  0.064947    0.000005   \n13      0.000205  ...  0.000205      0.000205  0.000205  0.000205    0.000205   \n14      0.000205  ...  0.051170      0.000205  0.000205  0.000205    0.000205   \n15      0.000056  ...  0.000056      0.000056  0.000056  0.000056    0.014106   \n16      0.000397  ...  0.000397      0.000397  0.000397  0.000397    0.000397   \n17      0.000122  ...  0.000122      0.000122  0.000122  0.000122    0.000122   \n18      0.000122  ...  0.000122      0.000122  0.000122  0.000122    0.000122   \n19      0.000010  ...  0.010812      0.000010  0.010812  0.000010    0.000010   \n20      0.000122  ...  0.000122      0.000122  0.000122  0.000122    0.000122   \n21      0.001010  ...  0.001010      0.001010  0.001010  0.001010    0.001010   \n22      0.001010  ...  0.252443      0.001010  0.001010  0.001010    0.001010   \n23      0.000056  ...  0.014106      0.000056  0.000056  0.000056    0.000056   \n24      0.000397  ...  0.000397      0.000397  0.000397  0.000397    0.000397   \n25      0.000122  ...  0.030611      0.000122  0.000122  0.000122    0.000122   \n26      0.000205  ...  0.000205      0.000205  0.000205  0.000205    0.000205   \n27      0.000020  ...  0.004982      0.000020  0.000020  0.000020    0.000020   \n28      0.001010  ...  0.001010      0.001010  0.001010  0.001010    0.001010   \n29      0.000010  ...  0.026506      0.000010  0.000010  0.083405    0.000010   \n30      0.000397  ...  0.000397      0.000397  0.000397  0.000397    0.000397   \n31      0.000016  ...  0.000016      0.000016  0.000016  0.000016    0.000016   \n32      0.000397  ...  0.000397      0.000397  0.000397  0.000397    0.000397   \n33      0.000007  ...  0.001829      0.000007  0.000007  0.000007    0.000007   \n34      0.001010  ...  0.001010      0.001010  0.001010  0.001010    0.001010   \n\n    cap_white  cap_yellow  scales_no  scales_yes             family  \n0    0.118244    0.000912   0.098123    0.351627        agaricaceae  \n1    0.067424    0.000025   0.155519    0.257062            amanita  \n2    0.001010    0.001010   0.818443    0.003274       bolbitiaceae  \n3    0.000004    0.004041   0.707288    0.010748         boletaceae  \n4    0.001010    0.001010   0.818443    0.003274       bulgariaceae  \n5    0.020116    0.089162   0.956273    0.000112    cantharellaceae  \n6    0.004078    0.044309   0.619956    0.021185     cortinariaceae  \n7    0.030611    0.000122   0.946025    0.000183     entolomataceae  \n8    0.252443    0.001010   0.818443    0.003274        geastraceae  \n9    0.252443    0.001010   0.818443    0.003274       helvellaceae  \n10   0.001010    0.252443   0.818443    0.003274          hydnaceae  \n11   0.000205    0.000205   0.929504    0.000342      hydnangiaceae  \n12   0.013667    0.013667   0.988048    0.000006     hygrophoraceae  \n13   0.000205    0.000205   0.929504    0.000342   hymenogastraceae  \n14   0.000205    0.000205   0.929504    0.000342           incertae  \n15   0.062521    0.000056   0.963251    0.000075        inocybaceae  \n16   0.099243    0.000397   0.898421    0.000811      lyophyllaceae  \n17   0.030611    0.000122   0.946025    0.000183       marasmiaceae  \n18   0.000122    0.000122   0.946025    0.000183      morchellaceae  \n19   0.083405    0.000010   0.983859    0.000011         mycenaceae  \n20   0.332632    0.000122   0.946025    0.000183      omphalotaceae  \n21   0.001010    0.001010   0.818443    0.003274        paxillaceae  \n22   0.001010    0.001010   0.818443    0.003274         phallaceae  \n23   0.014106    0.014106   0.385867    0.082678    physalacriaceae  \n24   0.000397    0.000397   0.898421    0.000811       pleurotaceae  \n25   0.030611    0.000122   0.946025    0.000183         pluteaceae  \n26   0.000205    0.000205   0.085538    0.379129       polyporaceae  \n27   0.103060    0.000020   0.306127    0.122631     psathyrelaceae  \n28   0.001010    0.252443   0.818443    0.003274  repetobasidiaceae  \n29   0.000010    0.026506   0.983859    0.000011        russulaceae  \n30   0.000397    0.000397   0.000811    0.898421  sclerodermataceae  \n31   0.004078    0.084349   0.788173    0.004780     strophariaceae  \n32   0.000397    0.099243   0.898421    0.000811         suillaceae  \n33   0.008104    0.001829   0.726379    0.009056   tricholomataceae  \n34   0.001010    0.001010   0.818443    0.003274        tubariaceae  \n\n[35 rows x 28 columns]",
      "text/html": "<div>\n<style scoped>\n    .dataframe tbody tr th:only-of-type {\n        vertical-align: middle;\n    }\n\n    .dataframe tbody tr th {\n        vertical-align: top;\n    }\n\n    .dataframe thead th {\n        text-align: right;\n    }\n</style>\n<table border=\"1\" class=\"dataframe\">\n  <thead>\n    <tr style=\"text-align: right;\">\n      <th></th>\n      <th>gills</th>\n      <th>pores</th>\n      <th>teeth</th>\n      <th>hymenium_black</th>\n      <th>hymenium_brown</th>\n      <th>hymenium_gray</th>\n      <th>hymenium_pink</th>\n      <th>hymenium_pink-brown</th>\n      <th>hymenium_pink-white</th>\n      <th>hymenium_red</th>\n      <th>...</th>\n      <th>cap_gray</th>\n      <th>cap_greenish</th>\n      <th>cap_pink</th>\n      <th>cap_red</th>\n      <th>cap_violet</th>\n      <th>cap_white</th>\n      <th>cap_yellow</th>\n      <th>scales_no</th>\n      <th>scales_yes</th>\n      <th>family</th>\n    </tr>\n  </thead>\n  <tbody>\n    <tr>\n      <th>0</th>\n      <td>0.542615</td>\n      <td>0.000004</td>\n      <td>0.033470</td>\n      <td>0.000004</td>\n      <td>0.004041</td>\n      <td>0.000004</td>\n      <td>0.000004</td>\n      <td>0.047075</td>\n      <td>0.000004</td>\n      <td>0.000004</td>\n      <td>...</td>\n      <td>0.000912</td>\n      <td>0.000004</td>\n      <td>0.000004</td>\n      <td>0.000004</td>\n      <td>0.000004</td>\n      <td>0.118244</td>\n      <td>0.000912</td>\n      <td>0.098123</td>\n      <td>0.351627</td>\n      <td>agaricaceae</td>\n    </tr>\n    <tr>\n      <th>1</th>\n      <td>0.951174</td>\n      <td>0.000029</td>\n      <td>0.000029</td>\n      <td>0.000025</td>\n      <td>0.000025</td>\n      <td>0.000025</td>\n      <td>0.000025</td>\n      <td>0.000025</td>\n      <td>0.000025</td>\n      <td>0.000025</td>\n      <td>...</td>\n      <td>0.000025</td>\n      <td>0.006205</td>\n      <td>0.000025</td>\n      <td>0.006205</td>\n      <td>0.000025</td>\n      <td>0.067424</td>\n      <td>0.000025</td>\n      <td>0.155519</td>\n      <td>0.257062</td>\n      <td>amanita</td>\n    </tr>\n    <tr>\n      <th>2</th>\n      <td>0.680685</td>\n      <td>0.002723</td>\n      <td>0.002723</td>\n      <td>0.001010</td>\n      <td>0.252443</td>\n      <td>0.001010</td>\n      <td>0.001010</td>\n      <td>0.001010</td>\n      <td>0.001010</td>\n      <td>0.001010</td>\n      <td>...</td>\n      <td>0.001010</td>\n      <td>0.001010</td>\n      <td>0.001010</td>\n      <td>0.001010</td>\n      <td>0.001010</td>\n      <td>0.001010</td>\n      <td>0.001010</td>\n      <td>0.818443</td>\n      <td>0.003274</td>\n      <td>bolbitiaceae</td>\n    </tr>\n    <tr>\n      <th>3</th>\n      <td>0.000004</td>\n      <td>0.979470</td>\n      <td>0.000004</td>\n      <td>0.000004</td>\n      <td>0.000004</td>\n      <td>0.000004</td>\n      <td>0.000004</td>\n      <td>0.000004</td>\n      <td>0.000004</td>\n      <td>0.000912</td>\n      <td>...</td>\n      <td>0.009906</td>\n      <td>0.000004</td>\n      <td>0.000004</td>\n      <td>0.018858</td>\n      <td>0.000004</td>\n      <td>0.000004</td>\n      <td>0.004041</td>\n      <td>0.707288</td>\n      <td>0.010748</td>\n      <td>boletaceae</td>\n    </tr>\n    <tr>\n      <th>4</th>\n      <td>0.680685</td>\n      <td>0.002723</td>\n      <td>0.002723</td>\n      <td>0.252443</td>\n      <td>0.001010</td>\n      <td>0.001010</td>\n      <td>0.001010</td>\n      <td>0.001010</td>\n      <td>0.001010</td>\n      <td>0.001010</td>\n      <td>...</td>\n      <td>0.001010</td>\n      <td>0.001010</td>\n      <td>0.001010</td>\n      <td>0.001010</td>\n      <td>0.001010</td>\n      <td>0.001010</td>\n      <td>0.001010</td>\n      <td>0.818443</td>\n      <td>0.003274</td>\n      <td>bulgariaceae</td>\n    </tr>\n    <tr>\n      <th>5</th>\n      <td>0.915237</td>\n      <td>0.000107</td>\n      <td>0.000107</td>\n      <td>0.000080</td>\n      <td>0.000080</td>\n      <td>0.000080</td>\n      <td>0.000080</td>\n      <td>0.000080</td>\n      <td>0.000080</td>\n      <td>0.000080</td>\n      <td>...</td>\n      <td>0.000080</td>\n      <td>0.000080</td>\n      <td>0.000080</td>\n      <td>0.000080</td>\n      <td>0.000080</td>\n      <td>0.020116</td>\n      <td>0.089162</td>\n      <td>0.956273</td>\n      <td>0.000112</td>\n      <td>cantharellaceae</td>\n    </tr>\n    <tr>\n      <th>6</th>\n      <td>0.959715</td>\n      <td>0.000019</td>\n      <td>0.000019</td>\n      <td>0.000016</td>\n      <td>0.210563</td>\n      <td>0.000016</td>\n      <td>0.044309</td>\n      <td>0.000016</td>\n      <td>0.000016</td>\n      <td>0.004078</td>\n      <td>...</td>\n      <td>0.000016</td>\n      <td>0.000016</td>\n      <td>0.000016</td>\n      <td>0.004078</td>\n      <td>0.000016</td>\n      <td>0.004078</td>\n      <td>0.044309</td>\n      <td>0.619956</td>\n      <td>0.021185</td>\n      <td>cortinariaceae</td>\n    </tr>\n    <tr>\n      <th>7</th>\n      <td>0.896132</td>\n      <td>0.000173</td>\n      <td>0.000173</td>\n      <td>0.000122</td>\n      <td>0.000122</td>\n      <td>0.030611</td>\n      <td>0.000122</td>\n      <td>0.000122</td>\n      <td>0.000122</td>\n      <td>0.000122</td>\n      <td>...</td>\n      <td>0.135675</td>\n      <td>0.000122</td>\n      <td>0.000122</td>\n      <td>0.000122</td>\n      <td>0.000122</td>\n      <td>0.030611</td>\n      <td>0.000122</td>\n      <td>0.946025</td>\n      <td>0.000183</td>\n      <td>entolomataceae</td>\n    </tr>\n    <tr>\n      <th>8</th>\n      <td>0.002723</td>\n      <td>0.680685</td>\n      <td>0.002723</td>\n      <td>0.001010</td>\n      <td>0.001010</td>\n      <td>0.001010</td>\n      <td>0.001010</td>\n      <td>0.001010</td>\n      <td>0.001010</td>\n      <td>0.001010</td>\n      <td>...</td>\n      <td>0.001010</td>\n      <td>0.001010</td>\n      <td>0.001010</td>\n      <td>0.001010</td>\n      <td>0.001010</td>\n      <td>0.252443</td>\n      <td>0.001010</td>\n      <td>0.818443</td>\n      <td>0.003274</td>\n      <td>geastraceae</td>\n    </tr>\n    <tr>\n      <th>9</th>\n      <td>0.680685</td>\n      <td>0.002723</td>\n      <td>0.002723</td>\n      <td>0.001010</td>\n      <td>0.001010</td>\n      <td>0.001010</td>\n      <td>0.001010</td>\n      <td>0.001010</td>\n      <td>0.001010</td>\n      <td>0.001010</td>\n      <td>...</td>\n      <td>0.001010</td>\n      <td>0.001010</td>\n      <td>0.001010</td>\n      <td>0.001010</td>\n      <td>0.001010</td>\n      <td>0.252443</td>\n      <td>0.001010</td>\n      <td>0.818443</td>\n      <td>0.003274</td>\n      <td>helvellaceae</td>\n    </tr>\n    <tr>\n      <th>10</th>\n      <td>0.680685</td>\n      <td>0.002723</td>\n      <td>0.002723</td>\n      <td>0.001010</td>\n      <td>0.001010</td>\n      <td>0.001010</td>\n      <td>0.252443</td>\n      <td>0.001010</td>\n      <td>0.001010</td>\n      <td>0.001010</td>\n      <td>...</td>\n      <td>0.001010</td>\n      <td>0.001010</td>\n      <td>0.001010</td>\n      <td>0.001010</td>\n      <td>0.001010</td>\n      <td>0.001010</td>\n      <td>0.252443</td>\n      <td>0.818443</td>\n      <td>0.003274</td>\n      <td>hydnaceae</td>\n    </tr>\n    <tr>\n      <th>11</th>\n      <td>0.865924</td>\n      <td>0.000319</td>\n      <td>0.000319</td>\n      <td>0.000205</td>\n      <td>0.000205</td>\n      <td>0.000205</td>\n      <td>0.051170</td>\n      <td>0.000205</td>\n      <td>0.000205</td>\n      <td>0.051170</td>\n      <td>...</td>\n      <td>0.000205</td>\n      <td>0.000205</td>\n      <td>0.000205</td>\n      <td>0.051170</td>\n      <td>0.051170</td>\n      <td>0.000205</td>\n      <td>0.000205</td>\n      <td>0.929504</td>\n      <td>0.000342</td>\n      <td>hydnangiaceae</td>\n    </tr>\n    <tr>\n      <th>12</th>\n      <td>0.976300</td>\n      <td>0.000005</td>\n      <td>0.000005</td>\n      <td>0.000005</td>\n      <td>0.000005</td>\n      <td>0.000005</td>\n      <td>0.000005</td>\n      <td>0.000005</td>\n      <td>0.000005</td>\n      <td>0.000005</td>\n      <td>...</td>\n      <td>0.001258</td>\n      <td>0.000005</td>\n      <td>0.000005</td>\n      <td>0.064947</td>\n      <td>0.000005</td>\n      <td>0.013667</td>\n      <td>0.013667</td>\n      <td>0.988048</td>\n      <td>0.000006</td>\n      <td>hygrophoraceae</td>\n    </tr>\n    <tr>\n      <th>13</th>\n      <td>0.865924</td>\n      <td>0.000319</td>\n      <td>0.000319</td>\n      <td>0.000205</td>\n      <td>0.051170</td>\n      <td>0.000205</td>\n      <td>0.000205</td>\n      <td>0.000205</td>\n      <td>0.000205</td>\n      <td>0.000205</td>\n      <td>...</td>\n      <td>0.000205</td>\n      <td>0.000205</td>\n      <td>0.000205</td>\n      <td>0.000205</td>\n      <td>0.000205</td>\n      <td>0.000205</td>\n      <td>0.000205</td>\n      <td>0.929504</td>\n      <td>0.000342</td>\n      <td>hymenogastraceae</td>\n    </tr>\n    <tr>\n      <th>14</th>\n      <td>0.865924</td>\n      <td>0.000319</td>\n      <td>0.000319</td>\n      <td>0.000205</td>\n      <td>0.051170</td>\n      <td>0.051170</td>\n      <td>0.000205</td>\n      <td>0.000205</td>\n      <td>0.000205</td>\n      <td>0.000205</td>\n      <td>...</td>\n      <td>0.051170</td>\n      <td>0.000205</td>\n      <td>0.000205</td>\n      <td>0.000205</td>\n      <td>0.000205</td>\n      <td>0.000205</td>\n      <td>0.000205</td>\n      <td>0.929504</td>\n      <td>0.000342</td>\n      <td>incertae</td>\n    </tr>\n    <tr>\n      <th>15</th>\n      <td>0.928409</td>\n      <td>0.000072</td>\n      <td>0.000072</td>\n      <td>0.000056</td>\n      <td>0.000056</td>\n      <td>0.000056</td>\n      <td>0.000056</td>\n      <td>0.000056</td>\n      <td>0.000056</td>\n      <td>0.000056</td>\n      <td>...</td>\n      <td>0.000056</td>\n      <td>0.000056</td>\n      <td>0.000056</td>\n      <td>0.000056</td>\n      <td>0.014106</td>\n      <td>0.062521</td>\n      <td>0.000056</td>\n      <td>0.963251</td>\n      <td>0.000075</td>\n      <td>inocybaceae</td>\n    </tr>\n    <tr>\n      <th>16</th>\n      <td>0.811014</td>\n      <td>0.000732</td>\n      <td>0.000732</td>\n      <td>0.000397</td>\n      <td>0.000397</td>\n      <td>0.000397</td>\n      <td>0.000397</td>\n      <td>0.000397</td>\n      <td>0.000397</td>\n      <td>0.000397</td>\n      <td>...</td>\n      <td>0.000397</td>\n      <td>0.000397</td>\n      <td>0.000397</td>\n      <td>0.000397</td>\n      <td>0.000397</td>\n      <td>0.099243</td>\n      <td>0.000397</td>\n      <td>0.898421</td>\n      <td>0.000811</td>\n      <td>lyophyllaceae</td>\n    </tr>\n    <tr>\n      <th>17</th>\n      <td>0.896132</td>\n      <td>0.000173</td>\n      <td>0.000173</td>\n      <td>0.000122</td>\n      <td>0.000122</td>\n      <td>0.000122</td>\n      <td>0.000122</td>\n      <td>0.000122</td>\n      <td>0.000122</td>\n      <td>0.000122</td>\n      <td>...</td>\n      <td>0.000122</td>\n      <td>0.000122</td>\n      <td>0.000122</td>\n      <td>0.000122</td>\n      <td>0.000122</td>\n      <td>0.030611</td>\n      <td>0.000122</td>\n      <td>0.946025</td>\n      <td>0.000183</td>\n      <td>marasmiaceae</td>\n    </tr>\n    <tr>\n      <th>18</th>\n      <td>0.000173</td>\n      <td>0.000173</td>\n      <td>0.896132</td>\n      <td>0.000122</td>\n      <td>0.633212</td>\n      <td>0.000122</td>\n      <td>0.000122</td>\n      <td>0.000122</td>\n      <td>0.000122</td>\n      <td>0.000122</td>\n      <td>...</td>\n      <td>0.000122</td>\n      <td>0.000122</td>\n      <td>0.000122</td>\n      <td>0.000122</td>\n      <td>0.000122</td>\n      <td>0.000122</td>\n      <td>0.000122</td>\n      <td>0.946025</td>\n      <td>0.000183</td>\n      <td>morchellaceae</td>\n    </tr>\n    <tr>\n      <th>19</th>\n      <td>0.968089</td>\n      <td>0.000011</td>\n      <td>0.000011</td>\n      <td>0.000010</td>\n      <td>0.002439</td>\n      <td>0.000010</td>\n      <td>0.000010</td>\n      <td>0.000010</td>\n      <td>0.000010</td>\n      <td>0.000010</td>\n      <td>...</td>\n      <td>0.010812</td>\n      <td>0.000010</td>\n      <td>0.010812</td>\n      <td>0.000010</td>\n      <td>0.000010</td>\n      <td>0.083405</td>\n      <td>0.000010</td>\n      <td>0.983859</td>\n      <td>0.000011</td>\n      <td>mycenaceae</td>\n    </tr>\n    <tr>\n      <th>20</th>\n      <td>0.896132</td>\n      <td>0.000173</td>\n      <td>0.000173</td>\n      <td>0.000122</td>\n      <td>0.000122</td>\n      <td>0.000122</td>\n      <td>0.000122</td>\n      <td>0.000122</td>\n      <td>0.000122</td>\n      <td>0.000122</td>\n      <td>...</td>\n      <td>0.000122</td>\n      <td>0.000122</td>\n      <td>0.000122</td>\n      <td>0.000122</td>\n      <td>0.000122</td>\n      <td>0.332632</td>\n      <td>0.000122</td>\n      <td>0.946025</td>\n      <td>0.000183</td>\n      <td>omphalotaceae</td>\n    </tr>\n    <tr>\n      <th>21</th>\n      <td>0.680685</td>\n      <td>0.002723</td>\n      <td>0.002723</td>\n      <td>0.001010</td>\n      <td>0.001010</td>\n      <td>0.001010</td>\n      <td>0.001010</td>\n      <td>0.001010</td>\n      <td>0.001010</td>\n      <td>0.001010</td>\n      <td>...</td>\n      <td>0.001010</td>\n      <td>0.001010</td>\n      <td>0.001010</td>\n      <td>0.001010</td>\n      <td>0.001010</td>\n      <td>0.001010</td>\n      <td>0.001010</td>\n      <td>0.818443</td>\n      <td>0.003274</td>\n      <td>paxillaceae</td>\n    </tr>\n    <tr>\n      <th>22</th>\n      <td>0.002723</td>\n      <td>0.002723</td>\n      <td>0.680685</td>\n      <td>0.001010</td>\n      <td>0.001010</td>\n      <td>0.252443</td>\n      <td>0.001010</td>\n      <td>0.001010</td>\n      <td>0.001010</td>\n      <td>0.001010</td>\n      <td>...</td>\n      <td>0.252443</td>\n      <td>0.001010</td>\n      <td>0.001010</td>\n      <td>0.001010</td>\n      <td>0.001010</td>\n      <td>0.001010</td>\n      <td>0.001010</td>\n      <td>0.818443</td>\n      <td>0.003274</td>\n      <td>phallaceae</td>\n    </tr>\n    <tr>\n      <th>23</th>\n      <td>0.928409</td>\n      <td>0.000072</td>\n      <td>0.000072</td>\n      <td>0.000056</td>\n      <td>0.000056</td>\n      <td>0.000056</td>\n      <td>0.014106</td>\n      <td>0.000056</td>\n      <td>0.000056</td>\n      <td>0.000056</td>\n      <td>...</td>\n      <td>0.014106</td>\n      <td>0.000056</td>\n      <td>0.000056</td>\n      <td>0.000056</td>\n      <td>0.000056</td>\n      <td>0.014106</td>\n      <td>0.014106</td>\n      <td>0.385867</td>\n      <td>0.082678</td>\n      <td>physalacriaceae</td>\n    </tr>\n    <tr>\n      <th>24</th>\n      <td>0.811014</td>\n      <td>0.000732</td>\n      <td>0.000732</td>\n      <td>0.000397</td>\n      <td>0.000397</td>\n      <td>0.000397</td>\n      <td>0.000397</td>\n      <td>0.000397</td>\n      <td>0.000397</td>\n      <td>0.000397</td>\n      <td>...</td>\n      <td>0.000397</td>\n      <td>0.000397</td>\n      <td>0.000397</td>\n      <td>0.000397</td>\n      <td>0.000397</td>\n      <td>0.000397</td>\n      <td>0.000397</td>\n      <td>0.898421</td>\n      <td>0.000811</td>\n      <td>pleurotaceae</td>\n    </tr>\n    <tr>\n      <th>25</th>\n      <td>0.896132</td>\n      <td>0.000173</td>\n      <td>0.000173</td>\n      <td>0.000122</td>\n      <td>0.000122</td>\n      <td>0.000122</td>\n      <td>0.000122</td>\n      <td>0.000122</td>\n      <td>0.000122</td>\n      <td>0.000122</td>\n      <td>...</td>\n      <td>0.030611</td>\n      <td>0.000122</td>\n      <td>0.000122</td>\n      <td>0.000122</td>\n      <td>0.000122</td>\n      <td>0.030611</td>\n      <td>0.000122</td>\n      <td>0.946025</td>\n      <td>0.000183</td>\n      <td>pluteaceae</td>\n    </tr>\n    <tr>\n      <th>26</th>\n      <td>0.000319</td>\n      <td>0.353195</td>\n      <td>0.079687</td>\n      <td>0.000205</td>\n      <td>0.000205</td>\n      <td>0.000205</td>\n      <td>0.000205</td>\n      <td>0.000205</td>\n      <td>0.000205</td>\n      <td>0.000205</td>\n      <td>...</td>\n      <td>0.000205</td>\n      <td>0.000205</td>\n      <td>0.000205</td>\n      <td>0.000205</td>\n      <td>0.000205</td>\n      <td>0.000205</td>\n      <td>0.000205</td>\n      <td>0.085538</td>\n      <td>0.379129</td>\n      <td>polyporaceae</td>\n    </tr>\n    <tr>\n      <th>27</th>\n      <td>0.955854</td>\n      <td>0.000023</td>\n      <td>0.000023</td>\n      <td>0.000020</td>\n      <td>0.103060</td>\n      <td>0.054139</td>\n      <td>0.004982</td>\n      <td>0.000020</td>\n      <td>0.000020</td>\n      <td>0.000020</td>\n      <td>...</td>\n      <td>0.004982</td>\n      <td>0.000020</td>\n      <td>0.000020</td>\n      <td>0.000020</td>\n      <td>0.000020</td>\n      <td>0.103060</td>\n      <td>0.000020</td>\n      <td>0.306127</td>\n      <td>0.122631</td>\n      <td>psathyrelaceae</td>\n    </tr>\n    <tr>\n      <th>28</th>\n      <td>0.680685</td>\n      <td>0.002723</td>\n      <td>0.002723</td>\n      <td>0.001010</td>\n      <td>0.001010</td>\n      <td>0.001010</td>\n      <td>0.001010</td>\n      <td>0.001010</td>\n      <td>0.001010</td>\n      <td>0.001010</td>\n      <td>...</td>\n      <td>0.001010</td>\n      <td>0.001010</td>\n      <td>0.001010</td>\n      <td>0.001010</td>\n      <td>0.001010</td>\n      <td>0.001010</td>\n      <td>0.252443</td>\n      <td>0.818443</td>\n      <td>0.003274</td>\n      <td>repetobasidiaceae</td>\n    </tr>\n    <tr>\n      <th>29</th>\n      <td>0.968089</td>\n      <td>0.000011</td>\n      <td>0.000011</td>\n      <td>0.000010</td>\n      <td>0.000010</td>\n      <td>0.000010</td>\n      <td>0.000010</td>\n      <td>0.000010</td>\n      <td>0.000010</td>\n      <td>0.000010</td>\n      <td>...</td>\n      <td>0.026506</td>\n      <td>0.000010</td>\n      <td>0.000010</td>\n      <td>0.083405</td>\n      <td>0.000010</td>\n      <td>0.000010</td>\n      <td>0.026506</td>\n      <td>0.983859</td>\n      <td>0.000011</td>\n      <td>russulaceae</td>\n    </tr>\n    <tr>\n      <th>30</th>\n      <td>0.000732</td>\n      <td>0.811014</td>\n      <td>0.000732</td>\n      <td>0.000397</td>\n      <td>0.439871</td>\n      <td>0.000397</td>\n      <td>0.000397</td>\n      <td>0.000397</td>\n      <td>0.000397</td>\n      <td>0.000397</td>\n      <td>...</td>\n      <td>0.000397</td>\n      <td>0.000397</td>\n      <td>0.000397</td>\n      <td>0.000397</td>\n      <td>0.000397</td>\n      <td>0.000397</td>\n      <td>0.000397</td>\n      <td>0.000811</td>\n      <td>0.898421</td>\n      <td>sclerodermataceae</td>\n    </tr>\n    <tr>\n      <th>31</th>\n      <td>0.959715</td>\n      <td>0.000019</td>\n      <td>0.000019</td>\n      <td>0.000016</td>\n      <td>0.004078</td>\n      <td>0.000016</td>\n      <td>0.004078</td>\n      <td>0.000016</td>\n      <td>0.004078</td>\n      <td>0.000016</td>\n      <td>...</td>\n      <td>0.000016</td>\n      <td>0.000016</td>\n      <td>0.000016</td>\n      <td>0.000016</td>\n      <td>0.000016</td>\n      <td>0.004078</td>\n      <td>0.084349</td>\n      <td>0.788173</td>\n      <td>0.004780</td>\n      <td>strophariaceae</td>\n    </tr>\n    <tr>\n      <th>32</th>\n      <td>0.000732</td>\n      <td>0.811014</td>\n      <td>0.000732</td>\n      <td>0.000397</td>\n      <td>0.000397</td>\n      <td>0.000397</td>\n      <td>0.000397</td>\n      <td>0.000397</td>\n      <td>0.000397</td>\n      <td>0.000397</td>\n      <td>...</td>\n      <td>0.000397</td>\n      <td>0.000397</td>\n      <td>0.000397</td>\n      <td>0.000397</td>\n      <td>0.000397</td>\n      <td>0.000397</td>\n      <td>0.099243</td>\n      <td>0.898421</td>\n      <td>0.000811</td>\n      <td>suillaceae</td>\n    </tr>\n    <tr>\n      <th>33</th>\n      <td>0.971973</td>\n      <td>0.000008</td>\n      <td>0.000008</td>\n      <td>0.000007</td>\n      <td>0.000007</td>\n      <td>0.000007</td>\n      <td>0.001829</td>\n      <td>0.000007</td>\n      <td>0.000007</td>\n      <td>0.000007</td>\n      <td>...</td>\n      <td>0.001829</td>\n      <td>0.000007</td>\n      <td>0.000007</td>\n      <td>0.000007</td>\n      <td>0.000007</td>\n      <td>0.008104</td>\n      <td>0.001829</td>\n      <td>0.726379</td>\n      <td>0.009056</td>\n      <td>tricholomataceae</td>\n    </tr>\n    <tr>\n      <th>34</th>\n      <td>0.680685</td>\n      <td>0.002723</td>\n      <td>0.002723</td>\n      <td>0.001010</td>\n      <td>0.001010</td>\n      <td>0.001010</td>\n      <td>0.001010</td>\n      <td>0.001010</td>\n      <td>0.001010</td>\n      <td>0.001010</td>\n      <td>...</td>\n      <td>0.001010</td>\n      <td>0.001010</td>\n      <td>0.001010</td>\n      <td>0.001010</td>\n      <td>0.001010</td>\n      <td>0.001010</td>\n      <td>0.001010</td>\n      <td>0.818443</td>\n      <td>0.003274</td>\n      <td>tubariaceae</td>\n    </tr>\n  </tbody>\n</table>\n<p>35 rows × 28 columns</p>\n</div>"
     },
     "execution_count": 48,
     "metadata": {},
     "output_type": "execute_result"
    }
   ],
   "source": [
    "df1"
   ]
  },
  {
   "cell_type": "markdown",
   "source": [
    "Creating a DataFrame containing the transformed user input"
   ],
   "metadata": {
    "collapsed": false,
    "pycharm": {
     "name": "#%% md\n"
    }
   }
  },
  {
   "cell_type": "raw",
   "source": [
    "df1.to_csv(\"user_df_family.csv\", index = False) "
   ],
   "metadata": {
    "collapsed": false,
    "pycharm": {
     "name": "#%% raw\n"
    }
   }
  },
  {
   "cell_type": "raw",
   "source": [
    "df1.loc[df1['family'] == user_class]"
   ],
   "metadata": {
    "collapsed": false,
    "pycharm": {
     "name": "#%% raw\n"
    }
   }
  },
  {
   "cell_type": "raw",
   "source": [
    "user_df_mapped = df1.loc[df1['family'] == user_class].drop(columns = 'family')"
   ],
   "metadata": {
    "collapsed": false,
    "pycharm": {
     "name": "#%% raw\n"
    }
   }
  },
  {
   "cell_type": "raw",
   "source": [
    "user_df_mapped"
   ],
   "metadata": {
    "collapsed": false,
    "pycharm": {
     "name": "#%% raw\n"
    }
   }
  },
  {
   "cell_type": "markdown",
   "source": [
    "Creating completed DataFrame to be used when fitting the model"
   ],
   "metadata": {
    "collapsed": false,
    "pycharm": {
     "name": "#%% md\n"
    }
   }
  },
  {
   "cell_type": "raw",
   "source": [
    "df_shrooms1 = df_shrooms"
   ],
   "metadata": {
    "collapsed": false,
    "pycharm": {
     "name": "#%% raw\n"
    }
   }
  },
  {
   "cell_type": "raw",
   "source": [
    "df_shrooms1['family'] = df_ylabel_series"
   ],
   "metadata": {
    "collapsed": false,
    "pycharm": {
     "name": "#%% raw\n"
    }
   }
  },
  {
   "cell_type": "raw",
   "source": [
    "df_shrooms1"
   ],
   "metadata": {
    "collapsed": false,
    "pycharm": {
     "name": "#%% raw\n"
    }
   }
  },
  {
   "cell_type": "raw",
   "source": [
    "df2 = pd.merge(df_shrooms1, df1, on = 'family')"
   ],
   "metadata": {
    "collapsed": false,
    "pycharm": {
     "name": "#%% raw\n"
    }
   }
  },
  {
   "cell_type": "raw",
   "source": [
    "df2.iloc[:, [[0], [7:34]]]"
   ],
   "metadata": {
    "collapsed": false,
    "pycharm": {
     "name": "#%% raw\n"
    }
   }
  },
  {
   "cell_type": "raw",
   "source": [
    "df3 = pd.concat([df2.iloc[:,0], df2.iloc[:, 7:34]], axis =1)"
   ],
   "metadata": {
    "collapsed": false,
    "pycharm": {
     "name": "#%% raw\n"
    }
   }
  },
  {
   "cell_type": "raw",
   "source": [
    "df3"
   ],
   "metadata": {
    "collapsed": false,
    "pycharm": {
     "name": "#%% raw\n"
    }
   }
  },
  {
   "cell_type": "raw",
   "source": [
    "df3.to_csv('Features_prob_full.csv', index = False)"
   ],
   "metadata": {
    "collapsed": false,
    "pycharm": {
     "name": "#%% raw\n"
    }
   }
  },
  {
   "cell_type": "raw",
   "source": [
    "cNB.n_categories_"
   ],
   "metadata": {
    "collapsed": false,
    "pycharm": {
     "name": "#%% raw\n"
    }
   }
  },
  {
   "cell_type": "raw",
   "source": [
    "cNB.feature_log_prob_[0].shape"
   ],
   "metadata": {
    "collapsed": false,
    "pycharm": {
     "name": "#%% raw\n"
    }
   }
  },
  {
   "cell_type": "raw",
   "source": [
    "len(cNB.feature_log_prob_[1][0])"
   ],
   "metadata": {
    "collapsed": false,
    "pycharm": {
     "name": "#%% raw\n"
    }
   }
  }
 ],
 "metadata": {
  "kernelspec": {
   "display_name": "deep_learning",
   "language": "python",
   "name": "deep_learning"
  },
  "language_info": {
   "codemirror_mode": {
    "name": "ipython",
    "version": 3
   },
   "file_extension": ".py",
   "mimetype": "text/x-python",
   "name": "python",
   "nbconvert_exporter": "python",
   "pygments_lexer": "ipython3",
   "version": "3.9.6"
  }
 },
 "nbformat": 4,
 "nbformat_minor": 5
}